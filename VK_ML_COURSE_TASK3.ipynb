{
  "cells": [
    {
      "cell_type": "markdown",
      "metadata": {
        "id": "L8PEOM4NCCT9"
      },
      "source": [
        "# PEFT\n",
        "\n",
        "Сегодня LLM становятся незаменимым инструментом как для полноценного решения продуктовых задач, так и на промежуточных этапах, например, генерация разметки или создание синтетических датасетов. Обучение и дообучение таких моделей может быть ресурсозатратным, поэтому на зачастую полезно использовать Parameter-Efficient Fine-Tuning, PEFT.\n",
        "\n",
        "PEFT позволяет адаптировать крупные языковые модели под конкретные задачи, внося минимальные изменения в архитектуру и обучаясь на сравнительно небольшом объёме данных. Ключевые методы – такие как адаптеры, LoRA или DoRA – демонстрируют высокую эффективность, позволяя достичь конкурентоспособной точности при низких затратах на вычислительные мощности.\n",
        "\n",
        "Представьте, что ваша задача – определить тональность твитов. Твиты – короткие, насыщенные эмоциями и часто саркастичные сообщения, где традиционные модели могут давать сбои из-за неформального стиля и ограниченного контекста. Используя PEFT, вы можете донастроить LLM под особенности твиттер-лексикона, адаптируя модель на небольшом, но репрезентативном наборе данных."
      ]
    },
    {
      "cell_type": "markdown",
      "metadata": {
        "id": "3av_XVGoE0VB"
      },
      "source": [
        "## Импортируем зависимости"
      ]
    },
    {
      "cell_type": "code",
      "execution_count": null,
      "metadata": {
        "execution": {
          "iopub.execute_input": "2025-04-12T17:23:11.232924Z",
          "iopub.status.busy": "2025-04-12T17:23:11.232070Z",
          "iopub.status.idle": "2025-04-12T17:23:15.749760Z",
          "shell.execute_reply": "2025-04-12T17:23:15.748976Z",
          "shell.execute_reply.started": "2025-04-12T17:23:11.232899Z"
        },
        "id": "il6PTSX1dHJs",
        "outputId": "7e079f3c-bc8a-498c-ac8c-06046cbb539a"
      },
      "outputs": [
        {
          "name": "stdout",
          "output_type": "stream",
          "text": [
            "\n",
            "\u001b[1m[\u001b[0m\u001b[34;49mnotice\u001b[0m\u001b[1;39;49m]\u001b[0m\u001b[39;49m A new release of pip is available: \u001b[0m\u001b[31;49m23.0.1\u001b[0m\u001b[39;49m -> \u001b[0m\u001b[32;49m25.0.1\u001b[0m\n",
            "\u001b[1m[\u001b[0m\u001b[34;49mnotice\u001b[0m\u001b[1;39;49m]\u001b[0m\u001b[39;49m To update, run: \u001b[0m\u001b[32;49mpython3 -m pip install --upgrade pip\u001b[0m\n"
          ]
        }
      ],
      "source": [
        "%pip install --quiet datasets bitsandbytes trl peft sentencepiece"
      ]
    },
    {
      "cell_type": "code",
      "execution_count": null,
      "metadata": {
        "execution": {
          "iopub.execute_input": "2025-04-12T17:56:15.161762Z",
          "iopub.status.busy": "2025-04-12T17:56:15.160984Z",
          "iopub.status.idle": "2025-04-12T17:56:22.252341Z",
          "shell.execute_reply": "2025-04-12T17:56:22.251409Z",
          "shell.execute_reply.started": "2025-04-12T17:56:15.161736Z"
        },
        "id": "k1BAjya7dXeZ",
        "tags": [],
        "outputId": "8c446ed7-3d2c-469e-bf41-740510d28a42"
      },
      "outputs": [
        {
          "name": "stderr",
          "output_type": "stream",
          "text": [
            "/home/jupyter/.local/lib/python3.10/site-packages/transformers/utils/hub.py:105: FutureWarning: Using `TRANSFORMERS_CACHE` is deprecated and will be removed in v5 of Transformers. Use `HF_HOME` instead.\n",
            "  warnings.warn(\n",
            "/usr/local/lib/python3.10/dist-packages/torchvision/io/image.py:13: UserWarning: Failed to load image Python extension: '/usr/local/lib/python3.10/dist-packages/torchvision/image.so: undefined symbol: _ZN3c1017RegisterOperatorsD1Ev'If you don't plan on using image functionality from `torchvision.io`, you can ignore this warning. Otherwise, there might be something wrong with your environment. Did you have `libjpeg` or `libpng` installed before building `torchvision` from source?\n",
            "  warn(\n",
            "2025-04-12 17:56:20.235667: I tensorflow/core/platform/cpu_feature_guard.cc:182] This TensorFlow binary is optimized to use available CPU instructions in performance-critical operations.\n",
            "To enable the following instructions: AVX2 FMA, in other operations, rebuild TensorFlow with the appropriate compiler flags.\n",
            "2025-04-12 17:56:21.030274: W tensorflow/compiler/tf2tensorrt/utils/py_utils.cc:38] TF-TRT Warning: Could not find TensorRT\n"
          ]
        }
      ],
      "source": [
        "import gc\n",
        "import os\n",
        "import random\n",
        "import re\n",
        "from functools import partial\n",
        "\n",
        "import numpy as np\n",
        "import torch\n",
        "import torch.nn as nn\n",
        "from datasets import load_dataset\n",
        "from huggingface_hub import HfApi, interpreter_login\n",
        "from peft import LoraConfig, get_peft_model, prepare_model_for_kbit_training\n",
        "from sklearn.metrics import ConfusionMatrixDisplay, confusion_matrix, f1_score\n",
        "from torch.utils.data import DataLoader\n",
        "from tqdm.notebook import tqdm\n",
        "from transformers import AutoModelForCausalLM, AutoTokenizer, BitsAndBytesConfig, TrainingArguments\n",
        "from trl import SFTTrainer"
      ]
    },
    {
      "cell_type": "code",
      "execution_count": null,
      "metadata": {
        "colab": {
          "base_uri": "https://localhost:8080/"
        },
        "execution": {
          "iopub.execute_input": "2025-04-12T17:56:22.254138Z",
          "iopub.status.busy": "2025-04-12T17:56:22.253533Z",
          "iopub.status.idle": "2025-04-12T17:57:00.902378Z",
          "shell.execute_reply": "2025-04-12T17:57:00.901404Z",
          "shell.execute_reply.started": "2025-04-12T17:56:22.254103Z"
        },
        "id": "_-n5o_KE-DQH",
        "outputId": "5661137b-420d-4f3a-df0f-11baf992ed66",
        "tags": []
      },
      "outputs": [
        {
          "name": "stdout",
          "output_type": "stream",
          "text": [
            "\n",
            "    _|    _|  _|    _|    _|_|_|    _|_|_|  _|_|_|  _|      _|    _|_|_|      _|_|_|_|    _|_|      _|_|_|  _|_|_|_|\n",
            "    _|    _|  _|    _|  _|        _|          _|    _|_|    _|  _|            _|        _|    _|  _|        _|\n",
            "    _|_|_|_|  _|    _|  _|  _|_|  _|  _|_|    _|    _|  _|  _|  _|  _|_|      _|_|_|    _|_|_|_|  _|        _|_|_|\n",
            "    _|    _|  _|    _|  _|    _|  _|    _|    _|    _|    _|_|  _|    _|      _|        _|    _|  _|        _|\n",
            "    _|    _|    _|_|      _|_|_|    _|_|_|  _|_|_|  _|      _|    _|_|_|      _|        _|    _|    _|_|_|  _|_|_|_|\n",
            "\n"
          ]
        },
        {
          "name": "stdin",
          "output_type": "stream",
          "text": [
            "Enter your token (input will not be visible):  ········\n",
            "Add token as git credential? (Y/n)  n\n"
          ]
        }
      ],
      "source": [
        "interpreter_login()"
      ]
    },
    {
      "cell_type": "code",
      "execution_count": null,
      "metadata": {
        "colab": {
          "base_uri": "https://localhost:8080/"
        },
        "execution": {
          "iopub.execute_input": "2025-04-12T17:57:03.985196Z",
          "iopub.status.busy": "2025-04-12T17:57:03.984763Z",
          "iopub.status.idle": "2025-04-12T17:57:04.186776Z",
          "shell.execute_reply": "2025-04-12T17:57:04.186096Z",
          "shell.execute_reply.started": "2025-04-12T17:57:03.985174Z"
        },
        "id": "SNdKoLWk-Be-",
        "outputId": "cb27e267-4171-4311-daa3-6dc38de83f1b",
        "tags": []
      },
      "outputs": [
        {
          "name": "stdout",
          "output_type": "stream",
          "text": [
            "Homework repository: 'gsemenyak/llm-course-hw3'\n"
          ]
        }
      ],
      "source": [
        "# Подготовим репозиторий для будущей модели и токенизатора\n",
        "username = HfApi().whoami()[\"name\"]\n",
        "REPO_NAME = f\"{username}/llm-course-hw3\"  # Или как вам хочется\n",
        "\n",
        "SEED = 42\n",
        "\n",
        "print(f\"Homework repository: '{REPO_NAME}'\")"
      ]
    },
    {
      "cell_type": "code",
      "execution_count": null,
      "metadata": {
        "colab": {
          "base_uri": "https://localhost:8080/"
        },
        "execution": {
          "iopub.execute_input": "2025-04-12T17:57:04.431168Z",
          "iopub.status.busy": "2025-04-12T17:57:04.430804Z",
          "iopub.status.idle": "2025-04-12T17:57:04.532950Z",
          "shell.execute_reply": "2025-04-12T17:57:04.532228Z",
          "shell.execute_reply.started": "2025-04-12T17:57:04.431147Z"
        },
        "id": "l4yiCPkk9_1I",
        "outputId": "04a49292-4c55-406c-d4a5-81d1d52f9c27",
        "tags": []
      },
      "outputs": [
        {
          "name": "stdout",
          "output_type": "stream",
          "text": [
            "DEVICE='cuda'\n"
          ]
        }
      ],
      "source": [
        "def set_seed(seed=42):\n",
        "    torch.manual_seed(seed)\n",
        "    torch.cuda.manual_seed_all(seed)\n",
        "    np.random.seed(seed)\n",
        "    random.seed(seed)\n",
        "\n",
        "\n",
        "# Этой функцией будут помечены все места, которые необходимо дозаполнить\n",
        "# Это могут быть как целые функции, так и отдельные части внутри них\n",
        "# Всегда можно воспользоваться интроспекцией и найти места использования этой функции :)\n",
        "def todo():\n",
        "    stack = inspect.stack()\n",
        "    caller_frame = stack[1]\n",
        "    function_name = caller_frame.function\n",
        "    line_number = caller_frame.lineno\n",
        "    raise NotImplementedError(f\"TODO at {function_name}, line {line_number}\")\n",
        "\n",
        "\n",
        "if torch.cuda.is_available():\n",
        "    DEVICE = \"cuda\"\n",
        "elif torch.backends.mps.is_available():\n",
        "    DEVICE = \"mps\"\n",
        "else:\n",
        "    DEVICE = \"cpu\"\n",
        "\n",
        "set_seed(SEED)\n",
        "print(f\"{DEVICE=}\")"
      ]
    },
    {
      "cell_type": "markdown",
      "metadata": {
        "id": "m6g6d07CeCMo"
      },
      "source": [
        "В качестве базовой модели возьмем [`Lite-Oute-1-300M-Instruct`](https://huggingface.co/OuteAI/Lite-Oute-1-300M-Instruct).\n",
        "Она использует за основу Mistral и насчитывает около 300 млн параметров, размер контекста до 4096 токенов.\n",
        "\n",
        "Вы можете использовать любую другую модель, однако обратите внимание, что используете на `Instruct` версию."
      ]
    },
    {
      "cell_type": "code",
      "execution_count": null,
      "metadata": {
        "execution": {
          "iopub.execute_input": "2025-04-12T17:57:05.100030Z",
          "iopub.status.busy": "2025-04-12T17:57:05.099543Z",
          "iopub.status.idle": "2025-04-12T17:57:06.422246Z",
          "shell.execute_reply": "2025-04-12T17:57:06.421149Z",
          "shell.execute_reply.started": "2025-04-12T17:57:05.100007Z"
        },
        "id": "v-ZP8x0-FWNp",
        "tags": []
      },
      "outputs": [],
      "source": [
        "MODEL_NAME = \"OuteAI/Lite-Oute-1-300M-Instruct\"\n",
        "\n",
        "model = AutoModelForCausalLM.from_pretrained(MODEL_NAME)\n",
        "model = model.to(DEVICE)\n",
        "\n",
        "os.environ[\"PROTOCOL_BUFFERS_PYTHON_IMPLEMENTATION\"] = \"python\"\n",
        "tokenizer = AutoTokenizer.from_pretrained(MODEL_NAME)\n",
        "tokenizer.pad_token = tokenizer.eos_token\n",
        "tokenizer.padding_side = \"left\""
      ]
    },
    {
      "cell_type": "markdown",
      "metadata": {
        "id": "TlOV4EKtJYGo"
      },
      "source": [
        "## Подготовка данных [2 балла]"
      ]
    },
    {
      "cell_type": "markdown",
      "metadata": {
        "id": "XrsY38DxeCMp"
      },
      "source": [
        "Думаю, вы уже задумались над тем, что качество датасета для модели такого размера будет заметно влиять на перфоманс модели после обучения. Это действительно так, более того есть интересное исследование и на больших моделях: [LIMA: Less Is More for Alignment](https://arxiv.org/abs/2305.11206) показывает, что даже большие модели (например, Llama 65B) можно успешно обучить на небольшом, но исключительно качественном наборе данных.\n",
        "\n",
        "Для нашей задачи воспользуемся стандартным датасетом классификации твиттов по тональности: [`cardiffnlp/tweet_eval`](https://huggingface.co/datasets/cardiffnlp/tweet_eval)."
      ]
    },
    {
      "cell_type": "code",
      "execution_count": null,
      "metadata": {
        "colab": {
          "base_uri": "https://localhost:8080/"
        },
        "execution": {
          "iopub.execute_input": "2025-04-12T17:57:06.423751Z",
          "iopub.status.busy": "2025-04-12T17:57:06.423360Z",
          "iopub.status.idle": "2025-04-12T17:57:09.295018Z",
          "shell.execute_reply": "2025-04-12T17:57:09.294183Z",
          "shell.execute_reply.started": "2025-04-12T17:57:06.423727Z"
        },
        "id": "uhaucbodjoyJ",
        "outputId": "0fa0469f-a8df-48ca-9e39-0965515f4a75",
        "tags": []
      },
      "outputs": [
        {
          "name": "stdout",
          "output_type": "stream",
          "text": [
            "text: \"QT @user In the original draft of the 7th book, Remus Lupin survived the Battle of Hogwarts. #HappyBirthdayRemusLupin\"\n",
            "label: 2\n",
            "str_label: positive\n",
            "==========\n",
            "text: \"Ben Smith / Smith (concussion) remains out of the lineup Thursday, Curtis #NHL #SJ\"\n",
            "label: 1\n",
            "str_label: neutral\n",
            "==========\n",
            "text: Sorry bout the stream last night I crashed out but will be on tonight for sure. Then back to Minecraft in pc tomorrow night.\n",
            "label: 1\n",
            "str_label: neutral\n",
            "==========\n",
            "text: Chase Headley's RBI double in the 8th inning off David Price snapped a Yankees streak of 33 consecutive scoreless innings against Blue Jays\n",
            "label: 1\n",
            "str_label: neutral\n",
            "==========\n",
            "text: @user Alciato: Bee will invest 150 million in January, another 200 in the Summer and plans to bring Messi by 2017\"\n",
            "label: 2\n",
            "str_label: positive\n",
            "==========\n"
          ]
        }
      ],
      "source": [
        "dataset = load_dataset(\"cardiffnlp/tweet_eval\", \"sentiment\")\n",
        "\n",
        "IDX2NAME = {0: \"negative\", 1: \"neutral\", 2: \"positive\"}\n",
        "\n",
        "\n",
        "def add_str_label(example):\n",
        "    example[\"str_label\"] = IDX2NAME[example[\"label\"]]\n",
        "    return example\n",
        "\n",
        "\n",
        "for split, data in dataset.items():\n",
        "    dataset[split] = data.map(add_str_label)\n",
        "\n",
        "for i in range(5):\n",
        "    for k, v in dataset[\"train\"][i].items():\n",
        "        print(f\"{k}: {v}\")\n",
        "    print(\"=\" * 10)"
      ]
    },
    {
      "cell_type": "markdown",
      "metadata": {
        "id": "nvrtTaU3JYGo"
      },
      "source": [
        "Для подготовки датасета необходими\n",
        "\n",
        "1. Задать системный промпт, в нем полезно описать задачу, а также определить формат генерации. В нашем случае это одно слово – название класса.\n",
        "2. Задать пользовательский промпт, в котором будет находиться текст на классификацию.\n",
        "3. Применить `chat_template` с помощью метода `tokenizer.apply_chat_template`, добавить начало генерации ассистента.\n",
        "4. Токенизировать датасет."
      ]
    },
    {
      "cell_type": "code",
      "execution_count": null,
      "metadata": {
        "colab": {
          "base_uri": "https://localhost:8080/"
        },
        "execution": {
          "iopub.execute_input": "2025-04-12T17:57:09.296759Z",
          "iopub.status.busy": "2025-04-12T17:57:09.296394Z",
          "iopub.status.idle": "2025-04-12T17:57:09.312135Z",
          "shell.execute_reply": "2025-04-12T17:57:09.311396Z",
          "shell.execute_reply.started": "2025-04-12T17:57:09.296738Z"
        },
        "id": "gwGyELHEJYGo",
        "outputId": "7259af8d-9b1b-4c7e-b2cb-32746e8f588e",
        "tags": []
      },
      "outputs": [
        {
          "name": "stdout",
          "output_type": "stream",
          "text": [
            "SYSTEM_PROMPT=\"Classify user's text. Answer ONLY ONE word in the ONLY ONE line and no more before and after. No repetitions, no additional new lines. Answer can be: positive, neutral or negative.\"\n"
          ]
        }
      ],
      "source": [
        "SYSTEM_PROMPT = \"\"\"\n",
        "Classify user's text.\n",
        "Answer ONLY ONE word in the ONLY ONE line and no more before and after.\n",
        "No repetitions, no additional new lines.\n",
        "Answer can be: positive, neutral or negative.\n",
        "\"\"\".strip().replace(\"\\n\", \" \")\n",
        "\n",
        "print(f\"{SYSTEM_PROMPT=}\")\n",
        "\n",
        "\n",
        "def process_example(example, *, tokenizer, system_prompt=SYSTEM_PROMPT):\n",
        "    \"\"\"Pprocesses a single example by constructing a chat-based prompt and tokenizing it.\n",
        "\n",
        "    Process:\n",
        "        1. Constructs a conversation comprising three roles:\n",
        "            - \"system\": Provides instructions for classifying the sentiment.\n",
        "            - \"user\": Presents the input message.\n",
        "            - \"assistant\": Contains the expected sentiment answer.\n",
        "        2. Applies the chat template to generate the full prompt.\n",
        "\n",
        "    Parameters:\n",
        "        example (dict): A dictionary with keys:\n",
        "            - 'text': The message to be classified.\n",
        "            - 'str_label': The expected sentiment label.\n",
        "        system_prompt (str): System prompt to use\n",
        "\n",
        "    Returns:\n",
        "        dict: Extended dictionary containing conversational prompts:\n",
        "            - 'prompt': Input task\n",
        "            - 'full_prompt': Full conversation including task label\n",
        "    \"\"\"\n",
        "    # todo()\n",
        "    conversation = [\n",
        "        {\"role\": \"system\", \"content\": system_prompt},\n",
        "        {\"role\": \"user\", \"content\": example[\"text\"]},\n",
        "        {\"role\": \"assistant\", \"content\": example[\"str_label\"]}\n",
        "    ]\n",
        "    full_prompt = tokenizer.apply_chat_template(conversation, tokenize=False, add_generation_prompt=False)\n",
        "    prompt = full_prompt.split(\"<|im_start|>assistant\\n\")[0] + \"<|im_start|>assistant\\n\"\n",
        "    if not full_prompt.endswith(tokenizer.eos_token):\n",
        "         full_prompt += tokenizer.eos_token\n",
        "    return {\"prompt\": prompt, \"full_prompt\": full_prompt}"
      ]
    },
    {
      "cell_type": "code",
      "execution_count": null,
      "metadata": {
        "colab": {
          "base_uri": "https://localhost:8080/"
        },
        "execution": {
          "iopub.execute_input": "2025-04-12T17:57:09.313424Z",
          "iopub.status.busy": "2025-04-12T17:57:09.312897Z",
          "iopub.status.idle": "2025-04-12T17:57:09.401252Z",
          "shell.execute_reply": "2025-04-12T17:57:09.400473Z",
          "shell.execute_reply.started": "2025-04-12T17:57:09.313404Z"
        },
        "id": "iMA4x4O5joyK",
        "outputId": "3668e2ae-9f05-40e4-c006-8a356c6ebd8f",
        "tags": []
      },
      "outputs": [
        {
          "name": "stdout",
          "output_type": "stream",
          "text": [
            "text: \"QT @user In the original draft of the 7th book, Remus Lupin survived the Battle of Hogwarts. #HappyBirthdayRemusLupin\"\n",
            "label: 2\n",
            "str_label: positive\n",
            "prompt: <|im_start|>system\n",
            "Classify user's text. Answer ONLY ONE word in the ONLY ONE line and no more before and after. No repetitions, no additional new lines. Answer can be: positive, neutral or negative.<|im_end|>\n",
            "<|im_start|>user\n",
            "\"QT @user In the original draft of the 7th book, Remus Lupin survived the Battle of Hogwarts. #HappyBirthdayRemusLupin\"<|im_end|>\n",
            "<|im_start|>assistant\n",
            "\n",
            "full_prompt: <|im_start|>system\n",
            "Classify user's text. Answer ONLY ONE word in the ONLY ONE line and no more before and after. No repetitions, no additional new lines. Answer can be: positive, neutral or negative.<|im_end|>\n",
            "<|im_start|>user\n",
            "\"QT @user In the original draft of the 7th book, Remus Lupin survived the Battle of Hogwarts. #HappyBirthdayRemusLupin\"<|im_end|>\n",
            "<|im_start|>assistant\n",
            "positive<|im_end|>\n",
            "<|im_end|>\n",
            "==========\n",
            "text: \"Ben Smith / Smith (concussion) remains out of the lineup Thursday, Curtis #NHL #SJ\"\n",
            "label: 1\n",
            "str_label: neutral\n",
            "prompt: <|im_start|>system\n",
            "Classify user's text. Answer ONLY ONE word in the ONLY ONE line and no more before and after. No repetitions, no additional new lines. Answer can be: positive, neutral or negative.<|im_end|>\n",
            "<|im_start|>user\n",
            "\"Ben Smith / Smith (concussion) remains out of the lineup Thursday, Curtis #NHL #SJ\"<|im_end|>\n",
            "<|im_start|>assistant\n",
            "\n",
            "full_prompt: <|im_start|>system\n",
            "Classify user's text. Answer ONLY ONE word in the ONLY ONE line and no more before and after. No repetitions, no additional new lines. Answer can be: positive, neutral or negative.<|im_end|>\n",
            "<|im_start|>user\n",
            "\"Ben Smith / Smith (concussion) remains out of the lineup Thursday, Curtis #NHL #SJ\"<|im_end|>\n",
            "<|im_start|>assistant\n",
            "neutral<|im_end|>\n",
            "<|im_end|>\n",
            "==========\n"
          ]
        }
      ],
      "source": [
        "for split, data in dataset.items():\n",
        "    dataset[split] = data.map(process_example, fn_kwargs={\"tokenizer\": tokenizer})\n",
        "\n",
        "for i in range(2):\n",
        "    for k, v in dataset[\"train\"][i].items():\n",
        "        print(f\"{k}: {v}\")\n",
        "    print(\"=\" * 10)"
      ]
    },
    {
      "cell_type": "code",
      "execution_count": null,
      "metadata": {
        "colab": {
          "base_uri": "https://localhost:8080/",
          "height": 762,
          "referenced_widgets": [
            "308ab4cdb6a44a9ab43054847ace0d37",
            "3b909d61375146538600b69073b9363c",
            "c74bb735f3014184af0ca9235d5a90ed",
            "92903f8cb80d4dfdb54f7afc48643eb1",
            "a164598e043446789e88688037e38d16",
            "f280d5cf6d444fd1b237f0f12d82d00c",
            "1b6c9cf2a0054d3b9db812ae6757a86c",
            "d195aecd01304771ba597a92efaad2a8",
            "3ab4fc92744a4811b28d6550ff19fbc2",
            "68df2f1a51d14b23b4b00ff920dedab9",
            "be695502c8294244a03b26fdff68e1f4"
          ]
        },
        "execution": {
          "iopub.execute_input": "2025-04-12T17:57:09.402839Z",
          "iopub.status.busy": "2025-04-12T17:57:09.402452Z",
          "iopub.status.idle": "2025-04-12T17:57:09.486576Z",
          "shell.execute_reply": "2025-04-12T17:57:09.485808Z",
          "shell.execute_reply.started": "2025-04-12T17:57:09.402817Z"
        },
        "id": "lS8wPkiXjoyK",
        "outputId": "1ad02a19-4ba4-4560-a840-59bb73f5eebd",
        "tags": []
      },
      "outputs": [
        {
          "name": "stdout",
          "output_type": "stream",
          "text": [
            "text: \"QT @user In the original draft of the 7th book, Remus Lupin survived the Battle of Hogwarts. #HappyBirthdayRemusLupin\"\n",
            "label: 2\n",
            "str_label: positive\n",
            "prompt: <|im_start|>system\n",
            "Classify user's text. Answer ONLY ONE word in the ONLY ONE line and no more before and after. No repetitions, no additional new lines. Answer can be: positive, neutral or negative.<|im_end|>\n",
            "<|im_start|>user\n",
            "\"QT @user In the original draft of the 7th book, Remus Lupin survived the Battle of Hogwarts. #HappyBirthdayRemusLupin\"<|im_end|>\n",
            "<|im_start|>assistant\n",
            "\n",
            "full_prompt: <|im_start|>system\n",
            "Classify user's text. Answer ONLY ONE word in the ONLY ONE line and no more before and after. No repetitions, no additional new lines. Answer can be: positive, neutral or negative.<|im_end|>\n",
            "<|im_start|>user\n",
            "\"QT @user In the original draft of the 7th book, Remus Lupin survived the Battle of Hogwarts. #HappyBirthdayRemusLupin\"<|im_end|>\n",
            "<|im_start|>assistant\n",
            "positive<|im_end|>\n",
            "<|im_end|>\n",
            "input_ids: [1, 32001, 1587, 13, 2472, 1575, 2188, 28742, 28713, 2245, 28723, 26307, 9688, 9880, 26071, 1707, 297, 272, 9688, 9880, 26071, 1407, 304, 708, 680, 1159, 304, 1024, 28723, 1770, 21435, 2065, 28725, 708, 4870, 633, 4715, 28723, 26307, 541, 347, 28747, 5278, 28725, 14214, 442, 7087, 28723, 32000, 28705, 13, 32001, 2188, 13, 28739, 28824, 28738, 802, 1838, 560, 272, 3493, 10449, 302, 272, 28705, 28787, 362, 1820, 28725, 4561, 381, 393, 715, 262, 16761, 272, 13711, 302, 382, 476, 28727, 8060, 28723, 422, 28769, 9813, 28760, 4633, 1466, 5139, 381, 28758, 715, 262, 28739, 32000, 28705, 13, 32001, 13892, 13]\n",
            "full_input_ids: [1, 32001, 1587, 13, 2472, 1575, 2188, 28742, 28713, 2245, 28723, 26307, 9688, 9880, 26071, 1707, 297, 272, 9688, 9880, 26071, 1407, 304, 708, 680, 1159, 304, 1024, 28723, 1770, 21435, 2065, 28725, 708, 4870, 633, 4715, 28723, 26307, 541, 347, 28747, 5278, 28725, 14214, 442, 7087, 28723, 32000, 28705, 13, 32001, 2188, 13, 28739, 28824, 28738, 802, 1838, 560, 272, 3493, 10449, 302, 272, 28705, 28787, 362, 1820, 28725, 4561, 381, 393, 715, 262, 16761, 272, 13711, 302, 382, 476, 28727, 8060, 28723, 422, 28769, 9813, 28760, 4633, 1466, 5139, 381, 28758, 715, 262, 28739, 32000, 28705, 13, 32001, 13892, 13, 1065, 2468, 32000, 28705, 13, 32000]\n",
            "==========\n",
            "text: \"Ben Smith / Smith (concussion) remains out of the lineup Thursday, Curtis #NHL #SJ\"\n",
            "label: 1\n",
            "str_label: neutral\n",
            "prompt: <|im_start|>system\n",
            "Classify user's text. Answer ONLY ONE word in the ONLY ONE line and no more before and after. No repetitions, no additional new lines. Answer can be: positive, neutral or negative.<|im_end|>\n",
            "<|im_start|>user\n",
            "\"Ben Smith / Smith (concussion) remains out of the lineup Thursday, Curtis #NHL #SJ\"<|im_end|>\n",
            "<|im_start|>assistant\n",
            "\n",
            "full_prompt: <|im_start|>system\n",
            "Classify user's text. Answer ONLY ONE word in the ONLY ONE line and no more before and after. No repetitions, no additional new lines. Answer can be: positive, neutral or negative.<|im_end|>\n",
            "<|im_start|>user\n",
            "\"Ben Smith / Smith (concussion) remains out of the lineup Thursday, Curtis #NHL #SJ\"<|im_end|>\n",
            "<|im_start|>assistant\n",
            "neutral<|im_end|>\n",
            "<|im_end|>\n",
            "input_ids: [1, 32001, 1587, 13, 2472, 1575, 2188, 28742, 28713, 2245, 28723, 26307, 9688, 9880, 26071, 1707, 297, 272, 9688, 9880, 26071, 1407, 304, 708, 680, 1159, 304, 1024, 28723, 1770, 21435, 2065, 28725, 708, 4870, 633, 4715, 28723, 26307, 541, 347, 28747, 5278, 28725, 14214, 442, 7087, 28723, 32000, 28705, 13, 32001, 2188, 13, 28739, 18113, 6717, 732, 6717, 325, 514, 18637, 28731, 7520, 575, 302, 272, 1407, 715, 10983, 28725, 22050, 278, 422, 28759, 11758, 422, 28735, 28798, 28739, 32000, 28705, 13, 32001, 13892, 13]\n",
            "full_input_ids: [1, 32001, 1587, 13, 2472, 1575, 2188, 28742, 28713, 2245, 28723, 26307, 9688, 9880, 26071, 1707, 297, 272, 9688, 9880, 26071, 1407, 304, 708, 680, 1159, 304, 1024, 28723, 1770, 21435, 2065, 28725, 708, 4870, 633, 4715, 28723, 26307, 541, 347, 28747, 5278, 28725, 14214, 442, 7087, 28723, 32000, 28705, 13, 32001, 2188, 13, 28739, 18113, 6717, 732, 6717, 325, 514, 18637, 28731, 7520, 575, 302, 272, 1407, 715, 10983, 28725, 22050, 278, 422, 28759, 11758, 422, 28735, 28798, 28739, 32000, 28705, 13, 32001, 13892, 13, 23806, 1650, 32000, 28705, 13, 32000]\n",
            "==========\n"
          ]
        }
      ],
      "source": [
        "def tokenization(example, *, tokenizer, max_length=256):\n",
        "    \"\"\"Tokenize both prompt and full prompt and\n",
        "    save result in `input_ids` and `full_input_ids` keys along with original keys\n",
        "    \"\"\"\n",
        "    # todo()\n",
        "    prompt_ids = tokenizer(example[\"prompt\"], truncation=True, max_length=max_length, padding=False)[\"input_ids\"]\n",
        "    full_prompt_ids = tokenizer(example[\"full_prompt\"], truncation=True, max_length=max_length, padding=False)[\"input_ids\"]\n",
        "    return {**example, \"input_ids\": prompt_ids, \"full_input_ids\": full_prompt_ids}\n",
        "\n",
        "for split, data in dataset.items():\n",
        "    dataset[split] = data.map(tokenization, batched=True, fn_kwargs={\"tokenizer\": tokenizer})\n",
        "\n",
        "for i in range(2):\n",
        "    for k, v in dataset[\"train\"][i].items():\n",
        "        print(f\"{k}: {v}\")\n",
        "    print(\"=\" * 10)"
      ]
    },
    {
      "cell_type": "markdown",
      "metadata": {
        "id": "iujjPbgZJYGp"
      },
      "source": [
        "Попробуем решить задачу исходной моделью!"
      ]
    },
    {
      "cell_type": "code",
      "execution_count": null,
      "metadata": {
        "colab": {
          "base_uri": "https://localhost:8080/"
        },
        "execution": {
          "iopub.execute_input": "2025-04-12T17:57:09.488179Z",
          "iopub.status.busy": "2025-04-12T17:57:09.487314Z",
          "iopub.status.idle": "2025-04-12T17:57:11.598547Z",
          "shell.execute_reply": "2025-04-12T17:57:11.597769Z",
          "shell.execute_reply.started": "2025-04-12T17:57:09.488157Z"
        },
        "id": "tDY0RXhlB07s",
        "outputId": "250a17b4-86e2-42c9-8b55-8daeba7a2ff1",
        "tags": []
      },
      "outputs": [
        {
          "name": "stdout",
          "output_type": "stream",
          "text": [
            "\"QT @user In the original draft of the 7th book, Remus Lupin survived the Battle of Hogwarts. #HappyBirthdayRemusLupin\"\n",
            "positive\n",
            "negative       \n",
            "==========\n",
            "\"Ben Smith / Smith (concussion) remains out of the lineup Thursday, Curtis #NHL #SJ\"\n",
            "neutral\n",
            "positive  \n",
            "  \n",
            "  \n",
            "\n",
            "==========\n",
            "Sorry bout the stream last night I crashed out but will be on tonight for sure. Then back to Minecraft in pc tomorrow night.\n",
            "neutral\n",
            "positive       \n",
            "==========\n",
            "Chase Headley's RBI double in the 8th inning off David Price snapped a Yankees streak of 33 consecutive scoreless innings against Blue Jays\n",
            "neutral\n",
            "positive       \n",
            "==========\n",
            "@user Alciato: Bee will invest 150 million in January, another 200 in the Summer and plans to bring Messi by 2017\"\n",
            "positive\n",
            "negative \n",
            " \n",
            " \n",
            " \n",
            " \n",
            "\n",
            "==========\n"
          ]
        }
      ],
      "source": [
        "def generate_class(model, tokenizer, input_ids):\n",
        "    output_ids = model.generate(input_ids, max_new_tokens=16)\n",
        "    generated_text = tokenizer.decode(output_ids[0][len(input_ids[0]) :], skip_special_tokens=True)\n",
        "    return generated_text\n",
        "\n",
        "\n",
        "for i in range(5):\n",
        "    input_ids = torch.tensor([dataset[\"train\"][i][\"input_ids\"]], device=DEVICE)\n",
        "    generated_text = generate_class(model, tokenizer, input_ids)\n",
        "    print(dataset[\"train\"][i][\"text\"])\n",
        "    print(dataset[\"train\"][i][\"str_label\"])\n",
        "    print(generated_text)\n",
        "    print(\"=\" * 10)"
      ]
    },
    {
      "cell_type": "markdown",
      "metadata": {
        "id": "dx0Uj4riJYGp"
      },
      "source": [
        "Если вам повезло, после слова `assistant` вы увидите определение сентиментальности входящего текста. Однако, скорее всего, модель не обучена возвращать исключительно название тональности, поэтому необходим постпроцессинг ответа. Рассмотрим самый простой способ его реализации."
      ]
    },
    {
      "cell_type": "markdown",
      "metadata": {
        "id": "JTxJZ3ZgJYGp"
      },
      "source": [
        "## Bonus: постпроцессинг [1 балл]"
      ]
    },
    {
      "cell_type": "markdown",
      "metadata": {
        "id": "FZ8zHFD3JYGp"
      },
      "source": [
        "Ниже приведена базовая реализация функции для выделения сентиментальности текста. Однако текущая реализация имеет несколько недостатков: она может не учитывать нестандартное форматирование ответа модели, дополнительные символы или ошибки пунктуации. У вас есть возможность улучшить эту функцию, обосновать выявленные ограничения и предложить более продвинутую версию, способную корректно обрабатывать различные варианты вывода модели.\n",
        "\n",
        "Если вы не хотите в этом копаться, то просто пропустите задание"
      ]
    },
    {
      "cell_type": "code",
      "execution_count": null,
      "metadata": {
        "execution": {
          "iopub.execute_input": "2025-04-12T17:57:11.600417Z",
          "iopub.status.busy": "2025-04-12T17:57:11.600061Z",
          "iopub.status.idle": "2025-04-12T17:57:11.616571Z",
          "shell.execute_reply": "2025-04-12T17:57:11.615895Z",
          "shell.execute_reply.started": "2025-04-12T17:57:11.600389Z"
        },
        "id": "QwFX6rtOyx0A",
        "tags": []
      },
      "outputs": [],
      "source": [
        "def postprocess_sentiment(output_text: str) -> str:\n",
        "    \"\"\"\n",
        "    Extracts the sentiment classification (\"positive\" or \"negative\") from the model's output text.\n",
        "\n",
        "    Process:\n",
        "        1. Splits the output at the first occurrence of the keyword \"assistant\" and processes the text after it.\n",
        "        2. Uses a regular expression to search for the first occurrence of the words \"positive\" or \"negative\" (ignoring case).\n",
        "        3. Returns the found sentiment in lowercase. If no match is found, returns an empty string.\n",
        "\n",
        "    Parameters:\n",
        "        output_text (str): The complete text output from the model, including conversation headers.\n",
        "\n",
        "    Returns:\n",
        "        str: The sentiment classification or empty string\n",
        "    \"\"\"\n",
        "\n",
        "    parts = output_text.split(\"assistant\", 1)\n",
        "    text_to_process = parts[1] if len(parts) > 1 else output_text\n",
        "\n",
        "    match = re.search(rf\"\\b({'|'.join(IDX2NAME.values())})\\b\", text_to_process, re.IGNORECASE)\n",
        "    return match.group(1).lower() if match else \"\""
      ]
    },
    {
      "cell_type": "code",
      "execution_count": null,
      "metadata": {
        "execution": {
          "iopub.execute_input": "2025-04-12T17:57:11.617499Z",
          "iopub.status.busy": "2025-04-12T17:57:11.617132Z",
          "iopub.status.idle": "2025-04-12T17:57:11.630547Z",
          "shell.execute_reply": "2025-04-12T17:57:11.629859Z",
          "shell.execute_reply.started": "2025-04-12T17:57:11.617480Z"
        },
        "id": "AqQD9e17-8uR",
        "tags": []
      },
      "outputs": [],
      "source": [
        "import re\n",
        "\n",
        "SENTIMENT_SYNONYMS = {\n",
        "    \"positive\": {\"positive\", \"positiv\", \"good\", \"great\", \"happy\", \"pleasant\", \"favorable\", \"👍\", \"😊\"},\n",
        "    \"negative\": {\"negative\", \"negativ\", \"bad\", \"sad\", \"unpleasant\", \"poor\", \"👎\", \"😞\"},\n",
        "    \"neutral\": {\"neutral\", \"indifferent\", \"meh\", \"average\", \"okay\", \"fine\", \"so-so\", \"😐\"},\n",
        "}\n",
        "\n",
        "def new_postprocess_sentiment(output_text: str) -> str:\n",
        "    \"\"\"\n",
        "    Extracts the sentiment classification (\"positive\" or \"negative\") from the model's output text.\n",
        "\n",
        "    Process:\n",
        "        1. Splits the output at the first occurrence of the keyword \"assistant\" and processes the text after it.\n",
        "        2. Uses a regular expression to search for the first occurrence of the words \"positive\" or \"negative\" (ignoring case).\n",
        "        3. Returns the found sentiment in lowercase. If no match is found, returns an empty string.\n",
        "\n",
        "    Parameters:\n",
        "        output_text (str): The complete text output from the model, including conversation headers.\n",
        "\n",
        "    Returns:\n",
        "        str: The sentiment classification or empty string\n",
        "    \"\"\"\n",
        "    cleaned_text = output_text.lower()\n",
        "    cleaned_text = re.sub(r\"[^\\w\\s:;.\\-!+😊😞👎👍😐]\", \"\", cleaned_text)\n",
        "    patterns = [\n",
        "        r\"sentiment\\s*[:\\-]?\\s*(\\w+)\",\n",
        "        r\"label\\s*[:\\-]?\\s*(\\w+)\",\n",
        "        r\"predicted\\s*sentiment\\s*[:\\-]?\\s*(\\w+)\",\n",
        "        r\"classification\\s*[:\\-]?\\s*(\\w+)\",\n",
        "        r\"it's\\s+a\\s+(\\w+)\\s+sentiment\",\n",
        "        r\"overall\\s+it\\s+seems\\s+(\\w+)\",\n",
        "    ]\n",
        "    for pattern in patterns:\n",
        "        match = re.search(pattern, cleaned_text)\n",
        "        if match:\n",
        "            word = match.group(1)\n",
        "            for label, synonyms in SENTIMENT_SYNONYMS.items():\n",
        "                if word in synonyms:\n",
        "                    return label\n",
        "    for label, synonyms in SENTIMENT_SYNONYMS.items():\n",
        "        for syn in synonyms:\n",
        "            if re.search(rf\"\\b{re.escape(syn)}\\b\", cleaned_text):\n",
        "                return label\n",
        "    return \"\""
      ]
    },
    {
      "cell_type": "code",
      "execution_count": null,
      "metadata": {
        "colab": {
          "base_uri": "https://localhost:8080/",
          "height": 36
        },
        "execution": {
          "iopub.execute_input": "2025-04-12T17:57:11.631761Z",
          "iopub.status.busy": "2025-04-12T17:57:11.631240Z",
          "iopub.status.idle": "2025-04-12T17:57:11.643569Z",
          "shell.execute_reply": "2025-04-12T17:57:11.642877Z",
          "shell.execute_reply.started": "2025-04-12T17:57:11.631742Z"
        },
        "id": "65agkcwRJYGp",
        "outputId": "134774ea-9308-4eb3-cb55-5dfeea4e85c8",
        "tags": []
      },
      "outputs": [
        {
          "data": {
            "text/plain": [
              "'neutral'"
            ]
          },
          "execution_count": 13,
          "metadata": {},
          "output_type": "execute_result"
        }
      ],
      "source": [
        "postprocess_sentiment(\"This text is neutral, not positive or negative\")"
      ]
    },
    {
      "cell_type": "code",
      "execution_count": null,
      "metadata": {
        "colab": {
          "base_uri": "https://localhost:8080/",
          "height": 36
        },
        "execution": {
          "iopub.execute_input": "2025-04-12T17:57:11.644885Z",
          "iopub.status.busy": "2025-04-12T17:57:11.644325Z",
          "iopub.status.idle": "2025-04-12T17:57:11.656538Z",
          "shell.execute_reply": "2025-04-12T17:57:11.655910Z",
          "shell.execute_reply.started": "2025-04-12T17:57:11.644866Z"
        },
        "id": "dxlskt29kYSM",
        "outputId": "576aa924-8380-42fe-c856-914ae000b097",
        "tags": []
      },
      "outputs": [
        {
          "data": {
            "text/plain": [
              "'positive'"
            ]
          },
          "execution_count": 14,
          "metadata": {},
          "output_type": "execute_result"
        }
      ],
      "source": [
        "new_postprocess_sentiment(\"This text is neutral, not positive or negative\")"
      ]
    },
    {
      "cell_type": "markdown",
      "metadata": {
        "id": "hv41I7wEJYGp"
      },
      "source": [
        "## Оценка модели"
      ]
    },
    {
      "cell_type": "markdown",
      "metadata": {
        "id": "u90EX9_aJYGp"
      },
      "source": [
        "Давайте оценим качество нашей модели. Для этого напишем функцию `eval`, которая принимает модель и датасет, генерирует для каждого примера предсказание и вычисляет точность классификации, сравнивая полученные результаты с истинными метками. Построим матрицу ошибок и посчитаем f1 для каждого класса."
      ]
    },
    {
      "cell_type": "code",
      "execution_count": null,
      "metadata": {
        "execution": {
          "iopub.execute_input": "2025-04-12T17:57:11.941997Z",
          "iopub.status.busy": "2025-04-12T17:57:11.940999Z",
          "iopub.status.idle": "2025-04-12T17:57:11.954115Z",
          "shell.execute_reply": "2025-04-12T17:57:11.953372Z",
          "shell.execute_reply.started": "2025-04-12T17:57:11.941971Z"
        },
        "id": "gP0dtwuarVIX",
        "tags": []
      },
      "outputs": [],
      "source": [
        "def pad(tensors: list[torch.Tensor], padding_value: int = 0, padding_side: str = \"left\") -> torch.Tensor:\n",
        "    \"\"\"Pads a list of tensors to the same size along their leading dimension.\n",
        "\n",
        "    Args:\n",
        "        tensors (list[torch.Tensor]): A list of tensors to be padded.\n",
        "            All tensors in the list should be of the same type and device.\n",
        "        padding_value (int, default=0): The value used to pad the tensors.\n",
        "        padding_side (str, default=\"right\"): Specifies which side of the tensor to apply padding: either 'left' or 'right'.\n",
        "\n",
        "    Returns:\n",
        "        torch.Tensor: A tensor containing all the padded tensors, [N; max_length]\n",
        "            where N is the number of tensors and `max_length` is the shape of the largest tensor.\n",
        "    \"\"\"\n",
        "    # ========== TODO ==========\n",
        "    #      Ваш код здесь       =\n",
        "    # ==========================\n",
        "    # todo()\n",
        "    if padding_side not in (\"left\", \"right\"):\n",
        "        raise ValueError(\"padding_side must be 'left' or 'right'\")\n",
        "    normalized = list(map(lambda x: x.unsqueeze(0) if len(x.shape) == 1 else x, tensors))\n",
        "    if any(t.ndim > 2 for t in normalized):\n",
        "        raise ValueError(\"Only 1D or 2D tensors are supported.\")\n",
        "    padded = []\n",
        "    for t in normalized:\n",
        "        pad_width = max(map(lambda x: x.shape[1], normalized)) - t.shape[1]\n",
        "        if pad_width > 0:\n",
        "            pad_tensor = torch.full((1, pad_width), padding_value, dtype=torch.int)\n",
        "            padded_tensor = torch.hstack((t, pad_tensor)) if padding_side == \"right\" else torch.hstack((pad_tensor, t))\n",
        "            padded.append(padded_tensor)\n",
        "        else:\n",
        "            padded.append(t)\n",
        "    return torch.cat(padded, dim=0)\n"
      ]
    },
    {
      "cell_type": "code",
      "execution_count": null,
      "metadata": {
        "execution": {
          "iopub.execute_input": "2025-04-12T17:57:12.601301Z",
          "iopub.status.busy": "2025-04-12T17:57:12.600554Z",
          "iopub.status.idle": "2025-04-12T17:57:12.659785Z",
          "shell.execute_reply": "2025-04-12T17:57:12.659089Z",
          "shell.execute_reply.started": "2025-04-12T17:57:12.601281Z"
        },
        "id": "0pAZcUQoJYGp",
        "tags": []
      },
      "outputs": [],
      "source": [
        "@torch.inference_mode\n",
        "def eval(model, dataset, tokenizer, show_conf_m=True, batch_size=100):\n",
        "    \"\"\"Evaluates the given model on the provided dataset.\n",
        "\n",
        "    Parameters:\n",
        "        model: The language model used for generating sentiment predictions.\n",
        "        dataset: An iterable collection of examples, where each example is a dict with keys:\n",
        "            - \"input_ids\": The input text message.\n",
        "            - \"str_label\": The ground truth sentiment label (e.g., \"positive\" or \"negative\").\n",
        "\n",
        "    Returns:\n",
        "        float: The macro f1 score\n",
        "    \"\"\"\n",
        "    name2idx = {v: k for k, v in IDX2NAME.items()}\n",
        "    name2idx[\"\"] = len(name2idx)\n",
        "    ground_truth = []\n",
        "    predicted = []\n",
        "\n",
        "    for examples in tqdm(dataset.batch(batch_size)):\n",
        "        input_ids = pad(list(map(torch.tensor, examples[\"input_ids\"])), padding_value=tokenizer.pad_token_id).to(DEVICE)\n",
        "        attention_mask = pad(list(map(lambda it: torch.ones(len(it)), examples[\"input_ids\"])), padding_value=0).to(\n",
        "            DEVICE\n",
        "        )\n",
        "        output_ids = model.generate(input_ids, attention_mask=attention_mask, max_new_tokens=16)\n",
        "        shrinked_ids = output_ids[:, input_ids.shape[1] :]\n",
        "        texts = tokenizer.batch_decode(shrinked_ids, skip_special_tokens=True, clean_up_tokenization_spaces=True)\n",
        "\n",
        "        for i in range(len(examples[\"str_label\"])):\n",
        "            predicted_sentiment = postprocess_sentiment(texts[i])\n",
        "            ground_truth.append(name2idx[examples[\"str_label\"][i]])\n",
        "            predicted.append(name2idx[predicted_sentiment])\n",
        "\n",
        "    if show_conf_m:\n",
        "        conf_m = confusion_matrix(ground_truth, predicted, labels=list(name2idx.values()))\n",
        "        disp = ConfusionMatrixDisplay(conf_m, display_labels=list(name2idx.keys()))\n",
        "        disp.plot()\n",
        "\n",
        "    f1 = f1_score(ground_truth, predicted, labels=list(name2idx.values()), average=\"macro\", zero_division=0.0)\n",
        "    return f1"
      ]
    },
    {
      "cell_type": "code",
      "execution_count": null,
      "metadata": {
        "colab": {
          "base_uri": "https://localhost:8080/",
          "height": 531,
          "referenced_widgets": [
            "f23ca989fd224c61b291f62377d327ba",
            "c26d3f424f8e4837a29d7fbf856a2423",
            "ded70cb4f071435bbb95687cc0956c84",
            "3e4b54f3f3b04c45a33090a3423d01d0",
            "71c6cb24bbd8484fb7604b718f94bc3f",
            "13ab75a5042246e0b3b2322acf38c667",
            "67c8824c5c324218a1a98a6d3a91633a",
            "5b9fd53bcc514ee3bd66297addb20c2b",
            "21db12e4db9546b38d584f9d6b9f2df5",
            "50aaa28d686d4de2a8b1c4f9fae64923",
            "983ce0ba3cd04bf4985feb60c9d398b4",
            "7ff415eb12b64ecdbe71fcbbb65c06f9",
            "d23ea3bc0e894c1bbeaf69ee0aa80e47",
            "ee74bb530722420baad780db9af4519b",
            "ae3e87b5b64749b08ace07af7c591f13",
            "578b332458fd4036960301be61c5ec3e",
            "f96fb84a7ae14beaab43de7592dcade2",
            "5678a9b441dd42f19f2db86c334e3609",
            "de81fb1843d64e6d93899639effa75f9",
            "ad25cd51e0e148499cb206b9119f08dc",
            "b2daa44e5df24037ac1f39aee237d71c",
            "3ddc51cf9ab94df7ad677f0a88c2b7cb",
            "240361b8d1594a36af24a61c44d8874e"
          ]
        },
        "execution": {
          "iopub.execute_input": "2025-04-12T17:25:43.378324Z",
          "iopub.status.busy": "2025-04-12T17:25:43.377370Z",
          "iopub.status.idle": "2025-04-12T17:27:06.917449Z",
          "shell.execute_reply": "2025-04-12T17:27:06.916729Z",
          "shell.execute_reply.started": "2025-04-12T17:25:43.378289Z"
        },
        "id": "6PWl_vqvn7qL",
        "outputId": "e8783c15-b014-48d5-8d8f-e86dd89d2df5"
      },
      "outputs": [
        {
          "name": "stderr",
          "output_type": "stream",
          "text": [
            "Batching examples: 100%|██████████| 12284/12284 [00:01<00:00, 6585.14 examples/s]\n"
          ]
        },
        {
          "data": {
            "application/vnd.jupyter.widget-view+json": {
              "model_id": "240361b8d1594a36af24a61c44d8874e",
              "version_major": 2,
              "version_minor": 0
            },
            "text/plain": [
              "  0%|          | 0/123 [00:00<?, ?it/s]"
            ]
          },
          "metadata": {},
          "output_type": "display_data"
        },
        {
          "name": "stdout",
          "output_type": "stream",
          "text": [
            "Initial Macro F1: 0.23\n"
          ]
        },
        {
          "data": {
            "image/png": "[encoded data removed]",
            "text/plain": [
              "<Figure size 640x480 with 2 Axes>"
            ]
          },
          "metadata": {},
          "output_type": "display_data"
        }
      ],
      "source": [
        "initial_f1 = eval(model, dataset[\"test\"], tokenizer)\n",
        "print(f\"Initial Macro F1: {initial_f1:.2f}\")"
      ]
    },
    {
      "cell_type": "markdown",
      "metadata": {
        "id": "gjP2PLRWtofz"
      },
      "source": [
        "# LoRA: [Low-Rank Adaptation of Large Language Models](https://arxiv.org/abs/2106.09685)"
      ]
    },
    {
      "cell_type": "markdown",
      "metadata": {
        "id": "ECs_d4pzeCMo"
      },
      "source": [
        "В традиционном fine-tuning больших языковых моделей требуется обновление огромного числа параметров, что приводит к высоким вычислительным затратам и потреблению памяти. Метод LoRA решает эту проблему, вводя низкоранговые обновления весов.\n",
        "\n",
        "Пусть $(W_0 \\in \\mathbb{R}^{d \\times k})$ - исходная матрица весов модели. При адаптации модели предполагается, что обновление весов можно аппроксимировать матрицей низкого ранга:\n",
        "$$\n",
        "\\Delta W = BA, \\quad B \\in \\mathbb{R}^{d \\times r}, \\quad A \\in \\mathbb{R}^{r \\times k},\n",
        "$$\n",
        "где $r \\ll \\min(d, k)$.\n",
        "\n",
        "Обновлённая матрица весов записывается как:\n",
        "$$\n",
        "W = W_0 + \\Delta W = W_0 + B A.\n",
        "$$\n",
        "\n",
        "Основная идея заключается в том, чтобы заморозить исходные параметры $W_0$ и обучать только матрицы $A$ и $B$. Это существенно уменьшает число обучаемых параметров, так как их суммарное количество равно $r \\times (d+k)$ по сравнению с $d \\times k$ для полной матрицы $W$.\n",
        "\n",
        "Матрицу $A$ рекомендуется инициализировать нормальным распределением $N(0, \\frac{1}{\\sqrt{r}})$, а матрицу $B$ нулями. Также не забывайте про скейлинг $\\Delta Wx$ на $\\frac{\\alpha}{r}$, где $\\alpha$ гипер-параметр. Во время обучения его можно зафиксировать $\\alpha=16$."
      ]
    },
    {
      "cell_type": "markdown",
      "metadata": {
        "id": "O6TIqiboJYGp"
      },
      "source": [
        "## Адаптиация модели с LoRA слоями [4 балла]\n",
        "\n",
        "В этом задачнии вам потребуется:\n",
        "1. Дописать класс `LoRALayer` который заменит слои модели\n",
        "2. Дописать функцию рекурсивного обхода модели, чтобы применить к ней `LinearWithLoRA`\n",
        "3. Обновить модель"
      ]
    },
    {
      "cell_type": "code",
      "execution_count": null,
      "metadata": {
        "execution": {
          "iopub.execute_input": "2025-04-12T17:27:06.919745Z",
          "iopub.status.busy": "2025-04-12T17:27:06.919128Z",
          "iopub.status.idle": "2025-04-12T17:27:06.945946Z",
          "shell.execute_reply": "2025-04-12T17:27:06.945224Z",
          "shell.execute_reply.started": "2025-04-12T17:27:06.919721Z"
        },
        "id": "QuGAjHP_tof0"
      },
      "outputs": [],
      "source": [
        "class LoRALayer(nn.Module):\n",
        "    \"\"\"Implements a low-rank adaptation layer for a linear transformation.\n",
        "    This layer introduces a trainable low-rank update to the input tensor.\n",
        "\n",
        "    The forward computation is defined as:\n",
        "        output = alpha * (x @ A @ B)\n",
        "\n",
        "    Attributes:\n",
        "        B (nn.Parameter): A weight matrix of shape (in_dim, rank), initialized to zeros.\n",
        "        A (nn.Parameter): A weight matrix of shape (rank, out_dim), initialized with random values\n",
        "                            scaled by 1/sqrt(rank).\n",
        "        alpha (float): A scaling factor for the low-rank update.\n",
        "    \"\"\"\n",
        "\n",
        "    def __init__(self, in_dim, out_dim, rank, alpha):\n",
        "        super().__init__()\n",
        "        # todo()\n",
        "        a_tsr = torch.empty(rank, in_dim)\n",
        "        torch.nn.init.normal_(a_tsr, mean=0, std=1 / np.sqrt(rank))\n",
        "        b_tsr = torch.empty(out_dim, rank)\n",
        "        torch.nn.init.zeros_(b_tsr)\n",
        "        self.A = nn.Parameter(a_tsr)\n",
        "        self.B = nn.Parameter(b_tsr)\n",
        "        self.scale = alpha / rank\n",
        "    def forward(self, x):\n",
        "        # todo()\n",
        "        return self.scale * torch.nn.functional.linear(x, self.B @ self.A, bias=None)\n",
        "\n",
        "\n",
        "class LinearWithLoRA(nn.Module):\n",
        "    \"\"\"Combines a standard linear layer with a LoRA (Low-Rank Adaptation) layer.\n",
        "    The forward pass returns the sum of the output of the linear layer and the low-rank update.\n",
        "\n",
        "    Attributes:\n",
        "        linear (nn.Module): The original linear layer.\n",
        "        lora (LoRALayer): The low-rank adaptation layer configured with matching input and output dimensions.\n",
        "    \"\"\"\n",
        "\n",
        "    def __init__(self, linear, rank, alpha):\n",
        "        super().__init__()\n",
        "        # todo()\n",
        "        self.linear = linear\n",
        "        self.lora = LoRALayer(in_dim=linear.in_features, out_dim=linear.out_features, rank=rank, alpha=alpha)\n",
        "\n",
        "    def forward(self, x):\n",
        "        # todo()\n",
        "        return self.linear(x) + self.lora(x)"
      ]
    },
    {
      "cell_type": "code",
      "execution_count": null,
      "metadata": {
        "execution": {
          "iopub.execute_input": "2025-04-12T17:27:06.947166Z",
          "iopub.status.busy": "2025-04-12T17:27:06.946624Z",
          "iopub.status.idle": "2025-04-12T17:27:06.967472Z",
          "shell.execute_reply": "2025-04-12T17:27:06.966754Z",
          "shell.execute_reply.started": "2025-04-12T17:27:06.947145Z"
        },
        "id": "p62AfaNDeFsd"
      },
      "outputs": [],
      "source": [
        "def apply_peft_to_module(model, adapter_class, r, alpha, target_submodules):\n",
        "    \"\"\"Recursively applies a parameter-efficient fine-tuning (PEFT) adapter to target submodules within a model.\n",
        "\n",
        "    This function traverses the model's children recursively. For each submodule whose name contains any\n",
        "    of the strings specified in 'target_submodules', it wraps the submodule using the provided adapter class.\n",
        "\n",
        "    Args:\n",
        "        model (nn.Module): The neural network model to modify.\n",
        "        adapter_class (nn.Module): The adapter class (e.g., LoRALayer or LinearWithLoRA) used to wrap target submodules.\n",
        "        r (int): The rank parameter for the adapter.\n",
        "        alpha (float): The scaling factor for the low-rank update.\n",
        "        target_submodules (list of str): A list of substrings to match against submodule names for applying the adapter.\n",
        "\n",
        "    Returns:\n",
        "        None. The function updates the model in-place.\n",
        "    \"\"\"\n",
        "    for name, module in model.named_children():\n",
        "        for target in target_submodules:\n",
        "            if target in name and isinstance(module, nn.Linear):\n",
        "                setattr(model, name, adapter_class(module, r, alpha))\n",
        "        apply_peft_to_module(module, adapter_class, r, alpha, target_submodules)\n",
        "    # todo()"
      ]
    },
    {
      "cell_type": "markdown",
      "metadata": {
        "id": "NSM6Sf1leCMp"
      },
      "source": [
        "### Применим наш LoRA adapter к нашей модели\n",
        "\n",
        "Обычно для дешевого обучения достаточно применить LoRA к слоям для ключей `k_proj` и значений `v_proj`. Однако, если вы уверены в своих действиях, то не воспрещается обучать и другие слои с помощью LoRA :)"
      ]
    },
    {
      "cell_type": "code",
      "execution_count": null,
      "metadata": {
        "execution": {
          "iopub.execute_input": "2025-04-12T17:27:06.968254Z",
          "iopub.status.busy": "2025-04-12T17:27:06.967955Z",
          "iopub.status.idle": "2025-04-12T17:27:07.014456Z",
          "shell.execute_reply": "2025-04-12T17:27:07.013849Z",
          "shell.execute_reply.started": "2025-04-12T17:27:06.968236Z"
        },
        "id": "mO0GEFD9eCMp"
      },
      "outputs": [],
      "source": [
        "# Примените peft к модели\n",
        "apply_peft_to_module(model, LinearWithLoRA, r=8, alpha=16, target_submodules=[\"k_proj\", \"v_proj\"])"
      ]
    },
    {
      "cell_type": "code",
      "execution_count": null,
      "metadata": {
        "colab": {
          "base_uri": "https://localhost:8080/"
        },
        "execution": {
          "iopub.execute_input": "2025-04-12T17:27:07.015456Z",
          "iopub.status.busy": "2025-04-12T17:27:07.015113Z",
          "iopub.status.idle": "2025-04-12T17:27:07.043939Z",
          "shell.execute_reply": "2025-04-12T17:27:07.043289Z",
          "shell.execute_reply.started": "2025-04-12T17:27:07.015438Z"
        },
        "id": "T5dI0p3Ttof2",
        "outputId": "f5adf501-1b48-4cb7-e53d-48185364cfc1"
      },
      "outputs": [
        {
          "name": "stdout",
          "output_type": "stream",
          "text": [
            "model.embed_tokens.weight: False\n",
            "model.layers.0.self_attn.q_proj.weight: False\n",
            "model.layers.0.self_attn.k_proj.linear.weight: False\n",
            "model.layers.0.self_attn.k_proj.lora.A: True\n",
            "model.layers.0.self_attn.k_proj.lora.B: True\n",
            "model.layers.0.self_attn.v_proj.linear.weight: False\n",
            "model.layers.0.self_attn.v_proj.lora.A: True\n",
            "model.layers.0.self_attn.v_proj.lora.B: True\n",
            "model.layers.0.self_attn.o_proj.weight: False\n",
            "model.layers.0.mlp.gate_proj.weight: False\n",
            "model.layers.0.mlp.up_proj.weight: False\n",
            "model.layers.0.mlp.down_proj.weight: False\n",
            "model.layers.0.input_layernorm.weight: False\n",
            "model.layers.0.post_attention_layernorm.weight: False\n",
            "model.layers.1.self_attn.q_proj.weight: False\n",
            "model.layers.1.self_attn.k_proj.linear.weight: False\n",
            "model.layers.1.self_attn.k_proj.lora.A: True\n",
            "model.layers.1.self_attn.k_proj.lora.B: True\n",
            "model.layers.1.self_attn.v_proj.linear.weight: False\n",
            "model.layers.1.self_attn.v_proj.lora.A: True\n",
            "model.layers.1.self_attn.v_proj.lora.B: True\n",
            "model.layers.1.self_attn.o_proj.weight: False\n",
            "model.layers.1.mlp.gate_proj.weight: False\n",
            "model.layers.1.mlp.up_proj.weight: False\n",
            "model.layers.1.mlp.down_proj.weight: False\n",
            "model.layers.1.input_layernorm.weight: False\n",
            "model.layers.1.post_attention_layernorm.weight: False\n",
            "model.layers.2.self_attn.q_proj.weight: False\n",
            "model.layers.2.self_attn.k_proj.linear.weight: False\n",
            "model.layers.2.self_attn.k_proj.lora.A: True\n",
            "model.layers.2.self_attn.k_proj.lora.B: True\n",
            "model.layers.2.self_attn.v_proj.linear.weight: False\n",
            "model.layers.2.self_attn.v_proj.lora.A: True\n",
            "model.layers.2.self_attn.v_proj.lora.B: True\n",
            "model.layers.2.self_attn.o_proj.weight: False\n",
            "model.layers.2.mlp.gate_proj.weight: False\n",
            "model.layers.2.mlp.up_proj.weight: False\n",
            "model.layers.2.mlp.down_proj.weight: False\n",
            "model.layers.2.input_layernorm.weight: False\n",
            "model.layers.2.post_attention_layernorm.weight: False\n",
            "model.layers.3.self_attn.q_proj.weight: False\n",
            "model.layers.3.self_attn.k_proj.linear.weight: False\n",
            "model.layers.3.self_attn.k_proj.lora.A: True\n",
            "model.layers.3.self_attn.k_proj.lora.B: True\n",
            "model.layers.3.self_attn.v_proj.linear.weight: False\n",
            "model.layers.3.self_attn.v_proj.lora.A: True\n",
            "model.layers.3.self_attn.v_proj.lora.B: True\n",
            "model.layers.3.self_attn.o_proj.weight: False\n",
            "model.layers.3.mlp.gate_proj.weight: False\n",
            "model.layers.3.mlp.up_proj.weight: False\n",
            "model.layers.3.mlp.down_proj.weight: False\n",
            "model.layers.3.input_layernorm.weight: False\n",
            "model.layers.3.post_attention_layernorm.weight: False\n",
            "model.layers.4.self_attn.q_proj.weight: False\n",
            "model.layers.4.self_attn.k_proj.linear.weight: False\n",
            "model.layers.4.self_attn.k_proj.lora.A: True\n",
            "model.layers.4.self_attn.k_proj.lora.B: True\n",
            "model.layers.4.self_attn.v_proj.linear.weight: False\n",
            "model.layers.4.self_attn.v_proj.lora.A: True\n",
            "model.layers.4.self_attn.v_proj.lora.B: True\n",
            "model.layers.4.self_attn.o_proj.weight: False\n",
            "model.layers.4.mlp.gate_proj.weight: False\n",
            "model.layers.4.mlp.up_proj.weight: False\n",
            "model.layers.4.mlp.down_proj.weight: False\n",
            "model.layers.4.input_layernorm.weight: False\n",
            "model.layers.4.post_attention_layernorm.weight: False\n",
            "model.layers.5.self_attn.q_proj.weight: False\n",
            "model.layers.5.self_attn.k_proj.linear.weight: False\n",
            "model.layers.5.self_attn.k_proj.lora.A: True\n",
            "model.layers.5.self_attn.k_proj.lora.B: True\n",
            "model.layers.5.self_attn.v_proj.linear.weight: False\n",
            "model.layers.5.self_attn.v_proj.lora.A: True\n",
            "model.layers.5.self_attn.v_proj.lora.B: True\n",
            "model.layers.5.self_attn.o_proj.weight: False\n",
            "model.layers.5.mlp.gate_proj.weight: False\n",
            "model.layers.5.mlp.up_proj.weight: False\n",
            "model.layers.5.mlp.down_proj.weight: False\n",
            "model.layers.5.input_layernorm.weight: False\n",
            "model.layers.5.post_attention_layernorm.weight: False\n",
            "model.layers.6.self_attn.q_proj.weight: False\n",
            "model.layers.6.self_attn.k_proj.linear.weight: False\n",
            "model.layers.6.self_attn.k_proj.lora.A: True\n",
            "model.layers.6.self_attn.k_proj.lora.B: True\n",
            "model.layers.6.self_attn.v_proj.linear.weight: False\n",
            "model.layers.6.self_attn.v_proj.lora.A: True\n",
            "model.layers.6.self_attn.v_proj.lora.B: True\n",
            "model.layers.6.self_attn.o_proj.weight: False\n",
            "model.layers.6.mlp.gate_proj.weight: False\n",
            "model.layers.6.mlp.up_proj.weight: False\n",
            "model.layers.6.mlp.down_proj.weight: False\n",
            "model.layers.6.input_layernorm.weight: False\n",
            "model.layers.6.post_attention_layernorm.weight: False\n",
            "model.layers.7.self_attn.q_proj.weight: False\n",
            "model.layers.7.self_attn.k_proj.linear.weight: False\n",
            "model.layers.7.self_attn.k_proj.lora.A: True\n",
            "model.layers.7.self_attn.k_proj.lora.B: True\n",
            "model.layers.7.self_attn.v_proj.linear.weight: False\n",
            "model.layers.7.self_attn.v_proj.lora.A: True\n",
            "model.layers.7.self_attn.v_proj.lora.B: True\n",
            "model.layers.7.self_attn.o_proj.weight: False\n",
            "model.layers.7.mlp.gate_proj.weight: False\n",
            "model.layers.7.mlp.up_proj.weight: False\n",
            "model.layers.7.mlp.down_proj.weight: False\n",
            "model.layers.7.input_layernorm.weight: False\n",
            "model.layers.7.post_attention_layernorm.weight: False\n",
            "model.layers.8.self_attn.q_proj.weight: False\n",
            "model.layers.8.self_attn.k_proj.linear.weight: False\n",
            "model.layers.8.self_attn.k_proj.lora.A: True\n",
            "model.layers.8.self_attn.k_proj.lora.B: True\n",
            "model.layers.8.self_attn.v_proj.linear.weight: False\n",
            "model.layers.8.self_attn.v_proj.lora.A: True\n",
            "model.layers.8.self_attn.v_proj.lora.B: True\n",
            "model.layers.8.self_attn.o_proj.weight: False\n",
            "model.layers.8.mlp.gate_proj.weight: False\n",
            "model.layers.8.mlp.up_proj.weight: False\n",
            "model.layers.8.mlp.down_proj.weight: False\n",
            "model.layers.8.input_layernorm.weight: False\n",
            "model.layers.8.post_attention_layernorm.weight: False\n",
            "model.layers.9.self_attn.q_proj.weight: False\n",
            "model.layers.9.self_attn.k_proj.linear.weight: False\n",
            "model.layers.9.self_attn.k_proj.lora.A: True\n",
            "model.layers.9.self_attn.k_proj.lora.B: True\n",
            "model.layers.9.self_attn.v_proj.linear.weight: False\n",
            "model.layers.9.self_attn.v_proj.lora.A: True\n",
            "model.layers.9.self_attn.v_proj.lora.B: True\n",
            "model.layers.9.self_attn.o_proj.weight: False\n",
            "model.layers.9.mlp.gate_proj.weight: False\n",
            "model.layers.9.mlp.up_proj.weight: False\n",
            "model.layers.9.mlp.down_proj.weight: False\n",
            "model.layers.9.input_layernorm.weight: False\n",
            "model.layers.9.post_attention_layernorm.weight: False\n",
            "model.layers.10.self_attn.q_proj.weight: False\n",
            "model.layers.10.self_attn.k_proj.linear.weight: False\n",
            "model.layers.10.self_attn.k_proj.lora.A: True\n",
            "model.layers.10.self_attn.k_proj.lora.B: True\n",
            "model.layers.10.self_attn.v_proj.linear.weight: False\n",
            "model.layers.10.self_attn.v_proj.lora.A: True\n",
            "model.layers.10.self_attn.v_proj.lora.B: True\n",
            "model.layers.10.self_attn.o_proj.weight: False\n",
            "model.layers.10.mlp.gate_proj.weight: False\n",
            "model.layers.10.mlp.up_proj.weight: False\n",
            "model.layers.10.mlp.down_proj.weight: False\n",
            "model.layers.10.input_layernorm.weight: False\n",
            "model.layers.10.post_attention_layernorm.weight: False\n",
            "model.layers.11.self_attn.q_proj.weight: False\n",
            "model.layers.11.self_attn.k_proj.linear.weight: False\n",
            "model.layers.11.self_attn.k_proj.lora.A: True\n",
            "model.layers.11.self_attn.k_proj.lora.B: True\n",
            "model.layers.11.self_attn.v_proj.linear.weight: False\n",
            "model.layers.11.self_attn.v_proj.lora.A: True\n",
            "model.layers.11.self_attn.v_proj.lora.B: True\n",
            "model.layers.11.self_attn.o_proj.weight: False\n",
            "model.layers.11.mlp.gate_proj.weight: False\n",
            "model.layers.11.mlp.up_proj.weight: False\n",
            "model.layers.11.mlp.down_proj.weight: False\n",
            "model.layers.11.input_layernorm.weight: False\n",
            "model.layers.11.post_attention_layernorm.weight: False\n",
            "model.layers.12.self_attn.q_proj.weight: False\n",
            "model.layers.12.self_attn.k_proj.linear.weight: False\n",
            "model.layers.12.self_attn.k_proj.lora.A: True\n",
            "model.layers.12.self_attn.k_proj.lora.B: True\n",
            "model.layers.12.self_attn.v_proj.linear.weight: False\n",
            "model.layers.12.self_attn.v_proj.lora.A: True\n",
            "model.layers.12.self_attn.v_proj.lora.B: True\n",
            "model.layers.12.self_attn.o_proj.weight: False\n",
            "model.layers.12.mlp.gate_proj.weight: False\n",
            "model.layers.12.mlp.up_proj.weight: False\n",
            "model.layers.12.mlp.down_proj.weight: False\n",
            "model.layers.12.input_layernorm.weight: False\n",
            "model.layers.12.post_attention_layernorm.weight: False\n",
            "model.layers.13.self_attn.q_proj.weight: False\n",
            "model.layers.13.self_attn.k_proj.linear.weight: False\n",
            "model.layers.13.self_attn.k_proj.lora.A: True\n",
            "model.layers.13.self_attn.k_proj.lora.B: True\n",
            "model.layers.13.self_attn.v_proj.linear.weight: False\n",
            "model.layers.13.self_attn.v_proj.lora.A: True\n",
            "model.layers.13.self_attn.v_proj.lora.B: True\n",
            "model.layers.13.self_attn.o_proj.weight: False\n",
            "model.layers.13.mlp.gate_proj.weight: False\n",
            "model.layers.13.mlp.up_proj.weight: False\n",
            "model.layers.13.mlp.down_proj.weight: False\n",
            "model.layers.13.input_layernorm.weight: False\n",
            "model.layers.13.post_attention_layernorm.weight: False\n",
            "model.layers.14.self_attn.q_proj.weight: False\n",
            "model.layers.14.self_attn.k_proj.linear.weight: False\n",
            "model.layers.14.self_attn.k_proj.lora.A: True\n",
            "model.layers.14.self_attn.k_proj.lora.B: True\n",
            "model.layers.14.self_attn.v_proj.linear.weight: False\n",
            "model.layers.14.self_attn.v_proj.lora.A: True\n",
            "model.layers.14.self_attn.v_proj.lora.B: True\n",
            "model.layers.14.self_attn.o_proj.weight: False\n",
            "model.layers.14.mlp.gate_proj.weight: False\n",
            "model.layers.14.mlp.up_proj.weight: False\n",
            "model.layers.14.mlp.down_proj.weight: False\n",
            "model.layers.14.input_layernorm.weight: False\n",
            "model.layers.14.post_attention_layernorm.weight: False\n",
            "model.layers.15.self_attn.q_proj.weight: False\n",
            "model.layers.15.self_attn.k_proj.linear.weight: False\n",
            "model.layers.15.self_attn.k_proj.lora.A: True\n",
            "model.layers.15.self_attn.k_proj.lora.B: True\n",
            "model.layers.15.self_attn.v_proj.linear.weight: False\n",
            "model.layers.15.self_attn.v_proj.lora.A: True\n",
            "model.layers.15.self_attn.v_proj.lora.B: True\n",
            "model.layers.15.self_attn.o_proj.weight: False\n",
            "model.layers.15.mlp.gate_proj.weight: False\n",
            "model.layers.15.mlp.up_proj.weight: False\n",
            "model.layers.15.mlp.down_proj.weight: False\n",
            "model.layers.15.input_layernorm.weight: False\n",
            "model.layers.15.post_attention_layernorm.weight: False\n",
            "model.layers.16.self_attn.q_proj.weight: False\n",
            "model.layers.16.self_attn.k_proj.linear.weight: False\n",
            "model.layers.16.self_attn.k_proj.lora.A: True\n",
            "model.layers.16.self_attn.k_proj.lora.B: True\n",
            "model.layers.16.self_attn.v_proj.linear.weight: False\n",
            "model.layers.16.self_attn.v_proj.lora.A: True\n",
            "model.layers.16.self_attn.v_proj.lora.B: True\n",
            "model.layers.16.self_attn.o_proj.weight: False\n",
            "model.layers.16.mlp.gate_proj.weight: False\n",
            "model.layers.16.mlp.up_proj.weight: False\n",
            "model.layers.16.mlp.down_proj.weight: False\n",
            "model.layers.16.input_layernorm.weight: False\n",
            "model.layers.16.post_attention_layernorm.weight: False\n",
            "model.layers.17.self_attn.q_proj.weight: False\n",
            "model.layers.17.self_attn.k_proj.linear.weight: False\n",
            "model.layers.17.self_attn.k_proj.lora.A: True\n",
            "model.layers.17.self_attn.k_proj.lora.B: True\n",
            "model.layers.17.self_attn.v_proj.linear.weight: False\n",
            "model.layers.17.self_attn.v_proj.lora.A: True\n",
            "model.layers.17.self_attn.v_proj.lora.B: True\n",
            "model.layers.17.self_attn.o_proj.weight: False\n",
            "model.layers.17.mlp.gate_proj.weight: False\n",
            "model.layers.17.mlp.up_proj.weight: False\n",
            "model.layers.17.mlp.down_proj.weight: False\n",
            "model.layers.17.input_layernorm.weight: False\n",
            "model.layers.17.post_attention_layernorm.weight: False\n",
            "model.layers.18.self_attn.q_proj.weight: False\n",
            "model.layers.18.self_attn.k_proj.linear.weight: False\n",
            "model.layers.18.self_attn.k_proj.lora.A: True\n",
            "model.layers.18.self_attn.k_proj.lora.B: True\n",
            "model.layers.18.self_attn.v_proj.linear.weight: False\n",
            "model.layers.18.self_attn.v_proj.lora.A: True\n",
            "model.layers.18.self_attn.v_proj.lora.B: True\n",
            "model.layers.18.self_attn.o_proj.weight: False\n",
            "model.layers.18.mlp.gate_proj.weight: False\n",
            "model.layers.18.mlp.up_proj.weight: False\n",
            "model.layers.18.mlp.down_proj.weight: False\n",
            "model.layers.18.input_layernorm.weight: False\n",
            "model.layers.18.post_attention_layernorm.weight: False\n",
            "model.layers.19.self_attn.q_proj.weight: False\n",
            "model.layers.19.self_attn.k_proj.linear.weight: False\n",
            "model.layers.19.self_attn.k_proj.lora.A: True\n",
            "model.layers.19.self_attn.k_proj.lora.B: True\n",
            "model.layers.19.self_attn.v_proj.linear.weight: False\n",
            "model.layers.19.self_attn.v_proj.lora.A: True\n",
            "model.layers.19.self_attn.v_proj.lora.B: True\n",
            "model.layers.19.self_attn.o_proj.weight: False\n",
            "model.layers.19.mlp.gate_proj.weight: False\n",
            "model.layers.19.mlp.up_proj.weight: False\n",
            "model.layers.19.mlp.down_proj.weight: False\n",
            "model.layers.19.input_layernorm.weight: False\n",
            "model.layers.19.post_attention_layernorm.weight: False\n",
            "model.norm.weight: False\n",
            "lm_head.weight: False\n",
            "Train 430080/300031872 (0.14%) parameters\n"
          ]
        }
      ],
      "source": [
        "# Заморозьте не нужные слои\n",
        "\n",
        "\n",
        "def freeze_layers(model, patterns):\n",
        "    for name, param in model.named_parameters():\n",
        "        # todo()\n",
        "        param.requires_grad = any(p in name for p in patterns)\n",
        "\n",
        "    total_params, trainable_params = 0, 0\n",
        "    for name, param in model.named_parameters():\n",
        "        print(f\"{name}: {param.requires_grad}\")\n",
        "        total_params += np.prod(param.shape)\n",
        "        if param.requires_grad:\n",
        "            trainable_params += np.prod(param.shape)\n",
        "    print(f\"Train {trainable_params}/{total_params} ({trainable_params / total_params * 100:.2f}%) parameters\")\n",
        "\n",
        "    return model\n",
        "\n",
        "\n",
        "model = freeze_layers(model, [\"lora\"])"
      ]
    },
    {
      "cell_type": "markdown",
      "metadata": {
        "id": "GDcZlsVuJYGq"
      },
      "source": [
        "## Обучение [2 балла]\n",
        "\n",
        "*Напутствие:*\n",
        "Пришло время приступить к обучению модели. После реализации train loop вы заслужите перерыв на 30+ минут – отличный повод с гордостью заявить, что вы заняты обучением модели. Однако длительность отдыха остаётся на ваше усмотрение. Мы рекомендуем ограничиться 2–3 эпохами файнтюна, чтобы избежать излишних вычислительных затрат и переобучения модели.\n",
        "\n",
        "Обратите внимание, что вам предстоит реализовать классический train loop на PyTorch. Здесь у вас достаточно свободы для выбора гиперпараметров (`batch_size`, `lr`, `num_epochs`). Вы можете использовать дополнительные гиперпараметры на свое усмотрение, например, для оптимизатора."
      ]
    },
    {
      "cell_type": "code",
      "execution_count": null,
      "metadata": {
        "execution": {
          "iopub.execute_input": "2025-04-12T17:27:07.045249Z",
          "iopub.status.busy": "2025-04-12T17:27:07.044616Z",
          "iopub.status.idle": "2025-04-12T17:27:07.060609Z",
          "shell.execute_reply": "2025-04-12T17:27:07.059992Z",
          "shell.execute_reply.started": "2025-04-12T17:27:07.045229Z"
        },
        "id": "y_ZfEtmwjoyL"
      },
      "outputs": [],
      "source": [
        "def pad_collate_fn(batch: list[dict[str, torch.Tensor]], pad_token_id: int) -> dict[str, torch.Tensor]:\n",
        "    \"\"\"Collates and pads a batch of tokenized examples for model input.\n",
        "\n",
        "    This function takes a batch of examples where each example is a dictionary containing\n",
        "    token IDs for the prompt, the chosen response, and the rejected response. For each field,\n",
        "    it extracts the list of token IDs, creates a corresponding attention mask (with ones for each token),\n",
        "    and then pads the sequences using a `pad` function. The prompt sequences and their attention masks\n",
        "    are padded on the left, while the chosen and rejected sequences are padded on the right (default).\n",
        "\n",
        "    Args:\n",
        "        batch (list[dict[str, torch.Tensor]]): A list of dictionaries with input_ids keys\n",
        "        pad_token_id (int): Padding value for token IDs.\n",
        "\n",
        "    Returns:\n",
        "        dict[str, torch.Tensor]: A dictionary containing the following keys with padded tensors:\n",
        "            - \"prompt_input_ids\": Padded token IDs for the prompt (padded on the left).\n",
        "            - \"prompt_attn_mask\": Padded attention mask for the prompt (padded on the left, with 1s for actual tokens).\n",
        "            - \"chosen_input_ids\": Padded token IDs for the chosen response.\n",
        "            - \"chosen_attn_mask\": Padded attention mask for the chosen response.\n",
        "            - \"rejected_input_ids\": Padded token IDs for the rejected response.\n",
        "            - \"rejected_attn_mask\": Padded attention mask for the rejected response.\n",
        "    \"\"\"\n",
        "    # ========== TODO ==========\n",
        "    #      Ваш код здесь       =\n",
        "    # ==========================\n",
        "    # todo()\n",
        "    prompt_mode = 'left'\n",
        "    full_prompt_ids = [batch[i]['full_input_ids'] for i in range(len(batch))]\n",
        "    full_prompt_attn = [torch.full_like(full_prompt_ids[i], 1) for i in range(len(full_prompt_ids))]\n",
        "    full_prompt_ids = pad(full_prompt_ids, pad_token_id, prompt_mode)\n",
        "    full_prompt_attn = pad(full_prompt_attn, 0, prompt_mode)\n",
        "\n",
        "    full_prompt_ids = torch.cat((full_prompt_ids, torch.full((len(batch), 2), pad_token_id)), dim=1)\n",
        "    full_prompt_attn = torch.cat((full_prompt_attn, torch.full((len(batch), 2), 1)), dim=1)\n",
        "    labels = full_prompt_ids.clone()\n",
        "    prompt_ids = [batch[i]['input_ids'] for i in range(len(batch))]\n",
        "    for i in range(len(prompt_ids)):\n",
        "        i_to_zero = full_prompt_attn.shape[1] - full_prompt_attn[i].count_nonzero() + len(prompt_ids[i])\n",
        "        labels[i, :i_to_zero] = -100\n",
        "    result = {\n",
        "        'input_ids': full_prompt_ids,\n",
        "        'attention_mask': full_prompt_attn,\n",
        "        'labels': labels\n",
        "    }\n",
        "\n",
        "    return result"
      ]
    },
    {
      "cell_type": "code",
      "execution_count": null,
      "metadata": {
        "colab": {
          "base_uri": "https://localhost:8080/"
        },
        "execution": {
          "iopub.execute_input": "2025-04-12T17:27:07.061536Z",
          "iopub.status.busy": "2025-04-12T17:27:07.061241Z",
          "iopub.status.idle": "2025-04-12T17:27:07.106209Z",
          "shell.execute_reply": "2025-04-12T17:27:07.105546Z",
          "shell.execute_reply.started": "2025-04-12T17:27:07.061517Z"
        },
        "id": "k5EWaXx0joyL",
        "outputId": "ed9aeef3-e058-4a85-deb1-ce69a0d8bf4d"
      },
      "outputs": [
        {
          "data": {
            "text/plain": [
              "{'input_ids': tensor([[32000, 32000, 32000, 32000, 32000, 32000, 32000, 32000, 32000, 32000,\n",
              "          32000,     1, 32001,  1587,    13,  2472,  1575,  2188, 28742, 28713,\n",
              "           2245, 28723, 26307,  9688,  9880, 26071,  1707,   297,   272,  9688,\n",
              "           9880, 26071,  1407,   304,   708,   680,  1159,   304,  1024, 28723,\n",
              "           1770, 21435,  2065, 28725,   708,  4870,   633,  4715, 28723, 26307,\n",
              "            541,   347, 28747,  5278, 28725, 14214,   442,  7087, 28723, 32000,\n",
              "          28705,    13, 32001,  2188,    13, 28737,   541, 28756, 28718, 28750,\n",
              "          28734, 28740, 28774, 28707,  2444,   298,  1236,   456, 12165,  2737,\n",
              "          13268,   684,  9262,  2125, 13915,  3539, 28716,   521,   295,  8884,\n",
              "           4893,  4382, 32000, 28705,    13, 32001, 13892,    13,  1065,  2468,\n",
              "          32000, 28705,    13, 32000, 32000, 32000],\n",
              "         [    1, 32001,  1587,    13,  2472,  1575,  2188, 28742, 28713,  2245,\n",
              "          28723, 26307,  9688,  9880, 26071,  1707,   297,   272,  9688,  9880,\n",
              "          26071,  1407,   304,   708,   680,  1159,   304,  1024, 28723,  1770,\n",
              "          21435,  2065, 28725,   708,  4870,   633,  4715, 28723, 26307,   541,\n",
              "            347, 28747,  5278, 28725, 14214,   442,  7087, 28723, 32000, 28705,\n",
              "             13, 32001,  2188,    13, 28818,  1838,   334,  1035,  1944, 28725,\n",
              "            378,   993,   347,   369,   590,  8168,   652,  7482, 15075,  2539,\n",
              "            349,  6646, 21026, 13715, 28725,   369,   272,  2108,   369,   349,\n",
              "           2598,   302,   706, 28725,   272,  1873, 28723,   384,  2869,  4660,\n",
              "           1896,  4425,  1110, 32000, 28705,    13, 32001, 13892,    13, 23238,\n",
              "          32000, 28705,    13, 32000, 32000, 32000]]),\n",
              " 'attention_mask': tensor([[0, 0, 0, 0, 0, 0, 0, 0, 0, 0, 0, 1, 1, 1, 1, 1, 1, 1, 1, 1, 1, 1, 1, 1,\n",
              "          1, 1, 1, 1, 1, 1, 1, 1, 1, 1, 1, 1, 1, 1, 1, 1, 1, 1, 1, 1, 1, 1, 1, 1,\n",
              "          1, 1, 1, 1, 1, 1, 1, 1, 1, 1, 1, 1, 1, 1, 1, 1, 1, 1, 1, 1, 1, 1, 1, 1,\n",
              "          1, 1, 1, 1, 1, 1, 1, 1, 1, 1, 1, 1, 1, 1, 1, 1, 1, 1, 1, 1, 1, 1, 1, 1,\n",
              "          1, 1, 1, 1, 1, 1, 1, 1, 1, 1],\n",
              "         [1, 1, 1, 1, 1, 1, 1, 1, 1, 1, 1, 1, 1, 1, 1, 1, 1, 1, 1, 1, 1, 1, 1, 1,\n",
              "          1, 1, 1, 1, 1, 1, 1, 1, 1, 1, 1, 1, 1, 1, 1, 1, 1, 1, 1, 1, 1, 1, 1, 1,\n",
              "          1, 1, 1, 1, 1, 1, 1, 1, 1, 1, 1, 1, 1, 1, 1, 1, 1, 1, 1, 1, 1, 1, 1, 1,\n",
              "          1, 1, 1, 1, 1, 1, 1, 1, 1, 1, 1, 1, 1, 1, 1, 1, 1, 1, 1, 1, 1, 1, 1, 1,\n",
              "          1, 1, 1, 1, 1, 1, 1, 1, 1, 1]]),\n",
              " 'labels': tensor([[ -100,  -100,  -100,  -100,  -100,  -100,  -100,  -100,  -100,  -100,\n",
              "           -100,  -100,  -100,  -100,  -100,  -100,  -100,  -100,  -100,  -100,\n",
              "           -100,  -100,  -100,  -100,  -100,  -100,  -100,  -100,  -100,  -100,\n",
              "           -100,  -100,  -100,  -100,  -100,  -100,  -100,  -100,  -100,  -100,\n",
              "           -100,  -100,  -100,  -100,  -100,  -100,  -100,  -100,  -100,  -100,\n",
              "           -100,  -100,  -100,  -100,  -100,  -100,  -100,  -100,  -100,  -100,\n",
              "           -100,  -100,  -100,  -100,  -100,  -100,  -100,  -100,  -100,  -100,\n",
              "           -100,  -100,  -100,  -100,  -100,  -100,  -100,  -100,  -100,  -100,\n",
              "           -100,  -100,  -100,  -100,  -100,  -100,  -100,  -100,  -100,  -100,\n",
              "           -100,  -100,  -100,  -100,  -100,  -100,  -100,  -100,  1065,  2468,\n",
              "          32000, 28705,    13, 32000, 32000, 32000],\n",
              "         [ -100,  -100,  -100,  -100,  -100,  -100,  -100,  -100,  -100,  -100,\n",
              "           -100,  -100,  -100,  -100,  -100,  -100,  -100,  -100,  -100,  -100,\n",
              "           -100,  -100,  -100,  -100,  -100,  -100,  -100,  -100,  -100,  -100,\n",
              "           -100,  -100,  -100,  -100,  -100,  -100,  -100,  -100,  -100,  -100,\n",
              "           -100,  -100,  -100,  -100,  -100,  -100,  -100,  -100,  -100,  -100,\n",
              "           -100,  -100,  -100,  -100,  -100,  -100,  -100,  -100,  -100,  -100,\n",
              "           -100,  -100,  -100,  -100,  -100,  -100,  -100,  -100,  -100,  -100,\n",
              "           -100,  -100,  -100,  -100,  -100,  -100,  -100,  -100,  -100,  -100,\n",
              "           -100,  -100,  -100,  -100,  -100,  -100,  -100,  -100,  -100,  -100,\n",
              "           -100,  -100,  -100,  -100,  -100,  -100,  -100,  -100,  -100, 23238,\n",
              "          32000, 28705,    13, 32000, 32000, 32000]])}"
            ]
          },
          "execution_count": 23,
          "metadata": {},
          "output_type": "execute_result"
        }
      ],
      "source": [
        "dataloader = DataLoader(\n",
        "    dataset.with_format(\"torch\")[\"train\"],\n",
        "    batch_size=2,\n",
        "    shuffle=True,\n",
        "    collate_fn=partial(pad_collate_fn, pad_token_id=tokenizer.pad_token_id),\n",
        ")\n",
        "next(iter(dataloader))"
      ]
    },
    {
      "cell_type": "code",
      "execution_count": null,
      "metadata": {
        "execution": {
          "iopub.execute_input": "2025-04-12T17:27:07.107251Z",
          "iopub.status.busy": "2025-04-12T17:27:07.106932Z",
          "iopub.status.idle": "2025-04-12T17:27:07.119117Z",
          "shell.execute_reply": "2025-04-12T17:27:07.118503Z",
          "shell.execute_reply.started": "2025-04-12T17:27:07.107232Z"
        },
        "id": "kUXWpHlwjoyL"
      },
      "outputs": [],
      "source": [
        "def train_model(model, optimizer, train_dataloader, val_dataset, num_epochs):\n",
        "    for epoch in range(num_epochs):\n",
        "        running_loss = 0.0\n",
        "        for step, batch in enumerate(tqdm(train_dataloader)):\n",
        "            batch = {k: (v.to(model.device) if isinstance(v, torch.Tensor) else v) for k, v in batch.items()}\n",
        "\n",
        "            outputs = model(**batch)\n",
        "            loss = outputs.loss\n",
        "            loss.backward()\n",
        "            torch.nn.utils.clip_grad_norm_(model.parameters(), max_norm=1.0)\n",
        "            optimizer.step()\n",
        "            optimizer.zero_grad()\n",
        "\n",
        "            running_loss += loss.item()\n",
        "            if step % 50 == 0 and step > 0:\n",
        "                avg_loss = running_loss / 50\n",
        "                print(f\"Epoch {epoch + 1}, Step {step} | Avg Loss: {avg_loss:.4f}\")\n",
        "                running_loss = 0.0\n",
        "\n",
        "        val_f1 = eval(model, val_dataset, tokenizer, show_conf_m=False)\n",
        "        print(f\"Epoch {epoch + 1} | Validation F1: {val_f1}\")\n",
        "    return model"
      ]
    },
    {
      "cell_type": "code",
      "execution_count": null,
      "metadata": {
        "execution": {
          "iopub.execute_input": "2025-04-12T17:27:07.119941Z",
          "iopub.status.busy": "2025-04-12T17:27:07.119638Z",
          "iopub.status.idle": "2025-04-12T17:27:07.157081Z",
          "shell.execute_reply": "2025-04-12T17:27:07.156441Z",
          "shell.execute_reply.started": "2025-04-12T17:27:07.119923Z"
        },
        "id": "OIjehznTeOLP"
      },
      "outputs": [],
      "source": [
        "BATCH_SIZE = 16\n",
        "LEARNING_RATE = 5e-4\n",
        "NUM_EPOCHS = 1\n",
        "\n",
        "train_dataloader = DataLoader(\n",
        "    dataset.with_format(\"torch\")[\"train\"],\n",
        "    batch_size=BATCH_SIZE,\n",
        "    shuffle=True,\n",
        "    collate_fn=partial(pad_collate_fn, pad_token_id=tokenizer.pad_token_id),\n",
        ")\n",
        "\n",
        "optimizer = torch.optim.AdamW([p for n, p in model.named_parameters() if \"lora\" in n], lr=LEARNING_RATE)"
      ]
    },
    {
      "cell_type": "code",
      "execution_count": null,
      "metadata": {
        "colab": {
          "base_uri": "https://localhost:8080/",
          "height": 330,
          "referenced_widgets": [
            "d0257fe707e84b7ea81eed7041d96428",
            "c936a5cb02464b9e8356d7cacb8dc5d4",
            "315556545aa74e89bd5dddd788e40119",
            "08398fa3c8ce464886122885335400da",
            "e4ebedeb5fdf45d6a06cc72de2bad416",
            "0e5f59fdb5234bb89b6ab75cacc14c53",
            "b70c2d6297124a88abcab20701eaa816",
            "e42e986d285f40b595b1d4b949168d73",
            "acbb92318182447eacd4fb29f5857ba1",
            "d1ea0e10b0a44f19a46e5467014f452d",
            "c9dbf6811d9c4a5996cbf34eccf5d4f4",
            "7ab1a355a6f6401cbe2d75447a088841",
            "03d6451133704e9680ccb31b9b64acdf"
          ]
        },
        "execution": {
          "iopub.execute_input": "2025-04-12T17:27:09.314638Z",
          "iopub.status.busy": "2025-04-12T17:27:09.314181Z",
          "iopub.status.idle": "2025-04-12T17:35:16.417642Z",
          "shell.execute_reply": "2025-04-12T17:35:16.416757Z",
          "shell.execute_reply.started": "2025-04-12T17:27:09.314618Z"
        },
        "id": "WdgCWxVSjoyP",
        "outputId": "3d220a9a-fce0-42bf-fb55-58616d96c805"
      },
      "outputs": [
        {
          "data": {
            "application/vnd.jupyter.widget-view+json": {
              "model_id": "7ab1a355a6f6401cbe2d75447a088841",
              "version_major": 2,
              "version_minor": 0
            },
            "text/plain": [
              "  0%|          | 0/2851 [00:00<?, ?it/s]"
            ]
          },
          "metadata": {},
          "output_type": "display_data"
        },
        {
          "name": "stdout",
          "output_type": "stream",
          "text": [
            "Epoch 1, Step 50 | Avg Loss: 0.2404\n",
            "Epoch 1, Step 100 | Avg Loss: 0.1148\n",
            "Epoch 1, Step 150 | Avg Loss: 0.1001\n",
            "Epoch 1, Step 200 | Avg Loss: 0.0991\n",
            "Epoch 1, Step 250 | Avg Loss: 0.1036\n",
            "Epoch 1, Step 300 | Avg Loss: 0.0927\n",
            "Epoch 1, Step 350 | Avg Loss: 0.0940\n",
            "Epoch 1, Step 400 | Avg Loss: 0.0920\n",
            "Epoch 1, Step 450 | Avg Loss: 0.0881\n",
            "Epoch 1, Step 500 | Avg Loss: 0.0900\n",
            "Epoch 1, Step 550 | Avg Loss: 0.0801\n",
            "Epoch 1, Step 600 | Avg Loss: 0.0898\n",
            "Epoch 1, Step 650 | Avg Loss: 0.0834\n",
            "Epoch 1, Step 700 | Avg Loss: 0.0863\n",
            "Epoch 1, Step 750 | Avg Loss: 0.0919\n",
            "Epoch 1, Step 800 | Avg Loss: 0.0832\n",
            "Epoch 1, Step 850 | Avg Loss: 0.0832\n",
            "Epoch 1, Step 900 | Avg Loss: 0.0921\n",
            "Epoch 1, Step 950 | Avg Loss: 0.0844\n",
            "Epoch 1, Step 1000 | Avg Loss: 0.0856\n",
            "Epoch 1, Step 1050 | Avg Loss: 0.0855\n",
            "Epoch 1, Step 1100 | Avg Loss: 0.0845\n",
            "Epoch 1, Step 1150 | Avg Loss: 0.0843\n",
            "Epoch 1, Step 1200 | Avg Loss: 0.0880\n",
            "Epoch 1, Step 1250 | Avg Loss: 0.0850\n",
            "Epoch 1, Step 1300 | Avg Loss: 0.0881\n",
            "Epoch 1, Step 1350 | Avg Loss: 0.0838\n",
            "Epoch 1, Step 1400 | Avg Loss: 0.0828\n",
            "Epoch 1, Step 1450 | Avg Loss: 0.0841\n",
            "Epoch 1, Step 1500 | Avg Loss: 0.0822\n",
            "Epoch 1, Step 1550 | Avg Loss: 0.0824\n",
            "Epoch 1, Step 1600 | Avg Loss: 0.0835\n",
            "Epoch 1, Step 1650 | Avg Loss: 0.0819\n",
            "Epoch 1, Step 1700 | Avg Loss: 0.0852\n",
            "Epoch 1, Step 1750 | Avg Loss: 0.0883\n",
            "Epoch 1, Step 1800 | Avg Loss: 0.0834\n",
            "Epoch 1, Step 1850 | Avg Loss: 0.0848\n",
            "Epoch 1, Step 1900 | Avg Loss: 0.0898\n",
            "Epoch 1, Step 1950 | Avg Loss: 0.0807\n",
            "Epoch 1, Step 2000 | Avg Loss: 0.0868\n",
            "Epoch 1, Step 2050 | Avg Loss: 0.0814\n",
            "Epoch 1, Step 2100 | Avg Loss: 0.0829\n",
            "Epoch 1, Step 2150 | Avg Loss: 0.0795\n",
            "Epoch 1, Step 2200 | Avg Loss: 0.0838\n",
            "Epoch 1, Step 2250 | Avg Loss: 0.0822\n",
            "Epoch 1, Step 2300 | Avg Loss: 0.0797\n",
            "Epoch 1, Step 2350 | Avg Loss: 0.0826\n",
            "Epoch 1, Step 2400 | Avg Loss: 0.0863\n",
            "Epoch 1, Step 2450 | Avg Loss: 0.0838\n",
            "Epoch 1, Step 2500 | Avg Loss: 0.0793\n",
            "Epoch 1, Step 2550 | Avg Loss: 0.0829\n",
            "Epoch 1, Step 2600 | Avg Loss: 0.0828\n",
            "Epoch 1, Step 2650 | Avg Loss: 0.0839\n",
            "Epoch 1, Step 2700 | Avg Loss: 0.0791\n",
            "Epoch 1, Step 2750 | Avg Loss: 0.0802\n",
            "Epoch 1, Step 2800 | Avg Loss: 0.0869\n",
            "Epoch 1, Step 2850 | Avg Loss: 0.0809\n"
          ]
        },
        {
          "name": "stderr",
          "output_type": "stream",
          "text": [
            "Batching examples: 100%|██████████| 2000/2000 [00:00<00:00, 5947.56 examples/s]\n"
          ]
        },
        {
          "data": {
            "application/vnd.jupyter.widget-view+json": {
              "model_id": "03d6451133704e9680ccb31b9b64acdf",
              "version_major": 2,
              "version_minor": 0
            },
            "text/plain": [
              "  0%|          | 0/20 [00:00<?, ?it/s]"
            ]
          },
          "metadata": {},
          "output_type": "display_data"
        },
        {
          "name": "stdout",
          "output_type": "stream",
          "text": [
            "Epoch 1 | Validation F1: 0.5263879733242898\n"
          ]
        }
      ],
      "source": [
        "model = train_model(model.to(DEVICE), optimizer, train_dataloader, dataset[\"validation\"], NUM_EPOCHS)"
      ]
    },
    {
      "cell_type": "code",
      "execution_count": null,
      "metadata": {
        "execution": {
          "iopub.execute_input": "2025-04-12T17:35:16.419893Z",
          "iopub.status.busy": "2025-04-12T17:35:16.419134Z",
          "iopub.status.idle": "2025-04-12T17:35:18.110287Z",
          "shell.execute_reply": "2025-04-12T17:35:18.108805Z",
          "shell.execute_reply.started": "2025-04-12T17:35:16.419871Z"
        },
        "id": "5feQFto27yUF",
        "outputId": "66126301-9b2f-484b-d0b0-36610c892547"
      },
      "outputs": [
        {
          "name": "stdout",
          "output_type": "stream",
          "text": [
            "\"QT @user In the original draft of the 7th book, Remus Lupin survived the Battle of Hogwarts. #HappyBirthdayRemusLupin\"\n",
            "positive\n",
            "positive \n",
            "\n",
            "==========\n",
            "\"Ben Smith / Smith (concussion) remains out of the lineup Thursday, Curtis #NHL #SJ\"\n",
            "neutral\n",
            "neutral \n",
            "\n",
            "==========\n",
            "Sorry bout the stream last night I crashed out but will be on tonight for sure. Then back to Minecraft in pc tomorrow night.\n",
            "neutral\n",
            "negative \n",
            "\n",
            "==========\n",
            "Chase Headley's RBI double in the 8th inning off David Price snapped a Yankees streak of 33 consecutive scoreless innings against Blue Jays\n",
            "neutral\n",
            "neutral \n",
            "\n",
            "==========\n",
            "@user Alciato: Bee will invest 150 million in January, another 200 in the Summer and plans to bring Messi by 2017\"\n",
            "positive\n",
            "neutral \n",
            "\n",
            "==========\n"
          ]
        }
      ],
      "source": [
        "for i in range(5):\n",
        "    input_ids = torch.tensor([dataset[\"train\"][i][\"input_ids\"]], device=DEVICE)\n",
        "    generated_text = generate_class(model, tokenizer, input_ids)\n",
        "    print(dataset[\"train\"][i][\"text\"])\n",
        "    print(dataset[\"train\"][i][\"str_label\"])\n",
        "    print(generated_text)\n",
        "    print(\"=\" * 10)"
      ]
    },
    {
      "cell_type": "markdown",
      "metadata": {
        "id": "DxXmr3w3eCMp"
      },
      "source": [
        "## Оценим результаты"
      ]
    },
    {
      "cell_type": "markdown",
      "metadata": {
        "id": "B71QOPpEeCMp"
      },
      "source": [
        "Теперь увидим, как повлиял наш файнтюнинг"
      ]
    },
    {
      "cell_type": "code",
      "execution_count": null,
      "metadata": {
        "execution": {
          "iopub.execute_input": "2025-04-12T17:35:18.112077Z",
          "iopub.status.busy": "2025-04-12T17:35:18.111209Z",
          "iopub.status.idle": "2025-04-12T17:36:46.399264Z",
          "shell.execute_reply": "2025-04-12T17:36:46.398155Z",
          "shell.execute_reply.started": "2025-04-12T17:35:18.112045Z"
        },
        "id": "jEd1sn3CJYGt",
        "colab": {
          "referenced_widgets": [
            "6d7d03897bc24e4fb79cfa125e213bc6"
          ]
        },
        "outputId": "b63e9fbb-ddaf-49ff-defa-f73b0f8a7148"
      },
      "outputs": [
        {
          "data": {
            "application/vnd.jupyter.widget-view+json": {
              "model_id": "6d7d03897bc24e4fb79cfa125e213bc6",
              "version_major": 2,
              "version_minor": 0
            },
            "text/plain": [
              "  0%|          | 0/123 [00:00<?, ?it/s]"
            ]
          },
          "metadata": {},
          "output_type": "display_data"
        },
        {
          "name": "stdout",
          "output_type": "stream",
          "text": [
            "After LoRA Macro F1: 0.52\n"
          ]
        },
        {
          "data": {
            "image/png": "[encoded data removed]",
            "text/plain": [
              "<Figure size 640x480 with 2 Axes>"
            ]
          },
          "metadata": {},
          "output_type": "display_data"
        }
      ],
      "source": [
        "after_lora_f1 = eval(model, dataset[\"test\"], tokenizer)\n",
        "print(f\"After LoRA Macro F1: {after_lora_f1:.2f}\")"
      ]
    },
    {
      "cell_type": "code",
      "execution_count": null,
      "metadata": {
        "execution": {
          "iopub.execute_input": "2025-04-12T17:37:18.703970Z",
          "iopub.status.busy": "2025-04-12T17:37:18.703528Z",
          "iopub.status.idle": "2025-04-12T17:38:01.246656Z",
          "shell.execute_reply": "2025-04-12T17:38:01.245782Z",
          "shell.execute_reply.started": "2025-04-12T17:37:18.703949Z"
        },
        "id": "bjlSKN9tJYGt",
        "tags": [],
        "outputId": "b77a4d10-ab3c-4426-fd4c-8ac72b259f3f"
      },
      "outputs": [
        {
          "name": "stderr",
          "output_type": "stream",
          "text": [
            "model.safetensors: 100%|██████████| 1.20G/1.20G [00:35<00:00, 33.5MB/s]  \n",
            "No files have been modified since last commit. Skipping to prevent empty commit.\n"
          ]
        },
        {
          "data": {
            "text/plain": [
              "CommitInfo(commit_url='https://huggingface.co/gsemenyak/llm-course-hw3-lora/commit/451db85bd6f34065a505cc5be39770ddbde4a231', commit_message='Upload tokenizer', commit_description='', oid='451db85bd6f34065a505cc5be39770ddbde4a231', pr_url=None, repo_url=RepoUrl('https://huggingface.co/gsemenyak/llm-course-hw3-lora', endpoint='https://huggingface.co', repo_type='model', repo_id='gsemenyak/llm-course-hw3-lora'), pr_revision=None, pr_num=None)"
            ]
          },
          "execution_count": 30,
          "metadata": {},
          "output_type": "execute_result"
        }
      ],
      "source": [
        "# Загружаем все на хаб\n",
        "\n",
        "model.push_to_hub(f\"{REPO_NAME}-lora\")\n",
        "tokenizer.push_to_hub(f\"{REPO_NAME}-lora\")"
      ]
    },
    {
      "cell_type": "code",
      "execution_count": null,
      "metadata": {
        "execution": {
          "iopub.execute_input": "2025-04-12T17:38:09.865890Z",
          "iopub.status.busy": "2025-04-12T17:38:09.865543Z",
          "iopub.status.idle": "2025-04-12T17:38:10.181438Z",
          "shell.execute_reply": "2025-04-12T17:38:10.180630Z",
          "shell.execute_reply.started": "2025-04-12T17:38:09.865863Z"
        },
        "id": "5GqXj9QeUbmv"
      },
      "outputs": [],
      "source": [
        "# Очистим память\n",
        "gc.collect()\n",
        "torch.cuda.empty_cache()"
      ]
    },
    {
      "cell_type": "markdown",
      "metadata": {
        "id": "rZLqE6lItof3"
      },
      "source": [
        "## DoRA: [Weight-Decomposed Low-Rank Adaptation](https://arxiv.org/abs/2402.09353)"
      ]
    },
    {
      "cell_type": "markdown",
      "metadata": {
        "id": "WqokyWcbeCMp"
      },
      "source": [
        "В отличие от метода LoRA, где обновление весов модели представлено в виде низкорангового произведения, метод DoRA вводит дополнительную степень гибкости за счёт применения диагональной матрицы для весового масштабирования.\n",
        "\n",
        "Пусть $W_0 \\in \\mathbb{R}^{d \\times k}$ - исходная матрица весов. В DoRA обновление весов определяется следующим образом:\n",
        "$$\n",
        "W = m \\frac{W_0 + BA}{\\|W_0 + BA \\|}\n",
        "$$\n",
        "\n",
        "Где $BA$ соответствует использованию LoRA, а $m \\in \\mathbb{R}^{k}$ обучаемый вектор."
      ]
    },
    {
      "cell_type": "markdown",
      "metadata": {
        "id": "ah411RkgJYGu"
      },
      "source": [
        "## Обучение модели с помощью DoRA [8 баллов]\n",
        "\n",
        "В этом задании вам потребуется:\n",
        "1. Написать с нуля класс `LinearWithDoRA` который использует написанный ранее `LoRALayer` класс\n",
        "2. Применить его к модели\n",
        "3. Обучить модель"
      ]
    },
    {
      "cell_type": "code",
      "execution_count": null,
      "metadata": {
        "execution": {
          "iopub.execute_input": "2025-04-12T17:38:14.411293Z",
          "iopub.status.busy": "2025-04-12T17:38:14.410886Z",
          "iopub.status.idle": "2025-04-12T17:38:14.441461Z",
          "shell.execute_reply": "2025-04-12T17:38:14.440453Z",
          "shell.execute_reply.started": "2025-04-12T17:38:14.411268Z"
        },
        "id": "XCtym5B_Gkva"
      },
      "outputs": [],
      "source": [
        "class LinearWithDoRA(nn.Module):\n",
        "    def __init__(self, linear, rank, alpha):\n",
        "        super().__init__()\n",
        "        self.linear = linear\n",
        "        self.lora = LoRALayer(linear.in_features, linear.out_features, rank, alpha)\n",
        "        self.scale = nn.Parameter(torch.linalg.norm(linear.weight, dim=0, keepdim=True))\n",
        "\n",
        "    def forward(self, x):\n",
        "\n",
        "        W = self.linear.weight + (self.lora.B @ self.lora.A) * self.lora.scale\n",
        "        W_norm = torch.linalg.norm(W, dim=0, keepdim=True)\n",
        "        W_scaled = self.scale * (W / W_norm)\n",
        "        return torch.nn.functional.linear(x, W_scaled, self.linear.bias)"
      ]
    },
    {
      "cell_type": "markdown",
      "metadata": {
        "id": "xnXowFAoeCMp"
      },
      "source": [
        "Сбрасываем модель и применяем наш DoRA адаптер"
      ]
    },
    {
      "cell_type": "code",
      "execution_count": null,
      "metadata": {
        "colab": {
          "base_uri": "https://localhost:8080/"
        },
        "execution": {
          "iopub.execute_input": "2025-04-12T17:38:18.409140Z",
          "iopub.status.busy": "2025-04-12T17:38:18.408764Z",
          "iopub.status.idle": "2025-04-12T17:38:19.005840Z",
          "shell.execute_reply": "2025-04-12T17:38:19.005139Z",
          "shell.execute_reply.started": "2025-04-12T17:38:18.409114Z"
        },
        "id": "3KBnzrTctof3",
        "outputId": "da30ed39-76c3-4b37-ac12-543af2181082"
      },
      "outputs": [
        {
          "name": "stdout",
          "output_type": "stream",
          "text": [
            "model.embed_tokens.weight: False\n",
            "model.layers.0.self_attn.q_proj.weight: False\n",
            "model.layers.0.self_attn.k_proj.scale: False\n",
            "model.layers.0.self_attn.k_proj.linear.weight: False\n",
            "model.layers.0.self_attn.k_proj.lora.A: True\n",
            "model.layers.0.self_attn.k_proj.lora.B: True\n",
            "model.layers.0.self_attn.v_proj.scale: False\n",
            "model.layers.0.self_attn.v_proj.linear.weight: False\n",
            "model.layers.0.self_attn.v_proj.lora.A: True\n",
            "model.layers.0.self_attn.v_proj.lora.B: True\n",
            "model.layers.0.self_attn.o_proj.weight: False\n",
            "model.layers.0.mlp.gate_proj.weight: False\n",
            "model.layers.0.mlp.up_proj.weight: False\n",
            "model.layers.0.mlp.down_proj.weight: False\n",
            "model.layers.0.input_layernorm.weight: False\n",
            "model.layers.0.post_attention_layernorm.weight: False\n",
            "model.layers.1.self_attn.q_proj.weight: False\n",
            "model.layers.1.self_attn.k_proj.scale: False\n",
            "model.layers.1.self_attn.k_proj.linear.weight: False\n",
            "model.layers.1.self_attn.k_proj.lora.A: True\n",
            "model.layers.1.self_attn.k_proj.lora.B: True\n",
            "model.layers.1.self_attn.v_proj.scale: False\n",
            "model.layers.1.self_attn.v_proj.linear.weight: False\n",
            "model.layers.1.self_attn.v_proj.lora.A: True\n",
            "model.layers.1.self_attn.v_proj.lora.B: True\n",
            "model.layers.1.self_attn.o_proj.weight: False\n",
            "model.layers.1.mlp.gate_proj.weight: False\n",
            "model.layers.1.mlp.up_proj.weight: False\n",
            "model.layers.1.mlp.down_proj.weight: False\n",
            "model.layers.1.input_layernorm.weight: False\n",
            "model.layers.1.post_attention_layernorm.weight: False\n",
            "model.layers.2.self_attn.q_proj.weight: False\n",
            "model.layers.2.self_attn.k_proj.scale: False\n",
            "model.layers.2.self_attn.k_proj.linear.weight: False\n",
            "model.layers.2.self_attn.k_proj.lora.A: True\n",
            "model.layers.2.self_attn.k_proj.lora.B: True\n",
            "model.layers.2.self_attn.v_proj.scale: False\n",
            "model.layers.2.self_attn.v_proj.linear.weight: False\n",
            "model.layers.2.self_attn.v_proj.lora.A: True\n",
            "model.layers.2.self_attn.v_proj.lora.B: True\n",
            "model.layers.2.self_attn.o_proj.weight: False\n",
            "model.layers.2.mlp.gate_proj.weight: False\n",
            "model.layers.2.mlp.up_proj.weight: False\n",
            "model.layers.2.mlp.down_proj.weight: False\n",
            "model.layers.2.input_layernorm.weight: False\n",
            "model.layers.2.post_attention_layernorm.weight: False\n",
            "model.layers.3.self_attn.q_proj.weight: False\n",
            "model.layers.3.self_attn.k_proj.scale: False\n",
            "model.layers.3.self_attn.k_proj.linear.weight: False\n",
            "model.layers.3.self_attn.k_proj.lora.A: True\n",
            "model.layers.3.self_attn.k_proj.lora.B: True\n",
            "model.layers.3.self_attn.v_proj.scale: False\n",
            "model.layers.3.self_attn.v_proj.linear.weight: False\n",
            "model.layers.3.self_attn.v_proj.lora.A: True\n",
            "model.layers.3.self_attn.v_proj.lora.B: True\n",
            "model.layers.3.self_attn.o_proj.weight: False\n",
            "model.layers.3.mlp.gate_proj.weight: False\n",
            "model.layers.3.mlp.up_proj.weight: False\n",
            "model.layers.3.mlp.down_proj.weight: False\n",
            "model.layers.3.input_layernorm.weight: False\n",
            "model.layers.3.post_attention_layernorm.weight: False\n",
            "model.layers.4.self_attn.q_proj.weight: False\n",
            "model.layers.4.self_attn.k_proj.scale: False\n",
            "model.layers.4.self_attn.k_proj.linear.weight: False\n",
            "model.layers.4.self_attn.k_proj.lora.A: True\n",
            "model.layers.4.self_attn.k_proj.lora.B: True\n",
            "model.layers.4.self_attn.v_proj.scale: False\n",
            "model.layers.4.self_attn.v_proj.linear.weight: False\n",
            "model.layers.4.self_attn.v_proj.lora.A: True\n",
            "model.layers.4.self_attn.v_proj.lora.B: True\n",
            "model.layers.4.self_attn.o_proj.weight: False\n",
            "model.layers.4.mlp.gate_proj.weight: False\n",
            "model.layers.4.mlp.up_proj.weight: False\n",
            "model.layers.4.mlp.down_proj.weight: False\n",
            "model.layers.4.input_layernorm.weight: False\n",
            "model.layers.4.post_attention_layernorm.weight: False\n",
            "model.layers.5.self_attn.q_proj.weight: False\n",
            "model.layers.5.self_attn.k_proj.scale: False\n",
            "model.layers.5.self_attn.k_proj.linear.weight: False\n",
            "model.layers.5.self_attn.k_proj.lora.A: True\n",
            "model.layers.5.self_attn.k_proj.lora.B: True\n",
            "model.layers.5.self_attn.v_proj.scale: False\n",
            "model.layers.5.self_attn.v_proj.linear.weight: False\n",
            "model.layers.5.self_attn.v_proj.lora.A: True\n",
            "model.layers.5.self_attn.v_proj.lora.B: True\n",
            "model.layers.5.self_attn.o_proj.weight: False\n",
            "model.layers.5.mlp.gate_proj.weight: False\n",
            "model.layers.5.mlp.up_proj.weight: False\n",
            "model.layers.5.mlp.down_proj.weight: False\n",
            "model.layers.5.input_layernorm.weight: False\n",
            "model.layers.5.post_attention_layernorm.weight: False\n",
            "model.layers.6.self_attn.q_proj.weight: False\n",
            "model.layers.6.self_attn.k_proj.scale: False\n",
            "model.layers.6.self_attn.k_proj.linear.weight: False\n",
            "model.layers.6.self_attn.k_proj.lora.A: True\n",
            "model.layers.6.self_attn.k_proj.lora.B: True\n",
            "model.layers.6.self_attn.v_proj.scale: False\n",
            "model.layers.6.self_attn.v_proj.linear.weight: False\n",
            "model.layers.6.self_attn.v_proj.lora.A: True\n",
            "model.layers.6.self_attn.v_proj.lora.B: True\n",
            "model.layers.6.self_attn.o_proj.weight: False\n",
            "model.layers.6.mlp.gate_proj.weight: False\n",
            "model.layers.6.mlp.up_proj.weight: False\n",
            "model.layers.6.mlp.down_proj.weight: False\n",
            "model.layers.6.input_layernorm.weight: False\n",
            "model.layers.6.post_attention_layernorm.weight: False\n",
            "model.layers.7.self_attn.q_proj.weight: False\n",
            "model.layers.7.self_attn.k_proj.scale: False\n",
            "model.layers.7.self_attn.k_proj.linear.weight: False\n",
            "model.layers.7.self_attn.k_proj.lora.A: True\n",
            "model.layers.7.self_attn.k_proj.lora.B: True\n",
            "model.layers.7.self_attn.v_proj.scale: False\n",
            "model.layers.7.self_attn.v_proj.linear.weight: False\n",
            "model.layers.7.self_attn.v_proj.lora.A: True\n",
            "model.layers.7.self_attn.v_proj.lora.B: True\n",
            "model.layers.7.self_attn.o_proj.weight: False\n",
            "model.layers.7.mlp.gate_proj.weight: False\n",
            "model.layers.7.mlp.up_proj.weight: False\n",
            "model.layers.7.mlp.down_proj.weight: False\n",
            "model.layers.7.input_layernorm.weight: False\n",
            "model.layers.7.post_attention_layernorm.weight: False\n",
            "model.layers.8.self_attn.q_proj.weight: False\n",
            "model.layers.8.self_attn.k_proj.scale: False\n",
            "model.layers.8.self_attn.k_proj.linear.weight: False\n",
            "model.layers.8.self_attn.k_proj.lora.A: True\n",
            "model.layers.8.self_attn.k_proj.lora.B: True\n",
            "model.layers.8.self_attn.v_proj.scale: False\n",
            "model.layers.8.self_attn.v_proj.linear.weight: False\n",
            "model.layers.8.self_attn.v_proj.lora.A: True\n",
            "model.layers.8.self_attn.v_proj.lora.B: True\n",
            "model.layers.8.self_attn.o_proj.weight: False\n",
            "model.layers.8.mlp.gate_proj.weight: False\n",
            "model.layers.8.mlp.up_proj.weight: False\n",
            "model.layers.8.mlp.down_proj.weight: False\n",
            "model.layers.8.input_layernorm.weight: False\n",
            "model.layers.8.post_attention_layernorm.weight: False\n",
            "model.layers.9.self_attn.q_proj.weight: False\n",
            "model.layers.9.self_attn.k_proj.scale: False\n",
            "model.layers.9.self_attn.k_proj.linear.weight: False\n",
            "model.layers.9.self_attn.k_proj.lora.A: True\n",
            "model.layers.9.self_attn.k_proj.lora.B: True\n",
            "model.layers.9.self_attn.v_proj.scale: False\n",
            "model.layers.9.self_attn.v_proj.linear.weight: False\n",
            "model.layers.9.self_attn.v_proj.lora.A: True\n",
            "model.layers.9.self_attn.v_proj.lora.B: True\n",
            "model.layers.9.self_attn.o_proj.weight: False\n",
            "model.layers.9.mlp.gate_proj.weight: False\n",
            "model.layers.9.mlp.up_proj.weight: False\n",
            "model.layers.9.mlp.down_proj.weight: False\n",
            "model.layers.9.input_layernorm.weight: False\n",
            "model.layers.9.post_attention_layernorm.weight: False\n",
            "model.layers.10.self_attn.q_proj.weight: False\n",
            "model.layers.10.self_attn.k_proj.scale: False\n",
            "model.layers.10.self_attn.k_proj.linear.weight: False\n",
            "model.layers.10.self_attn.k_proj.lora.A: True\n",
            "model.layers.10.self_attn.k_proj.lora.B: True\n",
            "model.layers.10.self_attn.v_proj.scale: False\n",
            "model.layers.10.self_attn.v_proj.linear.weight: False\n",
            "model.layers.10.self_attn.v_proj.lora.A: True\n",
            "model.layers.10.self_attn.v_proj.lora.B: True\n",
            "model.layers.10.self_attn.o_proj.weight: False\n",
            "model.layers.10.mlp.gate_proj.weight: False\n",
            "model.layers.10.mlp.up_proj.weight: False\n",
            "model.layers.10.mlp.down_proj.weight: False\n",
            "model.layers.10.input_layernorm.weight: False\n",
            "model.layers.10.post_attention_layernorm.weight: False\n",
            "model.layers.11.self_attn.q_proj.weight: False\n",
            "model.layers.11.self_attn.k_proj.scale: False\n",
            "model.layers.11.self_attn.k_proj.linear.weight: False\n",
            "model.layers.11.self_attn.k_proj.lora.A: True\n",
            "model.layers.11.self_attn.k_proj.lora.B: True\n",
            "model.layers.11.self_attn.v_proj.scale: False\n",
            "model.layers.11.self_attn.v_proj.linear.weight: False\n",
            "model.layers.11.self_attn.v_proj.lora.A: True\n",
            "model.layers.11.self_attn.v_proj.lora.B: True\n",
            "model.layers.11.self_attn.o_proj.weight: False\n",
            "model.layers.11.mlp.gate_proj.weight: False\n",
            "model.layers.11.mlp.up_proj.weight: False\n",
            "model.layers.11.mlp.down_proj.weight: False\n",
            "model.layers.11.input_layernorm.weight: False\n",
            "model.layers.11.post_attention_layernorm.weight: False\n",
            "model.layers.12.self_attn.q_proj.weight: False\n",
            "model.layers.12.self_attn.k_proj.scale: False\n",
            "model.layers.12.self_attn.k_proj.linear.weight: False\n",
            "model.layers.12.self_attn.k_proj.lora.A: True\n",
            "model.layers.12.self_attn.k_proj.lora.B: True\n",
            "model.layers.12.self_attn.v_proj.scale: False\n",
            "model.layers.12.self_attn.v_proj.linear.weight: False\n",
            "model.layers.12.self_attn.v_proj.lora.A: True\n",
            "model.layers.12.self_attn.v_proj.lora.B: True\n",
            "model.layers.12.self_attn.o_proj.weight: False\n",
            "model.layers.12.mlp.gate_proj.weight: False\n",
            "model.layers.12.mlp.up_proj.weight: False\n",
            "model.layers.12.mlp.down_proj.weight: False\n",
            "model.layers.12.input_layernorm.weight: False\n",
            "model.layers.12.post_attention_layernorm.weight: False\n",
            "model.layers.13.self_attn.q_proj.weight: False\n",
            "model.layers.13.self_attn.k_proj.scale: False\n",
            "model.layers.13.self_attn.k_proj.linear.weight: False\n",
            "model.layers.13.self_attn.k_proj.lora.A: True\n",
            "model.layers.13.self_attn.k_proj.lora.B: True\n",
            "model.layers.13.self_attn.v_proj.scale: False\n",
            "model.layers.13.self_attn.v_proj.linear.weight: False\n",
            "model.layers.13.self_attn.v_proj.lora.A: True\n",
            "model.layers.13.self_attn.v_proj.lora.B: True\n",
            "model.layers.13.self_attn.o_proj.weight: False\n",
            "model.layers.13.mlp.gate_proj.weight: False\n",
            "model.layers.13.mlp.up_proj.weight: False\n",
            "model.layers.13.mlp.down_proj.weight: False\n",
            "model.layers.13.input_layernorm.weight: False\n",
            "model.layers.13.post_attention_layernorm.weight: False\n",
            "model.layers.14.self_attn.q_proj.weight: False\n",
            "model.layers.14.self_attn.k_proj.scale: False\n",
            "model.layers.14.self_attn.k_proj.linear.weight: False\n",
            "model.layers.14.self_attn.k_proj.lora.A: True\n",
            "model.layers.14.self_attn.k_proj.lora.B: True\n",
            "model.layers.14.self_attn.v_proj.scale: False\n",
            "model.layers.14.self_attn.v_proj.linear.weight: False\n",
            "model.layers.14.self_attn.v_proj.lora.A: True\n",
            "model.layers.14.self_attn.v_proj.lora.B: True\n",
            "model.layers.14.self_attn.o_proj.weight: False\n",
            "model.layers.14.mlp.gate_proj.weight: False\n",
            "model.layers.14.mlp.up_proj.weight: False\n",
            "model.layers.14.mlp.down_proj.weight: False\n",
            "model.layers.14.input_layernorm.weight: False\n",
            "model.layers.14.post_attention_layernorm.weight: False\n",
            "model.layers.15.self_attn.q_proj.weight: False\n",
            "model.layers.15.self_attn.k_proj.scale: False\n",
            "model.layers.15.self_attn.k_proj.linear.weight: False\n",
            "model.layers.15.self_attn.k_proj.lora.A: True\n",
            "model.layers.15.self_attn.k_proj.lora.B: True\n",
            "model.layers.15.self_attn.v_proj.scale: False\n",
            "model.layers.15.self_attn.v_proj.linear.weight: False\n",
            "model.layers.15.self_attn.v_proj.lora.A: True\n",
            "model.layers.15.self_attn.v_proj.lora.B: True\n",
            "model.layers.15.self_attn.o_proj.weight: False\n",
            "model.layers.15.mlp.gate_proj.weight: False\n",
            "model.layers.15.mlp.up_proj.weight: False\n",
            "model.layers.15.mlp.down_proj.weight: False\n",
            "model.layers.15.input_layernorm.weight: False\n",
            "model.layers.15.post_attention_layernorm.weight: False\n",
            "model.layers.16.self_attn.q_proj.weight: False\n",
            "model.layers.16.self_attn.k_proj.scale: False\n",
            "model.layers.16.self_attn.k_proj.linear.weight: False\n",
            "model.layers.16.self_attn.k_proj.lora.A: True\n",
            "model.layers.16.self_attn.k_proj.lora.B: True\n",
            "model.layers.16.self_attn.v_proj.scale: False\n",
            "model.layers.16.self_attn.v_proj.linear.weight: False\n",
            "model.layers.16.self_attn.v_proj.lora.A: True\n",
            "model.layers.16.self_attn.v_proj.lora.B: True\n",
            "model.layers.16.self_attn.o_proj.weight: False\n",
            "model.layers.16.mlp.gate_proj.weight: False\n",
            "model.layers.16.mlp.up_proj.weight: False\n",
            "model.layers.16.mlp.down_proj.weight: False\n",
            "model.layers.16.input_layernorm.weight: False\n",
            "model.layers.16.post_attention_layernorm.weight: False\n",
            "model.layers.17.self_attn.q_proj.weight: False\n",
            "model.layers.17.self_attn.k_proj.scale: False\n",
            "model.layers.17.self_attn.k_proj.linear.weight: False\n",
            "model.layers.17.self_attn.k_proj.lora.A: True\n",
            "model.layers.17.self_attn.k_proj.lora.B: True\n",
            "model.layers.17.self_attn.v_proj.scale: False\n",
            "model.layers.17.self_attn.v_proj.linear.weight: False\n",
            "model.layers.17.self_attn.v_proj.lora.A: True\n",
            "model.layers.17.self_attn.v_proj.lora.B: True\n",
            "model.layers.17.self_attn.o_proj.weight: False\n",
            "model.layers.17.mlp.gate_proj.weight: False\n",
            "model.layers.17.mlp.up_proj.weight: False\n",
            "model.layers.17.mlp.down_proj.weight: False\n",
            "model.layers.17.input_layernorm.weight: False\n",
            "model.layers.17.post_attention_layernorm.weight: False\n",
            "model.layers.18.self_attn.q_proj.weight: False\n",
            "model.layers.18.self_attn.k_proj.scale: False\n",
            "model.layers.18.self_attn.k_proj.linear.weight: False\n",
            "model.layers.18.self_attn.k_proj.lora.A: True\n",
            "model.layers.18.self_attn.k_proj.lora.B: True\n",
            "model.layers.18.self_attn.v_proj.scale: False\n",
            "model.layers.18.self_attn.v_proj.linear.weight: False\n",
            "model.layers.18.self_attn.v_proj.lora.A: True\n",
            "model.layers.18.self_attn.v_proj.lora.B: True\n",
            "model.layers.18.self_attn.o_proj.weight: False\n",
            "model.layers.18.mlp.gate_proj.weight: False\n",
            "model.layers.18.mlp.up_proj.weight: False\n",
            "model.layers.18.mlp.down_proj.weight: False\n",
            "model.layers.18.input_layernorm.weight: False\n",
            "model.layers.18.post_attention_layernorm.weight: False\n",
            "model.layers.19.self_attn.q_proj.weight: False\n",
            "model.layers.19.self_attn.k_proj.scale: False\n",
            "model.layers.19.self_attn.k_proj.linear.weight: False\n",
            "model.layers.19.self_attn.k_proj.lora.A: True\n",
            "model.layers.19.self_attn.k_proj.lora.B: True\n",
            "model.layers.19.self_attn.v_proj.scale: False\n",
            "model.layers.19.self_attn.v_proj.linear.weight: False\n",
            "model.layers.19.self_attn.v_proj.lora.A: True\n",
            "model.layers.19.self_attn.v_proj.lora.B: True\n",
            "model.layers.19.self_attn.o_proj.weight: False\n",
            "model.layers.19.mlp.gate_proj.weight: False\n",
            "model.layers.19.mlp.up_proj.weight: False\n",
            "model.layers.19.mlp.down_proj.weight: False\n",
            "model.layers.19.input_layernorm.weight: False\n",
            "model.layers.19.post_attention_layernorm.weight: False\n",
            "model.norm.weight: False\n",
            "lm_head.weight: False\n",
            "Train 430080/300067712 (0.14%) parameters\n"
          ]
        }
      ],
      "source": [
        "model = AutoModelForCausalLM.from_pretrained(MODEL_NAME)\n",
        "model = model.to(DEVICE)\n",
        "\n",
        "apply_peft_to_module(model, LinearWithDoRA, r=8, alpha=16, target_submodules=[\"k_proj\", \"v_proj\"])\n",
        "\n",
        "model = freeze_layers(model, [\"lora\"])"
      ]
    },
    {
      "cell_type": "markdown",
      "metadata": {
        "id": "j0zhC40OJYGu"
      },
      "source": [
        "### Обучение"
      ]
    },
    {
      "cell_type": "code",
      "execution_count": null,
      "metadata": {
        "execution": {
          "iopub.execute_input": "2025-04-12T17:38:37.485436Z",
          "iopub.status.busy": "2025-04-12T17:38:37.485002Z",
          "iopub.status.idle": "2025-04-12T17:38:37.537507Z",
          "shell.execute_reply": "2025-04-12T17:38:37.536803Z",
          "shell.execute_reply.started": "2025-04-12T17:38:37.485415Z"
        },
        "id": "VRkx5lW9tof3"
      },
      "outputs": [],
      "source": [
        "BATCH_SIZE = 16\n",
        "LEARNING_RATE = 5e-4\n",
        "NUM_EPOCHS = 2\n",
        "\n",
        "train_dataloader = DataLoader(\n",
        "    dataset.with_format(\"torch\")[\"train\"].take(10_000),\n",
        "    batch_size=BATCH_SIZE,\n",
        "    shuffle=True,\n",
        "    collate_fn=partial(pad_collate_fn, pad_token_id=tokenizer.pad_token_id),\n",
        ")\n",
        "\n",
        "optimizer = torch.optim.AdamW(\n",
        "    [p for n, p in model.named_parameters() if \"lora\" in n], lr=LEARNING_RATE, weight_decay=0.01\n",
        ")"
      ]
    },
    {
      "cell_type": "code",
      "execution_count": null,
      "metadata": {
        "colab": {
          "base_uri": "https://localhost:8080/",
          "height": 330,
          "referenced_widgets": [
            "4983b95acd6a43138d719acec2da1ebd",
            "a8180d4cda0b417ea71e9e93d6d189ba",
            "378cb271e7ff4e1d85938b0f0d59d212",
            "57594e91a6a2404d8248621c0a0570ef",
            "8293904fbb544467ba50518dab42a02d",
            "9bc4a8b2adfa4f6b91834e51aed368e2",
            "0544636535cb46e0ac6e0f41516f5de8",
            "e2c2e84c80494a13a147a9d37d70033d",
            "c149d716ff824937b06a6ecc3d21d398",
            "02ed3ba5e5f245cc8b9ca854a9244aff",
            "57e04faafe4f4f66a08d95edb95ade8b",
            "b081328eba754e32bb0dcdbb779e6ac5",
            "f14a837cb0484497a5f8ec7bbbae709b",
            "291139fa3459433aba966c569b3be1f8",
            "ee8acdb798074e9a8bc0da53e74c95e8"
          ]
        },
        "execution": {
          "iopub.execute_input": "2025-04-12T17:38:40.339385Z",
          "iopub.status.busy": "2025-04-12T17:38:40.339003Z",
          "iopub.status.idle": "2025-04-12T17:42:28.837577Z",
          "shell.execute_reply": "2025-04-12T17:42:28.836676Z",
          "shell.execute_reply.started": "2025-04-12T17:38:40.339341Z"
        },
        "id": "VyxkGpb6joyP",
        "outputId": "c36fc16e-fc70-400b-e34c-969263e2183b"
      },
      "outputs": [
        {
          "data": {
            "application/vnd.jupyter.widget-view+json": {
              "model_id": "b081328eba754e32bb0dcdbb779e6ac5",
              "version_major": 2,
              "version_minor": 0
            },
            "text/plain": [
              "  0%|          | 0/625 [00:00<?, ?it/s]"
            ]
          },
          "metadata": {},
          "output_type": "display_data"
        },
        {
          "name": "stdout",
          "output_type": "stream",
          "text": [
            "Epoch 1, Step 50 | Avg Loss: 0.2507\n",
            "Epoch 1, Step 100 | Avg Loss: 0.1102\n",
            "Epoch 1, Step 150 | Avg Loss: 0.1054\n",
            "Epoch 1, Step 200 | Avg Loss: 0.0985\n",
            "Epoch 1, Step 250 | Avg Loss: 0.1010\n",
            "Epoch 1, Step 300 | Avg Loss: 0.0929\n",
            "Epoch 1, Step 350 | Avg Loss: 0.0962\n",
            "Epoch 1, Step 400 | Avg Loss: 0.0921\n",
            "Epoch 1, Step 450 | Avg Loss: 0.0911\n",
            "Epoch 1, Step 500 | Avg Loss: 0.0886\n",
            "Epoch 1, Step 550 | Avg Loss: 0.0931\n",
            "Epoch 1, Step 600 | Avg Loss: 0.0916\n"
          ]
        },
        {
          "data": {
            "application/vnd.jupyter.widget-view+json": {
              "model_id": "f14a837cb0484497a5f8ec7bbbae709b",
              "version_major": 2,
              "version_minor": 0
            },
            "text/plain": [
              "  0%|          | 0/20 [00:00<?, ?it/s]"
            ]
          },
          "metadata": {},
          "output_type": "display_data"
        },
        {
          "name": "stdout",
          "output_type": "stream",
          "text": [
            "Epoch 1 | Validation F1: 0.48285889382419556\n"
          ]
        },
        {
          "data": {
            "application/vnd.jupyter.widget-view+json": {
              "model_id": "291139fa3459433aba966c569b3be1f8",
              "version_major": 2,
              "version_minor": 0
            },
            "text/plain": [
              "  0%|          | 0/625 [00:00<?, ?it/s]"
            ]
          },
          "metadata": {},
          "output_type": "display_data"
        },
        {
          "name": "stdout",
          "output_type": "stream",
          "text": [
            "Epoch 2, Step 50 | Avg Loss: 0.0724\n",
            "Epoch 2, Step 100 | Avg Loss: 0.0819\n",
            "Epoch 2, Step 150 | Avg Loss: 0.0699\n",
            "Epoch 2, Step 200 | Avg Loss: 0.0737\n",
            "Epoch 2, Step 250 | Avg Loss: 0.0773\n",
            "Epoch 2, Step 300 | Avg Loss: 0.0792\n",
            "Epoch 2, Step 350 | Avg Loss: 0.0797\n",
            "Epoch 2, Step 400 | Avg Loss: 0.0762\n",
            "Epoch 2, Step 450 | Avg Loss: 0.0769\n",
            "Epoch 2, Step 500 | Avg Loss: 0.0775\n",
            "Epoch 2, Step 550 | Avg Loss: 0.0764\n",
            "Epoch 2, Step 600 | Avg Loss: 0.0799\n"
          ]
        },
        {
          "data": {
            "application/vnd.jupyter.widget-view+json": {
              "model_id": "ee8acdb798074e9a8bc0da53e74c95e8",
              "version_major": 2,
              "version_minor": 0
            },
            "text/plain": [
              "  0%|          | 0/20 [00:00<?, ?it/s]"
            ]
          },
          "metadata": {},
          "output_type": "display_data"
        },
        {
          "name": "stdout",
          "output_type": "stream",
          "text": [
            "Epoch 2 | Validation F1: 0.514690961147037\n"
          ]
        }
      ],
      "source": [
        "model = train_model(model.to(DEVICE), optimizer, train_dataloader, dataset[\"validation\"], NUM_EPOCHS)"
      ]
    },
    {
      "cell_type": "code",
      "execution_count": null,
      "metadata": {
        "execution": {
          "iopub.execute_input": "2025-04-12T17:42:28.839320Z",
          "iopub.status.busy": "2025-04-12T17:42:28.838985Z",
          "iopub.status.idle": "2025-04-12T17:42:30.629823Z",
          "shell.execute_reply": "2025-04-12T17:42:30.628965Z",
          "shell.execute_reply.started": "2025-04-12T17:42:28.839299Z"
        },
        "id": "eVpdAGlq_UVh",
        "outputId": "9a164b0f-2730-45fb-86fe-75c8588100b5"
      },
      "outputs": [
        {
          "name": "stdout",
          "output_type": "stream",
          "text": [
            "\"QT @user In the original draft of the 7th book, Remus Lupin survived the Battle of Hogwarts. #HappyBirthdayRemusLupin\"\n",
            "positive\n",
            "positive \n",
            "\n",
            "==========\n",
            "\"Ben Smith / Smith (concussion) remains out of the lineup Thursday, Curtis #NHL #SJ\"\n",
            "neutral\n",
            "neutral \n",
            "\n",
            "==========\n",
            "Sorry bout the stream last night I crashed out but will be on tonight for sure. Then back to Minecraft in pc tomorrow night.\n",
            "neutral\n",
            "positive \n",
            "\n",
            "==========\n",
            "Chase Headley's RBI double in the 8th inning off David Price snapped a Yankees streak of 33 consecutive scoreless innings against Blue Jays\n",
            "neutral\n",
            "neutral \n",
            "\n",
            "==========\n",
            "@user Alciato: Bee will invest 150 million in January, another 200 in the Summer and plans to bring Messi by 2017\"\n",
            "positive\n",
            "neutral \n",
            "\n",
            "==========\n"
          ]
        }
      ],
      "source": [
        "for i in range(5):\n",
        "    input_ids = torch.tensor([dataset[\"train\"][i][\"input_ids\"]], device=DEVICE)\n",
        "    generated_text = generate_class(model, tokenizer, input_ids)\n",
        "    print(dataset[\"train\"][i][\"text\"])\n",
        "    print(dataset[\"train\"][i][\"str_label\"])\n",
        "    print(generated_text)\n",
        "    print(\"=\" * 10)"
      ]
    },
    {
      "cell_type": "code",
      "execution_count": null,
      "metadata": {
        "execution": {
          "iopub.execute_input": "2025-04-12T17:42:30.630985Z",
          "iopub.status.busy": "2025-04-12T17:42:30.630634Z",
          "iopub.status.idle": "2025-04-12T17:43:57.478791Z",
          "shell.execute_reply": "2025-04-12T17:43:57.478060Z",
          "shell.execute_reply.started": "2025-04-12T17:42:30.630958Z"
        },
        "id": "gn4CRy9gJYGu",
        "colab": {
          "referenced_widgets": [
            "8c52169e4b6247e28c4ee9f30ba7ac78"
          ]
        },
        "outputId": "d8e8daae-367d-47db-d6d9-44a1f0e15356"
      },
      "outputs": [
        {
          "data": {
            "application/vnd.jupyter.widget-view+json": {
              "model_id": "8c52169e4b6247e28c4ee9f30ba7ac78",
              "version_major": 2,
              "version_minor": 0
            },
            "text/plain": [
              "  0%|          | 0/123 [00:00<?, ?it/s]"
            ]
          },
          "metadata": {},
          "output_type": "display_data"
        },
        {
          "name": "stdout",
          "output_type": "stream",
          "text": [
            "After DoRA Macro F1: 0.51\n"
          ]
        },
        {
          "data": {
            "image/png": "[encoded data removed]",
            "text/plain": [
              "<Figure size 640x480 with 2 Axes>"
            ]
          },
          "metadata": {},
          "output_type": "display_data"
        }
      ],
      "source": [
        "after_dora_f1 = eval(model, dataset[\"test\"], tokenizer)\n",
        "print(f\"After DoRA Macro F1: {after_dora_f1:.2f}\")"
      ]
    },
    {
      "cell_type": "markdown",
      "metadata": {
        "id": "Lsw1xNriLOK1"
      },
      "source": [
        "Для качественного обучения доры в этой задаче нужно постараться.\n",
        "Будем считать, что если качество > 0.5, то задание с учетом правильности кода решено верно"
      ]
    },
    {
      "cell_type": "code",
      "execution_count": null,
      "metadata": {
        "execution": {
          "iopub.execute_input": "2025-04-12T17:46:02.856536Z",
          "iopub.status.busy": "2025-04-12T17:46:02.856127Z",
          "iopub.status.idle": "2025-04-12T17:46:07.254791Z",
          "shell.execute_reply": "2025-04-12T17:46:07.253929Z",
          "shell.execute_reply.started": "2025-04-12T17:46:02.856516Z"
        },
        "id": "iKx3V44Wtof4",
        "tags": [],
        "outputId": "78de138c-6c97-4787-a163-07b422339000"
      },
      "outputs": [
        {
          "name": "stderr",
          "output_type": "stream",
          "text": [
            "No files have been modified since last commit. Skipping to prevent empty commit.\n",
            "No files have been modified since last commit. Skipping to prevent empty commit.\n"
          ]
        },
        {
          "data": {
            "text/plain": [
              "CommitInfo(commit_url='https://huggingface.co/gsemenyak/llm-course-hw3-dora/commit/1ea5ef05fa01da9445dc3b83610a8b31acdf9039', commit_message='Upload tokenizer', commit_description='', oid='1ea5ef05fa01da9445dc3b83610a8b31acdf9039', pr_url=None, repo_url=RepoUrl('https://huggingface.co/gsemenyak/llm-course-hw3-dora', endpoint='https://huggingface.co', repo_type='model', repo_id='gsemenyak/llm-course-hw3-dora'), pr_revision=None, pr_num=None)"
            ]
          },
          "execution_count": 41,
          "metadata": {},
          "output_type": "execute_result"
        }
      ],
      "source": [
        "# Загружаем все на хаб\n",
        "\n",
        "model.push_to_hub(f\"{REPO_NAME}-dora\")\n",
        "tokenizer.push_to_hub(f\"{REPO_NAME}-dora\")"
      ]
    },
    {
      "cell_type": "code",
      "execution_count": null,
      "metadata": {
        "id": "mfHn0cq2joyQ"
      },
      "outputs": [],
      "source": [
        "# Очистим память\n",
        "gc.collect()\n",
        "torch.cuda.empty_cache()"
      ]
    },
    {
      "cell_type": "markdown",
      "metadata": {
        "id": "RQ2oIfqq-luU"
      },
      "source": [
        "## Frameworks way [4 балла]\n",
        "\n",
        "### QLoRA: [Efficient Finetuning of Quantized LLMs](https://arxiv.org/pdf/2305.14314)\n",
        "\n",
        "Метод QLoRA направлен на эффективное дообучение предварительно обученных больших языковых моделей с использованием квантования весов. Основная идея заключается в том, что во время обратного распространения ошибки модель квантует исходные веса с точностью до 4 бит, что позволяет значительно сократить использование GPU памяти. Для обработки пиков памяти при этом применяются страничные оптимизаторы.\n",
        "\n",
        "В результате, применение QLoRA часто приводит к экономии GPU памяти примерно на $\\dfrac{1}{3}$, однако время обучения при этом может увеличиться почти на $\\dfrac{1}{4}$ по сравнению с традиционными методами дообучения.\n",
        "\n",
        "Такой компромисс между экономией памяти и увеличением времени обучения делает QLoRA привлекательным решением в сценариях, где ресурсы ограничены, а эффективность использования памяти критически важна."
      ]
    },
    {
      "cell_type": "markdown",
      "metadata": {
        "id": "rFawKYW2JYGu"
      },
      "source": [
        "Теперь с таким прекрасным инструментом как QLoRA можем рассмотреть более тяжелую модель аж 1.1B :)"
      ]
    },
    {
      "cell_type": "markdown",
      "metadata": {
        "id": "ORyx9BcxTeIB"
      },
      "source": [
        "Используйте документацию библиотек [HuggingFace Transformers](https://huggingface.co/docs/transformers/index) и [PEFT](https://huggingface.co/docs/peft/index).\n",
        "\n",
        "1. Конфигурация квантизации (`BitsAndBytesConfig`): Подберите тип 4-битной квантизации (`bnb_4bit_quant_type`) и размерность подсчёта (`bnb_4bit_compute_dtype`)\n",
        "\n",
        "2. Настройка LoRA-адаптеров (`LoraConfig`):\n",
        "    - Подберите и обоснуйте значения следующих гиперпараметров:\n",
        "        - `lora_alpha`\n",
        "        - `lora_dropout`\n",
        "        - `r`\n",
        "    - Выберите модули модели, к которым следует применять LoRA-адаптеры (`target_modules`).\n",
        "\n",
        "3. Настройка параметров обучения (`TrainingArguments`, `SFTTrainer`):\n",
        "Используя документацию и подберите параметры:\n",
        "    - `learning_rate`\n",
        "    - `num_train_epochs`\n",
        "    - `gradient_accumulation_steps`\n",
        "    - `lr_scheduler_type`\n",
        "    - `per_device_train_batch_size`\n",
        "    - другие параметры по необходимости\n",
        "\n",
        "4. Проведение обучения и анализ результатов:\n",
        "    - Запустите обучение модели.\n",
        "    - Оцените модель до и после обучения.\n",
        "    - сохраните модель\n"
      ]
    },
    {
      "cell_type": "code",
      "execution_count": null,
      "metadata": {
        "execution": {
          "iopub.execute_input": "2025-04-12T17:57:24.779760Z",
          "iopub.status.busy": "2025-04-12T17:57:24.779283Z",
          "iopub.status.idle": "2025-04-12T17:57:26.365032Z",
          "shell.execute_reply": "2025-04-12T17:57:26.364218Z",
          "shell.execute_reply.started": "2025-04-12T17:57:24.779738Z"
        },
        "id": "QbVVMEvgeCMq",
        "tags": []
      },
      "outputs": [],
      "source": [
        "LARGE_MODEL_NAME = \"TinyLlama/TinyLlama-1.1B-Chat-v1.0\"\n",
        "\n",
        "# Заведем конфиг для квантизации\n",
        "bnb_config = BitsAndBytesConfig(\n",
        "    load_in_4bit=True,\n",
        "    bnb_4bit_quant_type=\"nf4\",\n",
        "    bnb_4bit_compute_dtype=torch.bfloat16,\n",
        ")\n",
        "\n",
        "# Инициализация квантованной модели\n",
        "model = AutoModelForCausalLM.from_pretrained(LARGE_MODEL_NAME, quantization_config=bnb_config)\n",
        "model = model.to(DEVICE)"
      ]
    },
    {
      "cell_type": "code",
      "execution_count": null,
      "metadata": {
        "execution": {
          "iopub.execute_input": "2025-04-12T17:57:26.366500Z",
          "iopub.status.busy": "2025-04-12T17:57:26.366173Z",
          "iopub.status.idle": "2025-04-12T17:57:26.647481Z",
          "shell.execute_reply": "2025-04-12T17:57:26.646647Z",
          "shell.execute_reply.started": "2025-04-12T17:57:26.366479Z"
        },
        "id": "x3eNbrPleCMr",
        "tags": []
      },
      "outputs": [],
      "source": [
        "tokenizer = AutoTokenizer.from_pretrained(LARGE_MODEL_NAME)\n",
        "tokenizer.pad_token = \"<PAD>\"\n",
        "tokenizer.padding_side = \"left\""
      ]
    },
    {
      "cell_type": "code",
      "execution_count": null,
      "metadata": {
        "execution": {
          "iopub.execute_input": "2025-04-12T17:57:26.648642Z",
          "iopub.status.busy": "2025-04-12T17:57:26.648294Z",
          "iopub.status.idle": "2025-04-12T17:57:26.812108Z",
          "shell.execute_reply": "2025-04-12T17:57:26.811400Z",
          "shell.execute_reply.started": "2025-04-12T17:57:26.648621Z"
        },
        "id": "EaC7cr07KR6w",
        "tags": [],
        "outputId": "23d5e51d-1d6a-4769-f568-e63b5cedb7b6"
      },
      "outputs": [
        {
          "name": "stdout",
          "output_type": "stream",
          "text": [
            "text: \"QT @user In the original draft of the 7th book, Remus Lupin survived the Battle of Hogwarts. #HappyBirthdayRemusLupin\"\n",
            "label: 2\n",
            "str_label: positive\n",
            "prompt: <|im_start|>system\n",
            "Classify user's text. Answer ONLY ONE word in the ONLY ONE line and no more before and after. No repetitions, no additional new lines. Answer can be: positive, neutral or negative.<|im_end|>\n",
            "<|im_start|>user\n",
            "\"QT @user In the original draft of the 7th book, Remus Lupin survived the Battle of Hogwarts. #HappyBirthdayRemusLupin\"<|im_end|>\n",
            "<|im_start|>assistant\n",
            "\n",
            "full_prompt: <|im_start|>system\n",
            "Classify user's text. Answer ONLY ONE word in the ONLY ONE line and no more before and after. No repetitions, no additional new lines. Answer can be: positive, neutral or negative.<|im_end|>\n",
            "<|im_start|>user\n",
            "\"QT @user In the original draft of the 7th book, Remus Lupin survived the Battle of Hogwarts. #HappyBirthdayRemusLupin\"<|im_end|>\n",
            "<|im_start|>assistant\n",
            "positive<|im_end|>\n",
            "<|im_end|>\n",
            "input_ids: [1, 529, 29989, 326, 29918, 2962, 29989, 29958, 5205, 13, 2385, 1598, 1404, 29915, 29879, 1426, 29889, 673, 6732, 16786, 6732, 29923, 1734, 297, 278, 6732, 16786, 6732, 29923, 1196, 322, 694, 901, 1434, 322, 1156, 29889, 1939, 21159, 2187, 29892, 694, 5684, 716, 3454, 29889, 673, 508, 367, 29901, 6374, 29892, 21104, 470, 8178, 19423, 29989, 326, 29918, 355, 29989, 29958, 13, 29966, 29989, 326, 29918, 2962, 29989, 29958, 1792, 13, 29908, 29984, 29911, 732, 1792, 512, 278, 2441, 18195, 310, 278, 29871, 29955, 386, 3143, 29892, 5240, 375, 365, 786, 262, 10503, 2347, 278, 12788, 310, 27675, 29893, 5708, 29889, 396, 29950, 14862, 29933, 7515, 3250, 7301, 375, 29931, 786, 262, 29908, 29966, 29989, 326, 29918, 355, 29989, 29958, 13, 29966, 29989, 326, 29918, 2962, 29989, 29958, 465, 22137, 13]\n",
            "full_input_ids: [1, 529, 29989, 326, 29918, 2962, 29989, 29958, 5205, 13, 2385, 1598, 1404, 29915, 29879, 1426, 29889, 673, 6732, 16786, 6732, 29923, 1734, 297, 278, 6732, 16786, 6732, 29923, 1196, 322, 694, 901, 1434, 322, 1156, 29889, 1939, 21159, 2187, 29892, 694, 5684, 716, 3454, 29889, 673, 508, 367, 29901, 6374, 29892, 21104, 470, 8178, 19423, 29989, 326, 29918, 355, 29989, 29958, 13, 29966, 29989, 326, 29918, 2962, 29989, 29958, 1792, 13, 29908, 29984, 29911, 732, 1792, 512, 278, 2441, 18195, 310, 278, 29871, 29955, 386, 3143, 29892, 5240, 375, 365, 786, 262, 10503, 2347, 278, 12788, 310, 27675, 29893, 5708, 29889, 396, 29950, 14862, 29933, 7515, 3250, 7301, 375, 29931, 786, 262, 29908, 29966, 29989, 326, 29918, 355, 29989, 29958, 13, 29966, 29989, 326, 29918, 2962, 29989, 29958, 465, 22137, 13, 1066, 3321, 29966, 29989, 326, 29918, 355, 29989, 29958, 13, 29966, 29989, 326, 29918, 355, 29989, 29958]\n",
            "==========\n",
            "text: \"Ben Smith / Smith (concussion) remains out of the lineup Thursday, Curtis #NHL #SJ\"\n",
            "label: 1\n",
            "str_label: neutral\n",
            "prompt: <|im_start|>system\n",
            "Classify user's text. Answer ONLY ONE word in the ONLY ONE line and no more before and after. No repetitions, no additional new lines. Answer can be: positive, neutral or negative.<|im_end|>\n",
            "<|im_start|>user\n",
            "\"Ben Smith / Smith (concussion) remains out of the lineup Thursday, Curtis #NHL #SJ\"<|im_end|>\n",
            "<|im_start|>assistant\n",
            "\n",
            "full_prompt: <|im_start|>system\n",
            "Classify user's text. Answer ONLY ONE word in the ONLY ONE line and no more before and after. No repetitions, no additional new lines. Answer can be: positive, neutral or negative.<|im_end|>\n",
            "<|im_start|>user\n",
            "\"Ben Smith / Smith (concussion) remains out of the lineup Thursday, Curtis #NHL #SJ\"<|im_end|>\n",
            "<|im_start|>assistant\n",
            "neutral<|im_end|>\n",
            "<|im_end|>\n",
            "input_ids: [1, 529, 29989, 326, 29918, 2962, 29989, 29958, 5205, 13, 2385, 1598, 1404, 29915, 29879, 1426, 29889, 673, 6732, 16786, 6732, 29923, 1734, 297, 278, 6732, 16786, 6732, 29923, 1196, 322, 694, 901, 1434, 322, 1156, 29889, 1939, 21159, 2187, 29892, 694, 5684, 716, 3454, 29889, 673, 508, 367, 29901, 6374, 29892, 21104, 470, 8178, 19423, 29989, 326, 29918, 355, 29989, 29958, 13, 29966, 29989, 326, 29918, 2962, 29989, 29958, 1792, 13, 29908, 20841, 7075, 847, 7075, 313, 535, 17348, 29897, 9242, 714, 310, 278, 1196, 786, 498, 1295, 3250, 29892, 25141, 275, 396, 29940, 15444, 396, 29903, 29967, 29908, 29966, 29989, 326, 29918, 355, 29989, 29958, 13, 29966, 29989, 326, 29918, 2962, 29989, 29958, 465, 22137, 13]\n",
            "full_input_ids: [1, 529, 29989, 326, 29918, 2962, 29989, 29958, 5205, 13, 2385, 1598, 1404, 29915, 29879, 1426, 29889, 673, 6732, 16786, 6732, 29923, 1734, 297, 278, 6732, 16786, 6732, 29923, 1196, 322, 694, 901, 1434, 322, 1156, 29889, 1939, 21159, 2187, 29892, 694, 5684, 716, 3454, 29889, 673, 508, 367, 29901, 6374, 29892, 21104, 470, 8178, 19423, 29989, 326, 29918, 355, 29989, 29958, 13, 29966, 29989, 326, 29918, 2962, 29989, 29958, 1792, 13, 29908, 20841, 7075, 847, 7075, 313, 535, 17348, 29897, 9242, 714, 310, 278, 1196, 786, 498, 1295, 3250, 29892, 25141, 275, 396, 29940, 15444, 396, 29903, 29967, 29908, 29966, 29989, 326, 29918, 355, 29989, 29958, 13, 29966, 29989, 326, 29918, 2962, 29989, 29958, 465, 22137, 13, 17821, 1705, 29966, 29989, 326, 29918, 355, 29989, 29958, 13, 29966, 29989, 326, 29918, 355, 29989, 29958]\n",
            "==========\n"
          ]
        }
      ],
      "source": [
        "for split, data in dataset.items():\n",
        "    dataset[split] = data.map(process_example, fn_kwargs={\"tokenizer\": tokenizer})\n",
        "    dataset[split] = data.map(tokenization, batched=True, fn_kwargs={\"tokenizer\": tokenizer})\n",
        "\n",
        "for i in range(2):\n",
        "    for k, v in dataset[\"train\"][i].items():\n",
        "        print(f\"{k}: {v}\")\n",
        "    print(\"=\" * 10)"
      ]
    },
    {
      "cell_type": "code",
      "execution_count": null,
      "metadata": {
        "execution": {
          "iopub.execute_input": "2025-04-12T17:49:05.340314Z",
          "iopub.status.busy": "2025-04-12T17:49:05.339979Z",
          "iopub.status.idle": "2025-04-12T17:50:56.619477Z",
          "shell.execute_reply": "2025-04-12T17:50:56.617999Z",
          "shell.execute_reply.started": "2025-04-12T17:49:05.340293Z"
        },
        "id": "1RoZzzaJjoyQ",
        "colab": {
          "referenced_widgets": [
            "c20937ef602d4b769fb7ba33774da616"
          ]
        },
        "outputId": "9f98cd13-0128-4745-e8b4-5873a1762450"
      },
      "outputs": [
        {
          "name": "stderr",
          "output_type": "stream",
          "text": [
            "Batching examples: 100%|██████████| 12284/12284 [00:02<00:00, 4680.00 examples/s]\n"
          ]
        },
        {
          "data": {
            "application/vnd.jupyter.widget-view+json": {
              "model_id": "c20937ef602d4b769fb7ba33774da616",
              "version_major": 2,
              "version_minor": 0
            },
            "text/plain": [
              "  0%|          | 0/123 [00:00<?, ?it/s]"
            ]
          },
          "metadata": {},
          "output_type": "display_data"
        },
        {
          "name": "stdout",
          "output_type": "stream",
          "text": [
            "Initial F1 large model: 0.04\n"
          ]
        },
        {
          "data": {
            "image/png": "[encoded data removed]",
            "text/plain": [
              "<Figure size 640x480 with 2 Axes>"
            ]
          },
          "metadata": {},
          "output_type": "display_data"
        }
      ],
      "source": [
        "initial_f1_large_model = eval(model, dataset[\"test\"], tokenizer)\n",
        "print(f\"Initial F1 large model: {initial_f1_large_model:.2f}\")"
      ]
    },
    {
      "cell_type": "markdown",
      "metadata": {
        "id": "JPvkzXT4eCMr"
      },
      "source": [
        "### Обучим QLoRA"
      ]
    },
    {
      "cell_type": "code",
      "execution_count": null,
      "metadata": {
        "execution": {
          "iopub.execute_input": "2025-04-12T17:57:29.493362Z",
          "iopub.status.busy": "2025-04-12T17:57:29.492992Z",
          "iopub.status.idle": "2025-04-12T17:57:29.589399Z",
          "shell.execute_reply": "2025-04-12T17:57:29.588653Z",
          "shell.execute_reply.started": "2025-04-12T17:57:29.493340Z"
        },
        "id": "akAtG5fqeCMr",
        "tags": [],
        "outputId": "570d5416-1014-4a44-f926-00f332d158e9"
      },
      "outputs": [
        {
          "data": {
            "text/plain": [
              "PeftModelForCausalLM(\n",
              "  (base_model): LoraModel(\n",
              "    (model): LlamaForCausalLM(\n",
              "      (model): LlamaModel(\n",
              "        (embed_tokens): Embedding(32000, 2048)\n",
              "        (layers): ModuleList(\n",
              "          (0-21): 22 x LlamaDecoderLayer(\n",
              "            (self_attn): LlamaAttention(\n",
              "              (q_proj): Linear4bit(in_features=2048, out_features=2048, bias=False)\n",
              "              (k_proj): lora.Linear4bit(\n",
              "                (base_layer): Linear4bit(in_features=2048, out_features=256, bias=False)\n",
              "                (lora_dropout): ModuleDict(\n",
              "                  (default): Dropout(p=0.1, inplace=False)\n",
              "                )\n",
              "                (lora_A): ModuleDict(\n",
              "                  (default): Linear(in_features=2048, out_features=8, bias=False)\n",
              "                )\n",
              "                (lora_B): ModuleDict(\n",
              "                  (default): Linear(in_features=8, out_features=256, bias=False)\n",
              "                )\n",
              "                (lora_embedding_A): ParameterDict()\n",
              "                (lora_embedding_B): ParameterDict()\n",
              "                (lora_magnitude_vector): ModuleDict()\n",
              "              )\n",
              "              (v_proj): lora.Linear4bit(\n",
              "                (base_layer): Linear4bit(in_features=2048, out_features=256, bias=False)\n",
              "                (lora_dropout): ModuleDict(\n",
              "                  (default): Dropout(p=0.1, inplace=False)\n",
              "                )\n",
              "                (lora_A): ModuleDict(\n",
              "                  (default): Linear(in_features=2048, out_features=8, bias=False)\n",
              "                )\n",
              "                (lora_B): ModuleDict(\n",
              "                  (default): Linear(in_features=8, out_features=256, bias=False)\n",
              "                )\n",
              "                (lora_embedding_A): ParameterDict()\n",
              "                (lora_embedding_B): ParameterDict()\n",
              "                (lora_magnitude_vector): ModuleDict()\n",
              "              )\n",
              "              (o_proj): Linear4bit(in_features=2048, out_features=2048, bias=False)\n",
              "            )\n",
              "            (mlp): LlamaMLP(\n",
              "              (gate_proj): Linear4bit(in_features=2048, out_features=5632, bias=False)\n",
              "              (up_proj): Linear4bit(in_features=2048, out_features=5632, bias=False)\n",
              "              (down_proj): Linear4bit(in_features=5632, out_features=2048, bias=False)\n",
              "              (act_fn): SiLU()\n",
              "            )\n",
              "            (input_layernorm): LlamaRMSNorm((2048,), eps=1e-05)\n",
              "            (post_attention_layernorm): LlamaRMSNorm((2048,), eps=1e-05)\n",
              "          )\n",
              "        )\n",
              "        (norm): LlamaRMSNorm((2048,), eps=1e-05)\n",
              "        (rotary_emb): LlamaRotaryEmbedding()\n",
              "      )\n",
              "      (lm_head): Linear(in_features=2048, out_features=32000, bias=False)\n",
              "    )\n",
              "  )\n",
              ")"
            ]
          },
          "execution_count": 20,
          "metadata": {},
          "output_type": "execute_result"
        }
      ],
      "source": [
        "peft_config = LoraConfig(\n",
        "    lora_alpha=16,\n",
        "    lora_dropout=0.1,\n",
        "    r=8,\n",
        "    bias=\"none\",\n",
        "    task_type=\"CAUSAL_LM\",\n",
        "    target_modules=[\"k_proj\", \"v_proj\"],\n",
        ")\n",
        "\n",
        "model = prepare_model_for_kbit_training(model)\n",
        "model = get_peft_model(model, peft_config)\n",
        "model.train()"
      ]
    },
    {
      "cell_type": "markdown",
      "metadata": {
        "id": "tnekx15FOQf7"
      },
      "source": [
        "`SFTTrainer` supports conversational format:\n",
        "```\n",
        "{\"messages\": [{\"role\": \"system\", \"content\": \"You are helpful\"}, {\"role\": \"user\", \"content\": \"What's the capital of France?\"}, {\"role\": \"assistant\", \"content\": \"...\"}]}\n",
        "{\"messages\": [{\"role\": \"system\", \"content\": \"You are helpful\"}, {\"role\": \"user\", \"content\": \"Who wrote 'Romeo and Juliet'?\"}, {\"role\": \"assistant\", \"content\": \"...\"}]}\n",
        "{\"messages\": [{\"role\": \"system\", \"content\": \"You are helpful\"}, {\"role\": \"user\", \"content\": \"How far is the Moon from Earth?\"}, {\"role\": \"assistant\", \"content\": \"...\"}]}\n",
        "```"
      ]
    },
    {
      "cell_type": "code",
      "execution_count": null,
      "metadata": {
        "execution": {
          "iopub.execute_input": "2025-04-12T17:57:32.491406Z",
          "iopub.status.busy": "2025-04-12T17:57:32.490993Z",
          "iopub.status.idle": "2025-04-12T17:57:32.561667Z",
          "shell.execute_reply": "2025-04-12T17:57:32.560969Z",
          "shell.execute_reply.started": "2025-04-12T17:57:32.491382Z"
        },
        "id": "EVpClyiJObAE",
        "tags": [],
        "outputId": "f71febe7-fea2-4656-c74f-bab598e12e7f"
      },
      "outputs": [
        {
          "name": "stdout",
          "output_type": "stream",
          "text": [
            "messages: [{'content': \"Classify user's text. Answer ONLY ONE word in the ONLY ONE line and no more before and after. No repetitions, no additional new lines. Answer can be: positive, neutral or negative.\", 'role': 'system'}, {'content': 'Text: \"QT @user In the original draft of the 7th book, Remus Lupin survived the Battle of Hogwarts. #HappyBirthdayRemusLupin\"', 'role': 'user'}, {'content': 'positive', 'role': 'assistant'}]\n",
            "==========\n",
            "messages: [{'content': \"Classify user's text. Answer ONLY ONE word in the ONLY ONE line and no more before and after. No repetitions, no additional new lines. Answer can be: positive, neutral or negative.\", 'role': 'system'}, {'content': 'Text: \"Ben Smith / Smith (concussion) remains out of the lineup Thursday, Curtis #NHL #SJ\"', 'role': 'user'}, {'content': 'neutral', 'role': 'assistant'}]\n",
            "==========\n"
          ]
        }
      ],
      "source": [
        "def convert_instruction_format(example, system_prompt=SYSTEM_PROMPT):\n",
        "    conversation = [\n",
        "        {\"role\": \"system\", \"content\": system_prompt},\n",
        "        {\"role\": \"user\", \"content\": f\"Text: {example['text']}\"},\n",
        "        {\"role\": \"assistant\", \"content\": example[\"str_label\"]},\n",
        "    ]\n",
        "    return {\"messages\": conversation}\n",
        "\n",
        "\n",
        "sft_dataset = dataset.copy()\n",
        "for split, data in dataset.items():\n",
        "    sft_dataset[split] = data.map(\n",
        "        convert_instruction_format,\n",
        "        remove_columns=[\"text\", \"label\", \"str_label\", \"prompt\", \"full_prompt\", \"input_ids\", \"full_input_ids\"],\n",
        "    )\n",
        "\n",
        "for i in range(2):\n",
        "    for k, v in sft_dataset[\"train\"][i].items():\n",
        "        print(f\"{k}: {v}\")\n",
        "    print(\"=\" * 10)"
      ]
    },
    {
      "cell_type": "code",
      "execution_count": null,
      "metadata": {
        "execution": {
          "iopub.execute_input": "2025-04-12T17:58:14.683850Z",
          "iopub.status.busy": "2025-04-12T17:58:14.683360Z",
          "iopub.status.idle": "2025-04-12T18:15:26.441384Z"
        },
        "id": "n_qexatpeCMr",
        "tags": [],
        "outputId": "831c8ba1-093f-4d32-caae-87e9855db5d3"
      },
      "outputs": [
        {
          "name": "stderr",
          "output_type": "stream",
          "text": [
            "Applying chat template to train dataset: 100%|██████████| 45615/45615 [00:06<00:00, 7054.72 examples/s]\n",
            "Tokenizing train dataset: 100%|██████████| 45615/45615 [00:12<00:00, 3511.21 examples/s]\n",
            "Truncating train dataset: 100%|██████████| 45615/45615 [00:01<00:00, 32035.31 examples/s] \n",
            "No label_names provided for model class `PeftModelForCausalLM`. Since `PeftModel` hides base models input arguments, if label_names is not given, label_names can't be set automatically within `Trainer`. Note that empty label_names list will be used instead.\n",
            "  0%|          | 0/2852 [00:00<?, ?it/s]`use_cache=True` is incompatible with gradient checkpointing. Setting `use_cache=False`.\n",
            "  1%|          | 25/2852 [00:09<17:06,  2.76it/s]"
          ]
        },
        {
          "name": "stdout",
          "output_type": "stream",
          "text": [
            "{'loss': 2.974, 'grad_norm': 1.8477866649627686, 'learning_rate': 4e-05, 'num_tokens': 89752.0, 'mean_token_accuracy': 0.47908958077430724, 'epoch': 0.02}\n"
          ]
        },
        {
          "name": "stderr",
          "output_type": "stream",
          "text": [
            "  2%|▏         | 50/2852 [00:18<17:21,  2.69it/s]"
          ]
        },
        {
          "name": "stdout",
          "output_type": "stream",
          "text": [
            "{'loss': 2.5892, 'grad_norm': 2.264805316925049, 'learning_rate': 8.166666666666667e-05, 'num_tokens': 179344.0, 'mean_token_accuracy': 0.5116323029994965, 'epoch': 0.04}\n"
          ]
        },
        {
          "name": "stderr",
          "output_type": "stream",
          "text": [
            "  3%|▎         | 75/2852 [00:26<16:03,  2.88it/s]"
          ]
        },
        {
          "name": "stdout",
          "output_type": "stream",
          "text": [
            "{'loss': 1.5649, 'grad_norm': 0.9651185870170593, 'learning_rate': 0.00012333333333333334, 'num_tokens': 269035.0, 'mean_token_accuracy': 0.6937165069580078, 'epoch': 0.05}\n"
          ]
        },
        {
          "name": "stderr",
          "output_type": "stream",
          "text": [
            "  4%|▎         | 100/2852 [00:35<16:14,  2.82it/s]"
          ]
        },
        {
          "name": "stdout",
          "output_type": "stream",
          "text": [
            "{'loss': 1.0928, 'grad_norm': 0.5137462615966797, 'learning_rate': 0.000165, 'num_tokens': 358658.0, 'mean_token_accuracy': 0.8072382855415344, 'epoch': 0.07}\n"
          ]
        },
        {
          "name": "stderr",
          "output_type": "stream",
          "text": [
            "  4%|▍         | 125/2852 [00:44<16:14,  2.80it/s]"
          ]
        },
        {
          "name": "stdout",
          "output_type": "stream",
          "text": [
            "{'loss': 1.009, 'grad_norm': 0.45577165484428406, 'learning_rate': 0.00020666666666666666, 'num_tokens': 447939.0, 'mean_token_accuracy': 0.8129424285888672, 'epoch': 0.09}\n"
          ]
        },
        {
          "name": "stderr",
          "output_type": "stream",
          "text": [
            "  5%|▌         | 150/2852 [00:53<15:32,  2.90it/s]"
          ]
        },
        {
          "name": "stdout",
          "output_type": "stream",
          "text": [
            "{'loss': 0.996, 'grad_norm': 0.4864497780799866, 'learning_rate': 0.0002483333333333333, 'num_tokens': 537810.0, 'mean_token_accuracy': 0.8137461471557618, 'epoch': 0.11}\n"
          ]
        },
        {
          "name": "stderr",
          "output_type": "stream",
          "text": [
            "  6%|▌         | 175/2852 [01:02<15:40,  2.85it/s]"
          ]
        },
        {
          "name": "stdout",
          "output_type": "stream",
          "text": [
            "{'loss': 1.0065, 'grad_norm': 0.4744096100330353, 'learning_rate': 0.00029, 'num_tokens': 627797.0, 'mean_token_accuracy': 0.8125205278396607, 'epoch': 0.12}\n"
          ]
        },
        {
          "name": "stderr",
          "output_type": "stream",
          "text": [
            "  7%|▋         | 200/2852 [01:11<15:12,  2.91it/s]"
          ]
        },
        {
          "name": "stdout",
          "output_type": "stream",
          "text": [
            "{'loss': 0.9692, 'grad_norm': 0.5055748820304871, 'learning_rate': 0.0003316666666666667, 'num_tokens': 716928.0, 'mean_token_accuracy': 0.819195396900177, 'epoch': 0.14}\n"
          ]
        },
        {
          "name": "stderr",
          "output_type": "stream",
          "text": [
            "  8%|▊         | 225/2852 [01:19<15:17,  2.86it/s]"
          ]
        },
        {
          "name": "stdout",
          "output_type": "stream",
          "text": [
            "{'loss': 0.9765, 'grad_norm': 0.4384869337081909, 'learning_rate': 0.0003733333333333334, 'num_tokens': 806393.0, 'mean_token_accuracy': 0.8171687889099121, 'epoch': 0.16}\n"
          ]
        },
        {
          "name": "stderr",
          "output_type": "stream",
          "text": [
            "  9%|▉         | 250/2852 [01:28<15:33,  2.79it/s]"
          ]
        },
        {
          "name": "stdout",
          "output_type": "stream",
          "text": [
            "{'loss': 0.9721, 'grad_norm': 0.4357649087905884, 'learning_rate': 0.000415, 'num_tokens': 896191.0, 'mean_token_accuracy': 0.8171828365325928, 'epoch': 0.18}\n"
          ]
        },
        {
          "name": "stderr",
          "output_type": "stream",
          "text": [
            " 10%|▉         | 275/2852 [01:38<18:44,  2.29it/s]"
          ]
        },
        {
          "name": "stdout",
          "output_type": "stream",
          "text": [
            "{'loss': 0.9543, 'grad_norm': 0.4135551154613495, 'learning_rate': 0.0004566666666666667, 'num_tokens': 985505.0, 'mean_token_accuracy': 0.8198105692863464, 'epoch': 0.19}\n"
          ]
        },
        {
          "name": "stderr",
          "output_type": "stream",
          "text": [
            " 11%|█         | 300/2852 [01:46<14:28,  2.94it/s]"
          ]
        },
        {
          "name": "stdout",
          "output_type": "stream",
          "text": [
            "{'loss': 0.9532, 'grad_norm': 0.44974491000175476, 'learning_rate': 0.0004983333333333334, 'num_tokens': 1074996.0, 'mean_token_accuracy': 0.8203847885131836, 'epoch': 0.21}\n"
          ]
        },
        {
          "name": "stderr",
          "output_type": "stream",
          "text": [
            " 11%|█▏        | 325/2852 [01:55<14:46,  2.85it/s]"
          ]
        },
        {
          "name": "stdout",
          "output_type": "stream",
          "text": [
            "{'loss': 0.9417, 'grad_norm': 0.3635156750679016, 'learning_rate': 0.0004952978056426332, 'num_tokens': 1164036.0, 'mean_token_accuracy': 0.8208274388313294, 'epoch': 0.23}\n"
          ]
        },
        {
          "name": "stderr",
          "output_type": "stream",
          "text": [
            " 12%|█▏        | 350/2852 [02:04<16:52,  2.47it/s]"
          ]
        },
        {
          "name": "stdout",
          "output_type": "stream",
          "text": [
            "{'loss': 0.9457, 'grad_norm': 0.4083157479763031, 'learning_rate': 0.0004903996865203762, 'num_tokens': 1253585.0, 'mean_token_accuracy': 0.8201586174964904, 'epoch': 0.25}\n"
          ]
        },
        {
          "name": "stderr",
          "output_type": "stream",
          "text": [
            " 13%|█▎        | 375/2852 [02:13<13:53,  2.97it/s]"
          ]
        },
        {
          "name": "stdout",
          "output_type": "stream",
          "text": [
            "{'loss': 0.9434, 'grad_norm': 0.3650020956993103, 'learning_rate': 0.0004855015673981191, 'num_tokens': 1343213.0, 'mean_token_accuracy': 0.8216734051704406, 'epoch': 0.26}\n"
          ]
        },
        {
          "name": "stderr",
          "output_type": "stream",
          "text": [
            " 14%|█▍        | 400/2852 [02:22<14:27,  2.83it/s]"
          ]
        },
        {
          "name": "stdout",
          "output_type": "stream",
          "text": [
            "{'loss': 0.9448, 'grad_norm': 0.471227765083313, 'learning_rate': 0.00048060344827586203, 'num_tokens': 1433228.0, 'mean_token_accuracy': 0.8205369019508362, 'epoch': 0.28}\n"
          ]
        },
        {
          "name": "stderr",
          "output_type": "stream",
          "text": [
            " 15%|█▍        | 425/2852 [02:31<14:22,  2.81it/s]"
          ]
        },
        {
          "name": "stdout",
          "output_type": "stream",
          "text": [
            "{'loss': 0.9587, 'grad_norm': 0.3315121829509735, 'learning_rate': 0.000475705329153605, 'num_tokens': 1523010.0, 'mean_token_accuracy': 0.8192444515228271, 'epoch': 0.3}\n"
          ]
        },
        {
          "name": "stderr",
          "output_type": "stream",
          "text": [
            " 16%|█▌        | 450/2852 [02:39<13:43,  2.92it/s]"
          ]
        },
        {
          "name": "stdout",
          "output_type": "stream",
          "text": [
            "{'loss': 0.9393, 'grad_norm': 0.3555935323238373, 'learning_rate': 0.00047080721003134795, 'num_tokens': 1612034.0, 'mean_token_accuracy': 0.8223781633377075, 'epoch': 0.32}\n"
          ]
        },
        {
          "name": "stderr",
          "output_type": "stream",
          "text": [
            " 17%|█▋        | 475/2852 [02:48<14:04,  2.81it/s]"
          ]
        },
        {
          "name": "stdout",
          "output_type": "stream",
          "text": [
            "{'loss': 0.9567, 'grad_norm': 0.3587682843208313, 'learning_rate': 0.0004659090909090909, 'num_tokens': 1702029.0, 'mean_token_accuracy': 0.8197088527679444, 'epoch': 0.33}\n"
          ]
        },
        {
          "name": "stderr",
          "output_type": "stream",
          "text": [
            " 18%|█▊        | 500/2852 [02:57<13:38,  2.87it/s]"
          ]
        },
        {
          "name": "stdout",
          "output_type": "stream",
          "text": [
            "{'loss': 0.9331, 'grad_norm': 0.4281797409057617, 'learning_rate': 0.00046101097178683387, 'num_tokens': 1791069.0, 'mean_token_accuracy': 0.8224643874168396, 'epoch': 0.35}\n"
          ]
        },
        {
          "name": "stderr",
          "output_type": "stream",
          "text": [
            " 18%|█▊        | 525/2852 [03:06<13:21,  2.90it/s]"
          ]
        },
        {
          "name": "stdout",
          "output_type": "stream",
          "text": [
            "{'loss': 0.9539, 'grad_norm': 0.36807188391685486, 'learning_rate': 0.0004561128526645768, 'num_tokens': 1880982.0, 'mean_token_accuracy': 0.8199466443061829, 'epoch': 0.37}\n"
          ]
        },
        {
          "name": "stderr",
          "output_type": "stream",
          "text": [
            " 19%|█▉        | 550/2852 [03:15<14:30,  2.65it/s]"
          ]
        },
        {
          "name": "stdout",
          "output_type": "stream",
          "text": [
            "{'loss': 0.9252, 'grad_norm': 0.3313189446926117, 'learning_rate': 0.00045121473354231973, 'num_tokens': 1970413.0, 'mean_token_accuracy': 0.8236730861663818, 'epoch': 0.39}\n"
          ]
        },
        {
          "name": "stderr",
          "output_type": "stream",
          "text": [
            " 20%|██        | 575/2852 [03:24<13:17,  2.85it/s]"
          ]
        },
        {
          "name": "stdout",
          "output_type": "stream",
          "text": [
            "{'loss': 0.9507, 'grad_norm': 0.3113540709018707, 'learning_rate': 0.0004463166144200627, 'num_tokens': 2060224.0, 'mean_token_accuracy': 0.8213409352302551, 'epoch': 0.4}\n"
          ]
        },
        {
          "name": "stderr",
          "output_type": "stream",
          "text": [
            " 21%|██        | 600/2852 [03:32<13:17,  2.82it/s]"
          ]
        },
        {
          "name": "stdout",
          "output_type": "stream",
          "text": [
            "{'loss': 0.9371, 'grad_norm': 0.34180352091789246, 'learning_rate': 0.00044141849529780565, 'num_tokens': 2149456.0, 'mean_token_accuracy': 0.8224249315261841, 'epoch': 0.42}\n"
          ]
        },
        {
          "name": "stderr",
          "output_type": "stream",
          "text": [
            " 22%|██▏       | 625/2852 [03:41<13:33,  2.74it/s]"
          ]
        },
        {
          "name": "stdout",
          "output_type": "stream",
          "text": [
            "{'loss': 0.9331, 'grad_norm': 0.356898695230484, 'learning_rate': 0.0004365203761755486, 'num_tokens': 2239105.0, 'mean_token_accuracy': 0.8218521428108215, 'epoch': 0.44}\n"
          ]
        },
        {
          "name": "stderr",
          "output_type": "stream",
          "text": [
            " 23%|██▎       | 650/2852 [03:50<13:08,  2.79it/s]"
          ]
        },
        {
          "name": "stdout",
          "output_type": "stream",
          "text": [
            "{'loss': 0.9386, 'grad_norm': 0.3282569646835327, 'learning_rate': 0.00043162225705329157, 'num_tokens': 2328811.0, 'mean_token_accuracy': 0.822303102016449, 'epoch': 0.46}\n"
          ]
        },
        {
          "name": "stderr",
          "output_type": "stream",
          "text": [
            " 24%|██▎       | 675/2852 [03:59<12:53,  2.81it/s]"
          ]
        },
        {
          "name": "stdout",
          "output_type": "stream",
          "text": [
            "{'loss': 0.9642, 'grad_norm': 0.38654467463493347, 'learning_rate': 0.0004267241379310345, 'num_tokens': 2418896.0, 'mean_token_accuracy': 0.8173418927192688, 'epoch': 0.47}\n"
          ]
        },
        {
          "name": "stderr",
          "output_type": "stream",
          "text": [
            " 25%|██▍       | 700/2852 [04:08<12:32,  2.86it/s]"
          ]
        },
        {
          "name": "stdout",
          "output_type": "stream",
          "text": [
            "{'loss': 0.9404, 'grad_norm': 0.30455273389816284, 'learning_rate': 0.00042182601880877743, 'num_tokens': 2508683.0, 'mean_token_accuracy': 0.8219688963890076, 'epoch': 0.49}\n"
          ]
        },
        {
          "name": "stderr",
          "output_type": "stream",
          "text": [
            " 25%|██▌       | 725/2852 [04:16<12:29,  2.84it/s]"
          ]
        },
        {
          "name": "stdout",
          "output_type": "stream",
          "text": [
            "{'loss': 0.9141, 'grad_norm': 0.3101658821105957, 'learning_rate': 0.0004169278996865204, 'num_tokens': 2597752.0, 'mean_token_accuracy': 0.8257335162162781, 'epoch': 0.51}\n"
          ]
        },
        {
          "name": "stderr",
          "output_type": "stream",
          "text": [
            " 26%|██▋       | 750/2852 [04:26<12:34,  2.78it/s]"
          ]
        },
        {
          "name": "stdout",
          "output_type": "stream",
          "text": [
            "{'loss': 0.9419, 'grad_norm': 0.32547643780708313, 'learning_rate': 0.0004120297805642633, 'num_tokens': 2687063.0, 'mean_token_accuracy': 0.8220529246330261, 'epoch': 0.53}\n"
          ]
        },
        {
          "name": "stderr",
          "output_type": "stream",
          "text": [
            " 27%|██▋       | 775/2852 [04:34<12:03,  2.87it/s]"
          ]
        },
        {
          "name": "stdout",
          "output_type": "stream",
          "text": [
            "{'loss': 0.9321, 'grad_norm': 0.28921571373939514, 'learning_rate': 0.00040713166144200623, 'num_tokens': 2776338.0, 'mean_token_accuracy': 0.8244158554077149, 'epoch': 0.54}\n"
          ]
        },
        {
          "name": "stderr",
          "output_type": "stream",
          "text": [
            " 28%|██▊       | 800/2852 [04:43<12:10,  2.81it/s]"
          ]
        },
        {
          "name": "stdout",
          "output_type": "stream",
          "text": [
            "{'loss': 0.9359, 'grad_norm': 0.331671804189682, 'learning_rate': 0.0004022335423197492, 'num_tokens': 2865965.0, 'mean_token_accuracy': 0.8219350361824036, 'epoch': 0.56}\n"
          ]
        },
        {
          "name": "stderr",
          "output_type": "stream",
          "text": [
            " 29%|██▉       | 825/2852 [04:52<11:42,  2.88it/s]"
          ]
        },
        {
          "name": "stdout",
          "output_type": "stream",
          "text": [
            "{'loss': 0.94, 'grad_norm': 0.30669066309928894, 'learning_rate': 0.00039733542319749215, 'num_tokens': 2955782.0, 'mean_token_accuracy': 0.8217442393302917, 'epoch': 0.58}\n"
          ]
        },
        {
          "name": "stderr",
          "output_type": "stream",
          "text": [
            " 30%|██▉       | 850/2852 [05:01<11:30,  2.90it/s]"
          ]
        },
        {
          "name": "stdout",
          "output_type": "stream",
          "text": [
            "{'loss': 0.9404, 'grad_norm': 0.34754446148872375, 'learning_rate': 0.0003924373040752351, 'num_tokens': 3045189.0, 'mean_token_accuracy': 0.8229303479194641, 'epoch': 0.6}\n"
          ]
        },
        {
          "name": "stderr",
          "output_type": "stream",
          "text": [
            " 31%|███       | 875/2852 [05:10<11:14,  2.93it/s]"
          ]
        },
        {
          "name": "stdout",
          "output_type": "stream",
          "text": [
            "{'loss': 0.9317, 'grad_norm': 0.33489876985549927, 'learning_rate': 0.00038753918495297807, 'num_tokens': 3134576.0, 'mean_token_accuracy': 0.8234133505821228, 'epoch': 0.61}\n"
          ]
        },
        {
          "name": "stderr",
          "output_type": "stream",
          "text": [
            " 32%|███▏      | 900/2852 [05:19<11:18,  2.88it/s]"
          ]
        },
        {
          "name": "stdout",
          "output_type": "stream",
          "text": [
            "{'loss': 0.9357, 'grad_norm': 0.29886654019355774, 'learning_rate': 0.000382641065830721, 'num_tokens': 3224523.0, 'mean_token_accuracy': 0.8222046828269959, 'epoch': 0.63}\n"
          ]
        },
        {
          "name": "stderr",
          "output_type": "stream",
          "text": [
            " 32%|███▏      | 925/2852 [05:27<11:02,  2.91it/s]"
          ]
        },
        {
          "name": "stdout",
          "output_type": "stream",
          "text": [
            "{'loss': 0.9311, 'grad_norm': 0.302717387676239, 'learning_rate': 0.00037774294670846393, 'num_tokens': 3313925.0, 'mean_token_accuracy': 0.8240151906013489, 'epoch': 0.65}\n"
          ]
        },
        {
          "name": "stderr",
          "output_type": "stream",
          "text": [
            " 33%|███▎      | 950/2852 [05:36<11:02,  2.87it/s]"
          ]
        },
        {
          "name": "stdout",
          "output_type": "stream",
          "text": [
            "{'loss': 0.9131, 'grad_norm': 0.32541218400001526, 'learning_rate': 0.0003728448275862069, 'num_tokens': 3403375.0, 'mean_token_accuracy': 0.8263350677490234, 'epoch': 0.67}\n"
          ]
        },
        {
          "name": "stderr",
          "output_type": "stream",
          "text": [
            " 34%|███▍      | 975/2852 [05:45<11:25,  2.74it/s]"
          ]
        },
        {
          "name": "stdout",
          "output_type": "stream",
          "text": [
            "{'loss': 0.9368, 'grad_norm': 0.33366766571998596, 'learning_rate': 0.00036794670846394985, 'num_tokens': 3493701.0, 'mean_token_accuracy': 0.8218000984191894, 'epoch': 0.68}\n"
          ]
        },
        {
          "name": "stderr",
          "output_type": "stream",
          "text": [
            " 35%|███▌      | 1000/2852 [05:54<12:54,  2.39it/s]"
          ]
        },
        {
          "name": "stdout",
          "output_type": "stream",
          "text": [
            "{'loss': 0.9236, 'grad_norm': 0.32113388180732727, 'learning_rate': 0.0003630485893416928, 'num_tokens': 3582612.0, 'mean_token_accuracy': 0.8239300632476807, 'epoch': 0.7}\n"
          ]
        },
        {
          "name": "stderr",
          "output_type": "stream",
          "text": [
            " 36%|███▌      | 1025/2852 [06:03<10:29,  2.90it/s]"
          ]
        },
        {
          "name": "stdout",
          "output_type": "stream",
          "text": [
            "{'loss': 0.9311, 'grad_norm': 0.3010464906692505, 'learning_rate': 0.00035815047021943577, 'num_tokens': 3672265.0, 'mean_token_accuracy': 0.8241406774520874, 'epoch': 0.72}\n"
          ]
        },
        {
          "name": "stderr",
          "output_type": "stream",
          "text": [
            " 37%|███▋      | 1050/2852 [06:12<10:42,  2.81it/s]"
          ]
        },
        {
          "name": "stdout",
          "output_type": "stream",
          "text": [
            "{'loss': 0.9415, 'grad_norm': 0.2900753617286682, 'learning_rate': 0.0003532523510971787, 'num_tokens': 3762383.0, 'mean_token_accuracy': 0.8221508049964905, 'epoch': 0.74}\n"
          ]
        },
        {
          "name": "stderr",
          "output_type": "stream",
          "text": [
            " 38%|███▊      | 1075/2852 [06:20<10:37,  2.79it/s]"
          ]
        },
        {
          "name": "stdout",
          "output_type": "stream",
          "text": [
            "{'loss': 0.9361, 'grad_norm': 0.31366029381752014, 'learning_rate': 0.0003483542319749217, 'num_tokens': 3852196.0, 'mean_token_accuracy': 0.8232750153541565, 'epoch': 0.75}\n"
          ]
        },
        {
          "name": "stderr",
          "output_type": "stream",
          "text": [
            " 39%|███▊      | 1100/2852 [06:29<09:50,  2.97it/s]"
          ]
        },
        {
          "name": "stdout",
          "output_type": "stream",
          "text": [
            "{'loss': 0.917, 'grad_norm': 0.3069513738155365, 'learning_rate': 0.0003434561128526646, 'num_tokens': 3941300.0, 'mean_token_accuracy': 0.8252213764190673, 'epoch': 0.77}\n"
          ]
        },
        {
          "name": "stderr",
          "output_type": "stream",
          "text": [
            " 39%|███▉      | 1125/2852 [06:38<09:41,  2.97it/s]"
          ]
        },
        {
          "name": "stdout",
          "output_type": "stream",
          "text": [
            "{'loss': 0.929, 'grad_norm': 0.2565649747848511, 'learning_rate': 0.0003385579937304075, 'num_tokens': 4030829.0, 'mean_token_accuracy': 0.8241858386993408, 'epoch': 0.79}\n"
          ]
        },
        {
          "name": "stderr",
          "output_type": "stream",
          "text": [
            " 40%|████      | 1150/2852 [06:47<09:46,  2.90it/s]"
          ]
        },
        {
          "name": "stdout",
          "output_type": "stream",
          "text": [
            "{'loss': 0.9212, 'grad_norm': 0.2931149899959564, 'learning_rate': 0.0003336598746081505, 'num_tokens': 4120828.0, 'mean_token_accuracy': 0.8235066270828247, 'epoch': 0.81}\n"
          ]
        },
        {
          "name": "stderr",
          "output_type": "stream",
          "text": [
            " 41%|████      | 1175/2852 [06:56<09:42,  2.88it/s]"
          ]
        },
        {
          "name": "stdout",
          "output_type": "stream",
          "text": [
            "{'loss': 0.9266, 'grad_norm': 0.3024085760116577, 'learning_rate': 0.0003287617554858934, 'num_tokens': 4210470.0, 'mean_token_accuracy': 0.8241375470161438, 'epoch': 0.82}\n"
          ]
        },
        {
          "name": "stderr",
          "output_type": "stream",
          "text": [
            " 42%|████▏     | 1200/2852 [07:04<10:00,  2.75it/s]"
          ]
        },
        {
          "name": "stdout",
          "output_type": "stream",
          "text": [
            "{'loss': 0.9344, 'grad_norm': 0.2894270122051239, 'learning_rate': 0.00032386363636363635, 'num_tokens': 4300368.0, 'mean_token_accuracy': 0.8226926422119141, 'epoch': 0.84}\n"
          ]
        },
        {
          "name": "stderr",
          "output_type": "stream",
          "text": [
            " 43%|████▎     | 1225/2852 [07:13<09:35,  2.83it/s]"
          ]
        },
        {
          "name": "stdout",
          "output_type": "stream",
          "text": [
            "{'loss': 0.914, 'grad_norm': 0.2975923717021942, 'learning_rate': 0.00031896551724137933, 'num_tokens': 4389646.0, 'mean_token_accuracy': 0.8264969825744629, 'epoch': 0.86}\n"
          ]
        },
        {
          "name": "stderr",
          "output_type": "stream",
          "text": [
            " 44%|████▍     | 1250/2852 [07:22<09:42,  2.75it/s]"
          ]
        },
        {
          "name": "stdout",
          "output_type": "stream",
          "text": [
            "{'loss': 0.9233, 'grad_norm': 0.3178323209285736, 'learning_rate': 0.00031406739811912226, 'num_tokens': 4479430.0, 'mean_token_accuracy': 0.8243985486030578, 'epoch': 0.88}\n"
          ]
        },
        {
          "name": "stderr",
          "output_type": "stream",
          "text": [
            " 45%|████▍     | 1275/2852 [07:31<09:35,  2.74it/s]"
          ]
        },
        {
          "name": "stdout",
          "output_type": "stream",
          "text": [
            "{'loss': 0.9508, 'grad_norm': 0.3354216516017914, 'learning_rate': 0.0003091692789968652, 'num_tokens': 4568497.0, 'mean_token_accuracy': 0.8228877019882203, 'epoch': 0.89}\n"
          ]
        },
        {
          "name": "stderr",
          "output_type": "stream",
          "text": [
            " 46%|████▌     | 1300/2852 [07:40<09:04,  2.85it/s]"
          ]
        },
        {
          "name": "stdout",
          "output_type": "stream",
          "text": [
            "{'loss': 0.9236, 'grad_norm': 0.30979880690574646, 'learning_rate': 0.0003042711598746082, 'num_tokens': 4657872.0, 'mean_token_accuracy': 0.8243617534637451, 'epoch': 0.91}\n"
          ]
        },
        {
          "name": "stderr",
          "output_type": "stream",
          "text": [
            " 46%|████▋     | 1325/2852 [07:49<09:12,  2.76it/s]"
          ]
        },
        {
          "name": "stdout",
          "output_type": "stream",
          "text": [
            "{'loss': 0.9328, 'grad_norm': 0.2978713810443878, 'learning_rate': 0.0002993730407523511, 'num_tokens': 4747990.0, 'mean_token_accuracy': 0.8224327778816223, 'epoch': 0.93}\n"
          ]
        },
        {
          "name": "stderr",
          "output_type": "stream",
          "text": [
            " 47%|████▋     | 1350/2852 [07:58<08:40,  2.88it/s]"
          ]
        },
        {
          "name": "stdout",
          "output_type": "stream",
          "text": [
            "{'loss': 0.9279, 'grad_norm': 0.2791329622268677, 'learning_rate': 0.00029447492163009405, 'num_tokens': 4837991.0, 'mean_token_accuracy': 0.8232649898529053, 'epoch': 0.95}\n"
          ]
        },
        {
          "name": "stderr",
          "output_type": "stream",
          "text": [
            " 48%|████▊     | 1375/2852 [08:07<08:28,  2.90it/s]"
          ]
        },
        {
          "name": "stdout",
          "output_type": "stream",
          "text": [
            "{'loss': 0.9294, 'grad_norm': 0.2710633873939514, 'learning_rate': 0.00028957680250783703, 'num_tokens': 4927789.0, 'mean_token_accuracy': 0.8243737125396728, 'epoch': 0.96}\n"
          ]
        },
        {
          "name": "stderr",
          "output_type": "stream",
          "text": [
            " 49%|████▉     | 1400/2852 [08:16<08:29,  2.85it/s]"
          ]
        },
        {
          "name": "stdout",
          "output_type": "stream",
          "text": [
            "{'loss': 0.9307, 'grad_norm': 0.2841288447380066, 'learning_rate': 0.00028467868338557996, 'num_tokens': 5017211.0, 'mean_token_accuracy': 0.8248246765136719, 'epoch': 0.98}\n"
          ]
        },
        {
          "name": "stderr",
          "output_type": "stream",
          "text": [
            " 50%|████▉     | 1425/2852 [08:24<08:21,  2.84it/s]"
          ]
        },
        {
          "name": "stdout",
          "output_type": "stream",
          "text": [
            "{'loss': 0.933, 'grad_norm': 0.3016463816165924, 'learning_rate': 0.0002797805642633229, 'num_tokens': 5106947.0, 'mean_token_accuracy': 0.8235672235488891, 'epoch': 1.0}\n"
          ]
        },
        {
          "name": "stderr",
          "output_type": "stream",
          "text": [
            " 51%|█████     | 1450/2852 [08:33<08:16,  2.82it/s]"
          ]
        },
        {
          "name": "stdout",
          "output_type": "stream",
          "text": [
            "{'loss': 0.9174, 'grad_norm': 0.2762082517147064, 'learning_rate': 0.0002748824451410659, 'num_tokens': 5195047.0, 'mean_token_accuracy': 0.824480767250061, 'epoch': 1.02}\n"
          ]
        },
        {
          "name": "stderr",
          "output_type": "stream",
          "text": [
            " 52%|█████▏    | 1475/2852 [08:42<08:09,  2.81it/s]"
          ]
        },
        {
          "name": "stdout",
          "output_type": "stream",
          "text": [
            "{'loss': 0.9287, 'grad_norm': 0.3137354850769043, 'learning_rate': 0.0002699843260188088, 'num_tokens': 5285175.0, 'mean_token_accuracy': 0.8242992186546325, 'epoch': 1.03}\n"
          ]
        },
        {
          "name": "stderr",
          "output_type": "stream",
          "text": [
            " 53%|█████▎    | 1500/2852 [08:51<07:37,  2.96it/s]"
          ]
        },
        {
          "name": "stdout",
          "output_type": "stream",
          "text": [
            "{'loss': 0.9086, 'grad_norm': 0.3323169946670532, 'learning_rate': 0.0002650862068965517, 'num_tokens': 5374313.0, 'mean_token_accuracy': 0.8272031545639038, 'epoch': 1.05}\n"
          ]
        },
        {
          "name": "stderr",
          "output_type": "stream",
          "text": [
            " 53%|█████▎    | 1525/2852 [09:00<07:53,  2.80it/s]"
          ]
        },
        {
          "name": "stdout",
          "output_type": "stream",
          "text": [
            "{'loss': 0.9282, 'grad_norm': 0.2971458435058594, 'learning_rate': 0.0002601880877742947, 'num_tokens': 5464096.0, 'mean_token_accuracy': 0.82349112033844, 'epoch': 1.07}\n"
          ]
        },
        {
          "name": "stderr",
          "output_type": "stream",
          "text": [
            " 54%|█████▍    | 1550/2852 [09:09<07:39,  2.83it/s]"
          ]
        },
        {
          "name": "stdout",
          "output_type": "stream",
          "text": [
            "{'loss': 0.9046, 'grad_norm': 0.28518006205558777, 'learning_rate': 0.0002552899686520376, 'num_tokens': 5553193.0, 'mean_token_accuracy': 0.827442786693573, 'epoch': 1.09}\n"
          ]
        },
        {
          "name": "stderr",
          "output_type": "stream",
          "text": [
            " 55%|█████▌    | 1575/2852 [09:18<07:28,  2.85it/s]"
          ]
        },
        {
          "name": "stdout",
          "output_type": "stream",
          "text": [
            "{'loss': 0.907, 'grad_norm': 0.28890714049339294, 'learning_rate': 0.00025039184952978054, 'num_tokens': 5642795.0, 'mean_token_accuracy': 0.8260751295089722, 'epoch': 1.1}\n"
          ]
        },
        {
          "name": "stderr",
          "output_type": "stream",
          "text": [
            " 56%|█████▌    | 1600/2852 [09:26<07:31,  2.77it/s]"
          ]
        },
        {
          "name": "stdout",
          "output_type": "stream",
          "text": [
            "{'loss': 0.9177, 'grad_norm': 0.3121097683906555, 'learning_rate': 0.00024549373040752353, 'num_tokens': 5732415.0, 'mean_token_accuracy': 0.8258004307746887, 'epoch': 1.12}\n"
          ]
        },
        {
          "name": "stderr",
          "output_type": "stream",
          "text": [
            " 57%|█████▋    | 1625/2852 [09:35<07:08,  2.86it/s]"
          ]
        },
        {
          "name": "stdout",
          "output_type": "stream",
          "text": [
            "{'loss': 0.9152, 'grad_norm': 0.28160661458969116, 'learning_rate': 0.00024059561128526646, 'num_tokens': 5822377.0, 'mean_token_accuracy': 0.825609245300293, 'epoch': 1.14}\n"
          ]
        },
        {
          "name": "stderr",
          "output_type": "stream",
          "text": [
            " 58%|█████▊    | 1650/2852 [09:44<07:02,  2.85it/s]"
          ]
        },
        {
          "name": "stdout",
          "output_type": "stream",
          "text": [
            "{'loss': 0.9327, 'grad_norm': 0.28642547130584717, 'learning_rate': 0.0002356974921630094, 'num_tokens': 5912384.0, 'mean_token_accuracy': 0.8230069279670715, 'epoch': 1.16}\n"
          ]
        },
        {
          "name": "stderr",
          "output_type": "stream",
          "text": [
            " 59%|█████▊    | 1675/2852 [09:53<06:56,  2.83it/s]"
          ]
        },
        {
          "name": "stdout",
          "output_type": "stream",
          "text": [
            "{'loss': 0.9223, 'grad_norm': 0.2863738238811493, 'learning_rate': 0.00023079937304075235, 'num_tokens': 6001986.0, 'mean_token_accuracy': 0.8257201194763184, 'epoch': 1.17}\n"
          ]
        },
        {
          "name": "stderr",
          "output_type": "stream",
          "text": [
            " 60%|█████▉    | 1700/2852 [10:02<06:34,  2.92it/s]"
          ]
        },
        {
          "name": "stdout",
          "output_type": "stream",
          "text": [
            "{'loss': 0.9129, 'grad_norm': 0.3167746663093567, 'learning_rate': 0.0002259012539184953, 'num_tokens': 6091550.0, 'mean_token_accuracy': 0.8256760478019715, 'epoch': 1.19}\n"
          ]
        },
        {
          "name": "stderr",
          "output_type": "stream",
          "text": [
            " 60%|██████    | 1725/2852 [10:11<06:36,  2.84it/s]"
          ]
        },
        {
          "name": "stdout",
          "output_type": "stream",
          "text": [
            "{'loss': 0.9096, 'grad_norm': 0.2892824113368988, 'learning_rate': 0.00022100313479623824, 'num_tokens': 6181400.0, 'mean_token_accuracy': 0.826463770866394, 'epoch': 1.21}\n"
          ]
        },
        {
          "name": "stderr",
          "output_type": "stream",
          "text": [
            " 61%|██████▏   | 1750/2852 [10:20<06:29,  2.83it/s]"
          ]
        },
        {
          "name": "stdout",
          "output_type": "stream",
          "text": [
            "{'loss': 0.9061, 'grad_norm': 0.2889017164707184, 'learning_rate': 0.0002161050156739812, 'num_tokens': 6271091.0, 'mean_token_accuracy': 0.8248520302772522, 'epoch': 1.23}\n"
          ]
        },
        {
          "name": "stderr",
          "output_type": "stream",
          "text": [
            " 62%|██████▏   | 1775/2852 [10:29<06:09,  2.92it/s]"
          ]
        },
        {
          "name": "stdout",
          "output_type": "stream",
          "text": [
            "{'loss': 0.9249, 'grad_norm': 0.28733593225479126, 'learning_rate': 0.00021120689655172416, 'num_tokens': 6360646.0, 'mean_token_accuracy': 0.8248230576515198, 'epoch': 1.24}\n"
          ]
        },
        {
          "name": "stderr",
          "output_type": "stream",
          "text": [
            " 63%|██████▎   | 1800/2852 [10:38<06:11,  2.83it/s]"
          ]
        },
        {
          "name": "stdout",
          "output_type": "stream",
          "text": [
            "{'loss': 0.9191, 'grad_norm': 0.32182440161705017, 'learning_rate': 0.00020630877742946707, 'num_tokens': 6450277.0, 'mean_token_accuracy': 0.8252285170555115, 'epoch': 1.26}\n"
          ]
        },
        {
          "name": "stderr",
          "output_type": "stream",
          "text": [
            " 64%|██████▍   | 1825/2852 [10:47<05:56,  2.88it/s]"
          ]
        },
        {
          "name": "stdout",
          "output_type": "stream",
          "text": [
            "{'loss': 0.9229, 'grad_norm': 0.2794440984725952, 'learning_rate': 0.00020141065830721003, 'num_tokens': 6539781.0, 'mean_token_accuracy': 0.825877902507782, 'epoch': 1.28}\n"
          ]
        },
        {
          "name": "stderr",
          "output_type": "stream",
          "text": [
            " 65%|██████▍   | 1850/2852 [10:56<05:49,  2.86it/s]"
          ]
        },
        {
          "name": "stdout",
          "output_type": "stream",
          "text": [
            "{'loss': 0.9323, 'grad_norm': 0.3236941695213318, 'learning_rate': 0.00019651253918495298, 'num_tokens': 6629817.0, 'mean_token_accuracy': 0.8225673627853394, 'epoch': 1.3}\n"
          ]
        },
        {
          "name": "stderr",
          "output_type": "stream",
          "text": [
            " 66%|██████▌   | 1875/2852 [11:04<05:35,  2.91it/s]"
          ]
        },
        {
          "name": "stdout",
          "output_type": "stream",
          "text": [
            "{'loss': 0.9206, 'grad_norm': 0.2810456156730652, 'learning_rate': 0.00019161442006269592, 'num_tokens': 6719560.0, 'mean_token_accuracy': 0.8240402579307556, 'epoch': 1.31}\n"
          ]
        },
        {
          "name": "stderr",
          "output_type": "stream",
          "text": [
            " 67%|██████▋   | 1900/2852 [11:13<05:23,  2.94it/s]"
          ]
        },
        {
          "name": "stdout",
          "output_type": "stream",
          "text": [
            "{'loss': 0.9102, 'grad_norm': 0.28771156072616577, 'learning_rate': 0.00018671630094043888, 'num_tokens': 6808898.0, 'mean_token_accuracy': 0.8266914558410644, 'epoch': 1.33}\n"
          ]
        },
        {
          "name": "stderr",
          "output_type": "stream",
          "text": [
            " 67%|██████▋   | 1925/2852 [11:22<05:34,  2.77it/s]"
          ]
        },
        {
          "name": "stdout",
          "output_type": "stream",
          "text": [
            "{'loss': 0.915, 'grad_norm': 0.3016219437122345, 'learning_rate': 0.00018181818181818183, 'num_tokens': 6898705.0, 'mean_token_accuracy': 0.8256843304634094, 'epoch': 1.35}\n"
          ]
        },
        {
          "name": "stderr",
          "output_type": "stream",
          "text": [
            " 69%|██████▉   | 1975/2852 [11:40<06:21,  2.30it/s]"
          ]
        },
        {
          "name": "stdout",
          "output_type": "stream",
          "text": [
            "{'loss': 0.8995, 'grad_norm': 0.27367445826530457, 'learning_rate': 0.0001720219435736677, 'num_tokens': 7077679.0, 'mean_token_accuracy': 0.8274649238586426, 'epoch': 1.38}\n"
          ]
        },
        {
          "name": "stderr",
          "output_type": "stream",
          "text": [
            " 70%|███████   | 2000/2852 [11:49<04:59,  2.85it/s]"
          ]
        },
        {
          "name": "stdout",
          "output_type": "stream",
          "text": [
            "{'loss': 0.91, 'grad_norm': 0.3202172815799713, 'learning_rate': 0.00016712382445141066, 'num_tokens': 7166911.0, 'mean_token_accuracy': 0.8269887304306031, 'epoch': 1.4}\n"
          ]
        },
        {
          "name": "stderr",
          "output_type": "stream",
          "text": [
            " 71%|███████   | 2025/2852 [11:58<04:45,  2.90it/s]"
          ]
        },
        {
          "name": "stdout",
          "output_type": "stream",
          "text": [
            "{'loss': 0.8986, 'grad_norm': 0.3068128824234009, 'learning_rate': 0.00016222570532915362, 'num_tokens': 7256451.0, 'mean_token_accuracy': 0.8281269836425781, 'epoch': 1.42}\n"
          ]
        },
        {
          "name": "stderr",
          "output_type": "stream",
          "text": [
            " 72%|███████▏  | 2050/2852 [12:06<04:34,  2.92it/s]"
          ]
        },
        {
          "name": "stdout",
          "output_type": "stream",
          "text": [
            "{'loss': 0.9145, 'grad_norm': 0.28865325450897217, 'learning_rate': 0.00015732758620689655, 'num_tokens': 7346041.0, 'mean_token_accuracy': 0.826196665763855, 'epoch': 1.44}\n"
          ]
        },
        {
          "name": "stderr",
          "output_type": "stream",
          "text": [
            " 73%|███████▎  | 2075/2852 [12:15<04:28,  2.89it/s]"
          ]
        },
        {
          "name": "stdout",
          "output_type": "stream",
          "text": [
            "{'loss': 0.9072, 'grad_norm': 0.3428010940551758, 'learning_rate': 0.0001524294670846395, 'num_tokens': 7435214.0, 'mean_token_accuracy': 0.8274124336242675, 'epoch': 1.46}\n"
          ]
        },
        {
          "name": "stderr",
          "output_type": "stream",
          "text": [
            " 74%|███████▎  | 2100/2852 [12:24<04:24,  2.84it/s]"
          ]
        },
        {
          "name": "stdout",
          "output_type": "stream",
          "text": [
            "{'loss': 0.9223, 'grad_norm': 0.3043947219848633, 'learning_rate': 0.00014753134796238247, 'num_tokens': 7524659.0, 'mean_token_accuracy': 0.8264351058006286, 'epoch': 1.47}\n"
          ]
        },
        {
          "name": "stderr",
          "output_type": "stream",
          "text": [
            " 75%|███████▍  | 2125/2852 [12:33<04:18,  2.82it/s]"
          ]
        },
        {
          "name": "stdout",
          "output_type": "stream",
          "text": [
            "{'loss': 0.9066, 'grad_norm': 0.2826111614704132, 'learning_rate': 0.0001426332288401254, 'num_tokens': 7613858.0, 'mean_token_accuracy': 0.8271704936027526, 'epoch': 1.49}\n"
          ]
        },
        {
          "name": "stderr",
          "output_type": "stream",
          "text": [
            " 75%|███████▌  | 2150/2852 [12:41<03:59,  2.93it/s]"
          ]
        },
        {
          "name": "stdout",
          "output_type": "stream",
          "text": [
            "{'loss': 0.9211, 'grad_norm': 0.3131442666053772, 'learning_rate': 0.00013773510971786836, 'num_tokens': 7703416.0, 'mean_token_accuracy': 0.82542888879776, 'epoch': 1.51}\n"
          ]
        },
        {
          "name": "stderr",
          "output_type": "stream",
          "text": [
            " 76%|███████▋  | 2175/2852 [12:51<04:21,  2.59it/s]"
          ]
        },
        {
          "name": "stdout",
          "output_type": "stream",
          "text": [
            "{'loss': 0.9122, 'grad_norm': 0.29468095302581787, 'learning_rate': 0.0001328369905956113, 'num_tokens': 7793099.0, 'mean_token_accuracy': 0.8262449431419373, 'epoch': 1.53}\n"
          ]
        },
        {
          "name": "stderr",
          "output_type": "stream",
          "text": [
            " 77%|███████▋  | 2200/2852 [12:59<03:49,  2.84it/s]"
          ]
        },
        {
          "name": "stdout",
          "output_type": "stream",
          "text": [
            "{'loss': 0.9262, 'grad_norm': 0.3005671799182892, 'learning_rate': 0.00012793887147335422, 'num_tokens': 7882944.0, 'mean_token_accuracy': 0.8240380859375, 'epoch': 1.54}\n"
          ]
        },
        {
          "name": "stderr",
          "output_type": "stream",
          "text": [
            " 78%|███████▊  | 2225/2852 [13:08<03:34,  2.92it/s]"
          ]
        },
        {
          "name": "stdout",
          "output_type": "stream",
          "text": [
            "{'loss': 0.9213, 'grad_norm': 0.3109075725078583, 'learning_rate': 0.00012304075235109718, 'num_tokens': 7972896.0, 'mean_token_accuracy': 0.8244589757919312, 'epoch': 1.56}\n"
          ]
        },
        {
          "name": "stderr",
          "output_type": "stream",
          "text": [
            " 79%|███████▉  | 2250/2852 [13:17<03:46,  2.65it/s]"
          ]
        },
        {
          "name": "stdout",
          "output_type": "stream",
          "text": [
            "{'loss': 0.8941, 'grad_norm': 0.31013911962509155, 'learning_rate': 0.00011814263322884013, 'num_tokens': 8062336.0, 'mean_token_accuracy': 0.8286698484420776, 'epoch': 1.58}\n"
          ]
        },
        {
          "name": "stderr",
          "output_type": "stream",
          "text": [
            " 80%|███████▉  | 2275/2852 [13:26<03:14,  2.97it/s]"
          ]
        },
        {
          "name": "stdout",
          "output_type": "stream",
          "text": [
            "{'loss': 0.9059, 'grad_norm': 0.2959989011287689, 'learning_rate': 0.00011324451410658307, 'num_tokens': 8151586.0, 'mean_token_accuracy': 0.8273735523223877, 'epoch': 1.6}\n"
          ]
        },
        {
          "name": "stderr",
          "output_type": "stream",
          "text": [
            " 81%|████████  | 2300/2852 [13:35<03:07,  2.95it/s]"
          ]
        },
        {
          "name": "stdout",
          "output_type": "stream",
          "text": [
            "{'loss': 0.9064, 'grad_norm': 0.29678377509117126, 'learning_rate': 0.00010834639498432603, 'num_tokens': 8240740.0, 'mean_token_accuracy': 0.8277989411354065, 'epoch': 1.61}\n"
          ]
        },
        {
          "name": "stderr",
          "output_type": "stream",
          "text": [
            " 82%|████████▏ | 2325/2852 [13:44<03:08,  2.80it/s]"
          ]
        },
        {
          "name": "stdout",
          "output_type": "stream",
          "text": [
            "{'loss': 0.9178, 'grad_norm': 0.30887433886528015, 'learning_rate': 0.00010344827586206896, 'num_tokens': 8331015.0, 'mean_token_accuracy': 0.8237512087821961, 'epoch': 1.63}\n"
          ]
        },
        {
          "name": "stderr",
          "output_type": "stream",
          "text": [
            " 82%|████████▏ | 2350/2852 [13:52<02:48,  2.97it/s]"
          ]
        },
        {
          "name": "stdout",
          "output_type": "stream",
          "text": [
            "{'loss': 0.8948, 'grad_norm': 0.30935725569725037, 'learning_rate': 9.855015673981191e-05, 'num_tokens': 8420258.0, 'mean_token_accuracy': 0.8288235926628112, 'epoch': 1.65}\n"
          ]
        },
        {
          "name": "stderr",
          "output_type": "stream",
          "text": [
            " 83%|████████▎ | 2375/2852 [14:01<02:41,  2.95it/s]"
          ]
        },
        {
          "name": "stdout",
          "output_type": "stream",
          "text": [
            "{'loss': 0.9183, 'grad_norm': 0.30150917172431946, 'learning_rate': 9.365203761755487e-05, 'num_tokens': 8509515.0, 'mean_token_accuracy': 0.8263770413398742, 'epoch': 1.67}\n"
          ]
        },
        {
          "name": "stderr",
          "output_type": "stream",
          "text": [
            " 84%|████████▍ | 2400/2852 [14:10<02:35,  2.90it/s]"
          ]
        },
        {
          "name": "stdout",
          "output_type": "stream",
          "text": [
            "{'loss': 0.9135, 'grad_norm': 0.30635008215904236, 'learning_rate': 8.87539184952978e-05, 'num_tokens': 8598843.0, 'mean_token_accuracy': 0.82671617269516, 'epoch': 1.68}\n"
          ]
        },
        {
          "name": "stderr",
          "output_type": "stream",
          "text": [
            " 85%|████████▌ | 2425/2852 [14:19<02:31,  2.82it/s]"
          ]
        },
        {
          "name": "stdout",
          "output_type": "stream",
          "text": [
            "{'loss': 0.9197, 'grad_norm': 0.2785484790802002, 'learning_rate': 8.385579937304075e-05, 'num_tokens': 8688220.0, 'mean_token_accuracy': 0.8264848041534424, 'epoch': 1.7}\n"
          ]
        },
        {
          "name": "stderr",
          "output_type": "stream",
          "text": [
            " 86%|████████▌ | 2450/2852 [14:28<02:24,  2.78it/s]"
          ]
        },
        {
          "name": "stdout",
          "output_type": "stream",
          "text": [
            "{'loss': 0.9097, 'grad_norm': 0.2824699580669403, 'learning_rate': 7.89576802507837e-05, 'num_tokens': 8778028.0, 'mean_token_accuracy': 0.8265237998962403, 'epoch': 1.72}\n"
          ]
        },
        {
          "name": "stderr",
          "output_type": "stream",
          "text": [
            " 87%|████████▋ | 2475/2852 [14:36<02:12,  2.84it/s]"
          ]
        },
        {
          "name": "stdout",
          "output_type": "stream",
          "text": [
            "{'loss': 0.9039, 'grad_norm': 0.3073021173477173, 'learning_rate': 7.405956112852665e-05, 'num_tokens': 8867478.0, 'mean_token_accuracy': 0.8272974920272828, 'epoch': 1.74}\n"
          ]
        },
        {
          "name": "stderr",
          "output_type": "stream",
          "text": [
            " 88%|████████▊ | 2500/2852 [14:45<02:03,  2.85it/s]"
          ]
        },
        {
          "name": "stdout",
          "output_type": "stream",
          "text": [
            "{'loss': 0.9076, 'grad_norm': 0.3182738125324249, 'learning_rate': 6.916144200626958e-05, 'num_tokens': 8957169.0, 'mean_token_accuracy': 0.82757732629776, 'epoch': 1.75}\n"
          ]
        },
        {
          "name": "stderr",
          "output_type": "stream",
          "text": [
            " 89%|████████▊ | 2525/2852 [14:54<01:58,  2.76it/s]"
          ]
        },
        {
          "name": "stdout",
          "output_type": "stream",
          "text": [
            "{'loss': 0.9079, 'grad_norm': 0.32573384046554565, 'learning_rate': 6.426332288401254e-05, 'num_tokens': 9047052.0, 'mean_token_accuracy': 0.827496452331543, 'epoch': 1.77}\n"
          ]
        },
        {
          "name": "stderr",
          "output_type": "stream",
          "text": [
            " 89%|████████▉ | 2550/2852 [15:03<01:42,  2.93it/s]"
          ]
        },
        {
          "name": "stdout",
          "output_type": "stream",
          "text": [
            "{'loss': 0.9074, 'grad_norm': 0.2949860095977783, 'learning_rate': 5.9365203761755486e-05, 'num_tokens': 9137028.0, 'mean_token_accuracy': 0.8265679621696472, 'epoch': 1.79}\n"
          ]
        },
        {
          "name": "stderr",
          "output_type": "stream",
          "text": [
            " 90%|█████████ | 2575/2852 [15:12<01:36,  2.86it/s]"
          ]
        },
        {
          "name": "stdout",
          "output_type": "stream",
          "text": [
            "{'loss': 0.913, 'grad_norm': 0.2792576253414154, 'learning_rate': 5.446708463949843e-05, 'num_tokens': 9226658.0, 'mean_token_accuracy': 0.8255963683128357, 'epoch': 1.81}\n"
          ]
        },
        {
          "name": "stderr",
          "output_type": "stream",
          "text": [
            " 91%|█████████ | 2600/2852 [15:21<01:28,  2.84it/s]"
          ]
        },
        {
          "name": "stdout",
          "output_type": "stream",
          "text": [
            "{'loss': 0.9127, 'grad_norm': 0.3019210398197174, 'learning_rate': 4.9568965517241384e-05, 'num_tokens': 9316305.0, 'mean_token_accuracy': 0.8265813183784485, 'epoch': 1.82}\n"
          ]
        },
        {
          "name": "stderr",
          "output_type": "stream",
          "text": [
            " 92%|█████████▏| 2625/2852 [15:29<01:20,  2.83it/s]"
          ]
        },
        {
          "name": "stdout",
          "output_type": "stream",
          "text": [
            "{'loss': 0.8967, 'grad_norm': 0.2924518287181854, 'learning_rate': 4.467084639498432e-05, 'num_tokens': 9405677.0, 'mean_token_accuracy': 0.8284978079795837, 'epoch': 1.84}\n"
          ]
        },
        {
          "name": "stderr",
          "output_type": "stream",
          "text": [
            " 93%|█████████▎| 2650/2852 [15:38<01:11,  2.84it/s]"
          ]
        },
        {
          "name": "stdout",
          "output_type": "stream",
          "text": [
            "{'loss': 0.918, 'grad_norm': 0.2978197932243347, 'learning_rate': 3.9772727272727275e-05, 'num_tokens': 9495274.0, 'mean_token_accuracy': 0.8257840919494629, 'epoch': 1.86}\n"
          ]
        },
        {
          "name": "stderr",
          "output_type": "stream",
          "text": [
            " 94%|█████████▍| 2675/2852 [15:47<01:00,  2.93it/s]"
          ]
        },
        {
          "name": "stdout",
          "output_type": "stream",
          "text": [
            "{'loss': 0.9052, 'grad_norm': 0.30514276027679443, 'learning_rate': 3.487460815047022e-05, 'num_tokens': 9584732.0, 'mean_token_accuracy': 0.8278384041786194, 'epoch': 1.88}\n"
          ]
        },
        {
          "name": "stderr",
          "output_type": "stream",
          "text": [
            " 95%|█████████▍| 2700/2852 [15:56<00:54,  2.81it/s]"
          ]
        },
        {
          "name": "stdout",
          "output_type": "stream",
          "text": [
            "{'loss': 0.9154, 'grad_norm': 0.28892531991004944, 'learning_rate': 2.9976489028213166e-05, 'num_tokens': 9674416.0, 'mean_token_accuracy': 0.8248076105117798, 'epoch': 1.89}\n"
          ]
        },
        {
          "name": "stderr",
          "output_type": "stream",
          "text": [
            " 96%|█████████▌| 2725/2852 [16:05<00:46,  2.75it/s]"
          ]
        },
        {
          "name": "stdout",
          "output_type": "stream",
          "text": [
            "{'loss': 0.9047, 'grad_norm': 0.29543206095695496, 'learning_rate': 2.5078369905956112e-05, 'num_tokens': 9763872.0, 'mean_token_accuracy': 0.8285391354560852, 'epoch': 1.91}\n"
          ]
        },
        {
          "name": "stderr",
          "output_type": "stream",
          "text": [
            " 96%|█████████▋| 2750/2852 [16:14<00:35,  2.84it/s]"
          ]
        },
        {
          "name": "stdout",
          "output_type": "stream",
          "text": [
            "{'loss': 0.9134, 'grad_norm': 0.3037818670272827, 'learning_rate': 2.018025078369906e-05, 'num_tokens': 9853867.0, 'mean_token_accuracy': 0.8255000042915345, 'epoch': 1.93}\n"
          ]
        },
        {
          "name": "stderr",
          "output_type": "stream",
          "text": [
            " 97%|█████████▋| 2775/2852 [16:23<00:26,  2.91it/s]"
          ]
        },
        {
          "name": "stdout",
          "output_type": "stream",
          "text": [
            "{'loss': 0.9137, 'grad_norm': 0.27649322152137756, 'learning_rate': 1.5282131661442007e-05, 'num_tokens': 9943633.0, 'mean_token_accuracy': 0.8261073303222656, 'epoch': 1.95}\n"
          ]
        },
        {
          "name": "stderr",
          "output_type": "stream",
          "text": [
            " 98%|█████████▊| 2800/2852 [16:32<00:19,  2.73it/s]"
          ]
        },
        {
          "name": "stdout",
          "output_type": "stream",
          "text": [
            "{'loss': 0.91, 'grad_norm': 0.30094435811042786, 'learning_rate': 1.0384012539184954e-05, 'num_tokens': 10033335.0, 'mean_token_accuracy': 0.8259970712661743, 'epoch': 1.96}\n"
          ]
        },
        {
          "name": "stderr",
          "output_type": "stream",
          "text": [
            " 99%|█████████▉| 2825/2852 [16:41<00:09,  2.86it/s]"
          ]
        },
        {
          "name": "stdout",
          "output_type": "stream",
          "text": [
            "{'loss': 0.9279, 'grad_norm': 0.2900039851665497, 'learning_rate': 5.4858934169279e-06, 'num_tokens': 10122838.0, 'mean_token_accuracy': 0.8250158214569092, 'epoch': 1.98}\n"
          ]
        },
        {
          "name": "stderr",
          "output_type": "stream",
          "text": [
            "100%|█████████▉| 2850/2852 [16:49<00:00,  2.87it/s]"
          ]
        },
        {
          "name": "stdout",
          "output_type": "stream",
          "text": [
            "{'loss': 0.8983, 'grad_norm': 0.2827134430408478, 'learning_rate': 5.877742946708464e-07, 'num_tokens': 10212016.0, 'mean_token_accuracy': 0.8286631274223327, 'epoch': 2.0}\n"
          ]
        },
        {
          "name": "stderr",
          "output_type": "stream",
          "text": [
            "100%|██████████| 2852/2852 [16:50<00:00,  2.82it/s]"
          ]
        },
        {
          "name": "stdout",
          "output_type": "stream",
          "text": [
            "{'train_runtime': 1010.4486, 'train_samples_per_second': 90.287, 'train_steps_per_second': 2.823, 'train_loss': 0.9666356029299834, 'num_tokens': 10217322.0, 'mean_token_accuracy': 0.8120946884155273, 'epoch': 2.0}\n"
          ]
        },
        {
          "name": "stderr",
          "output_type": "stream",
          "text": [
            "\n"
          ]
        },
        {
          "data": {
            "text/plain": [
              "TrainOutput(global_step=2852, training_loss=0.9666356029299834, metrics={'train_runtime': 1010.4486, 'train_samples_per_second': 90.287, 'train_steps_per_second': 2.823, 'total_flos': 7.691559318472704e+16, 'train_loss': 0.9666356029299834})"
            ]
          },
          "execution_count": 23,
          "metadata": {},
          "output_type": "execute_result"
        }
      ],
      "source": [
        "training_arguments = TrainingArguments(\n",
        "    output_dir=\"./output/\",\n",
        "    learning_rate=5e-4,\n",
        "    num_train_epochs=2,\n",
        "    gradient_accumulation_steps=1,\n",
        "    lr_scheduler_type=\"linear\",\n",
        "    warmup_steps=300,\n",
        "    per_device_train_batch_size=32,\n",
        "    per_device_eval_batch_size=32,\n",
        "    report_to=\"none\",\n",
        "    logging_steps=25,\n",
        "    save_strategy=\"no\",\n",
        ")\n",
        "\n",
        "trainer = SFTTrainer(\n",
        "    model=model,\n",
        "    train_dataset=sft_dataset[\"train\"],\n",
        "    args=training_arguments,\n",
        "    peft_config=peft_config,\n",
        "    processing_class=tokenizer,\n",
        ")\n",
        "trainer.train()"
      ]
    },
    {
      "cell_type": "code",
      "execution_count": null,
      "metadata": {
        "execution": {
          "iopub.execute_input": "2025-04-12T18:18:05.428116Z",
          "iopub.status.busy": "2025-04-12T18:18:05.426877Z",
          "iopub.status.idle": "2025-04-12T18:18:07.186533Z",
          "shell.execute_reply": "2025-04-12T18:18:07.185561Z",
          "shell.execute_reply.started": "2025-04-12T18:18:05.428090Z"
        },
        "id": "8mzVQgibsmoH",
        "outputId": "a2f01641-3a76-4dbf-f3a8-fb57d00ea3bf"
      },
      "outputs": [
        {
          "name": "stdout",
          "output_type": "stream",
          "text": [
            "\"QT @user In the original draft of the 7th book, Remus Lupin survived the Battle of Hogwarts. #HappyBirthdayRemusLupin\"\n",
            "positive\n",
            "Positive\n",
            "==========\n",
            "\"Ben Smith / Smith (concussion) remains out of the lineup Thursday, Curtis #NHL #SJ\"\n",
            "neutral\n",
            "User may have replied to the text.\n",
            "==========\n",
            "Sorry bout the stream last night I crashed out but will be on tonight for sure. Then back to Minecraft in pc tomorrow night.\n",
            "neutral\n",
            "Sorry about the stream last night. I crashed out and then had to\n",
            "==========\n",
            "Chase Headley's RBI double in the 8th inning off David Price snapped a Yankees streak of 33 consecutive scoreless innings against Blue Jays\n",
            "neutral\n",
            "\n",
            "==========\n",
            "@user Alciato: Bee will invest 150 million in January, another 200 in the Summer and plans to bring Messi by 2017\"\n",
            "positive\n",
            "user\n",
            "\n",
            "==========\n"
          ]
        }
      ],
      "source": [
        "for i in range(5):\n",
        "    input_ids = torch.tensor([dataset[\"train\"][i][\"input_ids\"]], device=DEVICE)\n",
        "    generated_text = generate_class(model, tokenizer, input_ids)\n",
        "    print(dataset[\"train\"][i][\"text\"])\n",
        "    print(dataset[\"train\"][i][\"str_label\"])\n",
        "    print(generated_text)\n",
        "    print(\"=\" * 10)"
      ]
    },
    {
      "cell_type": "code",
      "execution_count": null,
      "metadata": {
        "execution": {
          "iopub.execute_input": "2025-04-12T18:18:10.332619Z",
          "iopub.status.busy": "2025-04-12T18:18:10.332110Z",
          "iopub.status.idle": "2025-04-12T18:23:26.471Z",
          "shell.execute_reply": "2025-04-12T18:23:26.470132Z",
          "shell.execute_reply.started": "2025-04-12T18:18:10.332587Z"
        },
        "id": "YWZD2lveJYGv",
        "tags": [],
        "colab": {
          "referenced_widgets": [
            "0d38aaca7889447f98514bb64e3b3132"
          ]
        },
        "outputId": "14ee6548-6808-4345-d2ef-2d83bb494976"
      },
      "outputs": [
        {
          "name": "stderr",
          "output_type": "stream",
          "text": [
            "Batching examples: 100%|██████████| 12284/12284 [00:02<00:00, 4978.08 examples/s]\n"
          ]
        },
        {
          "data": {
            "application/vnd.jupyter.widget-view+json": {
              "model_id": "0d38aaca7889447f98514bb64e3b3132",
              "version_major": 2,
              "version_minor": 0
            },
            "text/plain": [
              "  0%|          | 0/123 [00:00<?, ?it/s]"
            ]
          },
          "metadata": {},
          "output_type": "display_data"
        },
        {
          "name": "stdout",
          "output_type": "stream",
          "text": [
            "QLoRA F1 large model: 0.24\n"
          ]
        },
        {
          "data": {
            "image/png": "[encoded data removed]",
            "text/plain": [
              "<Figure size 640x480 with 2 Axes>"
            ]
          },
          "metadata": {},
          "output_type": "display_data"
        }
      ],
      "source": [
        "qlora_large_model = eval(model, dataset[\"test\"], tokenizer)\n",
        "print(f\"QLoRA F1 large model: {qlora_large_model:.2f}\")"
      ]
    },
    {
      "cell_type": "code",
      "execution_count": null,
      "metadata": {
        "execution": {
          "iopub.execute_input": "2025-04-12T18:24:09.656868Z",
          "iopub.status.busy": "2025-04-12T18:24:09.656389Z",
          "iopub.status.idle": "2025-04-12T18:24:17.920023Z",
          "shell.execute_reply": "2025-04-12T18:24:17.919121Z",
          "shell.execute_reply.started": "2025-04-12T18:24:09.656836Z"
        },
        "id": "DV8cJJTyJYGv",
        "tags": [],
        "outputId": "75c60500-0af8-445c-c2b0-760294f449e6"
      },
      "outputs": [
        {
          "name": "stderr",
          "output_type": "stream",
          "text": [
            "adapter_model.safetensors: 100%|██████████| 3.26M/3.26M [00:01<00:00, 2.73MB/s]\n",
            "tokenizer.model: 100%|██████████| 500k/500k [00:00<00:00, 1.03MB/s]\n"
          ]
        },
        {
          "data": {
            "text/plain": [
              "CommitInfo(commit_url='https://huggingface.co/gsemenyak/llm-course-hw3-tinyllamma-qlora/commit/cda10fc4c68d0c86377f33947a4e52267b921415', commit_message='Upload tokenizer', commit_description='', oid='cda10fc4c68d0c86377f33947a4e52267b921415', pr_url=None, repo_url=RepoUrl('https://huggingface.co/gsemenyak/llm-course-hw3-tinyllamma-qlora', endpoint='https://huggingface.co', repo_type='model', repo_id='gsemenyak/llm-course-hw3-tinyllamma-qlora'), pr_revision=None, pr_num=None)"
            ]
          },
          "execution_count": 27,
          "metadata": {},
          "output_type": "execute_result"
        }
      ],
      "source": [
        "# Загружаем все на хаб\n",
        "\n",
        "model.push_to_hub(f\"{REPO_NAME}-tinyllama-qlora\")\n",
        "tokenizer.push_to_hub(f\"{REPO_NAME}-tinyllamma-qlora\")"
      ]
    },
    {
      "cell_type": "markdown",
      "metadata": {
        "id": "RzNfBG6cfcwC"
      },
      "source": [
        "# Дополнительные баллы\n",
        "\n",
        "Вы также можно заработать дополнительные баллы:\n",
        "- Оформить репозитории на 🤗 (можно сделать коллекцию, так как у нас 3 репозитория): карточка модели с описанием задания, репортом качества и примерами генерации **[2 балла]**"
      ]
    },
    {
      "cell_type": "markdown",
      "metadata": {
        "id": "6LVxsIyFJdUC"
      },
      "source": [
        "# Специальный раздел для проверяющего"
      ]
    },
    {
      "cell_type": "markdown",
      "metadata": {
        "id": "YE6NoTX3Jxp4"
      },
      "source": [
        "## LoRA"
      ]
    },
    {
      "cell_type": "code",
      "execution_count": null,
      "metadata": {
        "id": "bIMzSBypJgMF"
      },
      "outputs": [],
      "source": [
        "from safetensors.torch import load_file\n",
        "from huggingface_hub import hf_hub_download\n",
        "\n",
        "model = AutoModelForCausalLM.from_pretrained(f\"{REPO_NAME}-lora\", device_map=\"auto\")\n",
        "tokenizer = AutoTokenizer.from_pretrained(f\"{REPO_NAME}-lora\")\n",
        "tokenizer.pad_token = tokenizer.eos_token\n",
        "tokenizer.padding_side = \"left\"\n",
        "\n",
        "# Примените peft к модели\n",
        "apply_peft_to_module(model, LinearWithLoRA, r=8, alpha=16, target_submodules=[\"k_proj\", \"v_proj\"])\n",
        "model.to(DEVICE)\n",
        "\n",
        "path = hf_hub_download(f\"{REPO_NAME}-lora\", \"model.safetensors\")\n",
        "state_dict = load_file(path)\n",
        "\n",
        "model.load_state_dict(state_dict, strict=False)\n",
        "\n",
        "LoRA_saved_model_accuracy = eval(model, dataset[\"test\"], tokenizer)\n",
        "print(f\"Accuracy after LoRA training: {LoRA_saved_model_accuracy:.2f}\")"
      ]
    },
    {
      "cell_type": "markdown",
      "metadata": {
        "id": "9zG4EGiMJ0Um"
      },
      "source": [
        "## DoRA"
      ]
    },
    {
      "cell_type": "code",
      "execution_count": null,
      "metadata": {
        "id": "hRq41oNiJ1fi"
      },
      "outputs": [],
      "source": [
        "model = AutoModelForCausalLM.from_pretrained(f\"{REPO_NAME}-dora\", device_map=\"auto\")\n",
        "tokenizer = AutoTokenizer.from_pretrained(f\"{REPO_NAME}-dora\")\n",
        "tokenizer.pad_token = tokenizer.eos_token\n",
        "tokenizer.padding_side = \"left\"\n",
        "\n",
        "apply_peft_to_module(model, LinearWithDoRA, r=8, alpha=16, target_submodules=[\"k_proj\", \"v_proj\"])\n",
        "model.to(DEVICE)\n",
        "\n",
        "path = hf_hub_download(f\"{REPO_NAME}-dora\", \"model.safetensors\")\n",
        "state_dict = load_file(path)\n",
        "\n",
        "model.load_state_dict(state_dict, strict=False)\n",
        "\n",
        "DoRA_saved_model_accuracy = eval(model, dataset[\"test\"], tokenizer)\n",
        "print(f\"Accuracy after DoRA training: {DoRA_saved_model_accuracy}\")"
      ]
    },
    {
      "cell_type": "markdown",
      "metadata": {
        "id": "9z-4DEA6J19f"
      },
      "source": [
        "## QLoRA"
      ]
    },
    {
      "cell_type": "code",
      "execution_count": null,
      "metadata": {
        "id": "oU6wcevzJ3Gn"
      },
      "outputs": [],
      "source": [
        "model = AutoModelForCausalLM.from_pretrained(f\"{REPO_NAME}-tinyllama-qlora\", device_map=\"auto\")\n",
        "tokenizer = AutoTokenizer.from_pretrained(f\"{REPO_NAME}-tinyllama-qlora\")\n",
        "tokenizer.pad_token = tokenizer.eos_token\n",
        "tokenizer.padding_side = \"left\"\n",
        "\n",
        "QLoRA_saved_model_accuracy = eval(model, dataset[\"test\"], tokenizer)\n",
        "print(f\"Accuracy after tinyllama QLoRA training: {QLoRA_saved_model_accuracy}\")"
      ]
    }
  ],
  "metadata": {
    "accelerator": "GPU",
    "colab": {
      "gpuType": "T4",
      "provenance": []
    },
    "kaggle": {
      "accelerator": "gpu",
      "dataSources": [],
      "dockerImageVersionId": 30919,
      "isGpuEnabled": true,
      "isInternetEnabled": true,
      "language": "python",
      "sourceType": "notebook"
    },
    "kernelspec": {
      "display_name": "DataSphere Kernel",
      "language": "python",
      "name": "python3"
    },
    "language_info": {
      "codemirror_mode": {
        "name": "ipython",
        "version": 3
      },
      "file_extension": ".py",
      "mimetype": "text/x-python",
      "name": "python",
      "nbconvert_exporter": "python",
      "pygments_lexer": "ipython3",
      "version": "3.10.12"
    },
    "widgets": {
      "application/vnd.jupyter.widget-state+json": {
        "02ed3ba5e5f245cc8b9ca854a9244aff": {
          "model_module": "@jupyter-widgets/base",
          "model_module_version": "1.2.0",
          "model_name": "LayoutModel",
          "state": {
            "_model_module": "@jupyter-widgets/base",
            "_model_module_version": "1.2.0",
            "_model_name": "LayoutModel",
            "_view_count": null,
            "_view_module": "@jupyter-widgets/base",
            "_view_module_version": "1.2.0",
            "_view_name": "LayoutView",
            "align_content": null,
            "align_items": null,
            "align_self": null,
            "border": null,
            "bottom": null,
            "display": null,
            "flex": null,
            "flex_flow": null,
            "grid_area": null,
            "grid_auto_columns": null,
            "grid_auto_flow": null,
            "grid_auto_rows": null,
            "grid_column": null,
            "grid_gap": null,
            "grid_row": null,
            "grid_template_areas": null,
            "grid_template_columns": null,
            "grid_template_rows": null,
            "height": null,
            "justify_content": null,
            "justify_items": null,
            "left": null,
            "margin": null,
            "max_height": null,
            "max_width": null,
            "min_height": null,
            "min_width": null,
            "object_fit": null,
            "object_position": null,
            "order": null,
            "overflow": null,
            "overflow_x": null,
            "overflow_y": null,
            "padding": null,
            "right": null,
            "top": null,
            "visibility": null,
            "width": null
          }
        },
        "0544636535cb46e0ac6e0f41516f5de8": {
          "model_module": "@jupyter-widgets/controls",
          "model_module_version": "1.5.0",
          "model_name": "DescriptionStyleModel",
          "state": {
            "_model_module": "@jupyter-widgets/controls",
            "_model_module_version": "1.5.0",
            "_model_name": "DescriptionStyleModel",
            "_view_count": null,
            "_view_module": "@jupyter-widgets/base",
            "_view_module_version": "1.2.0",
            "_view_name": "StyleView",
            "description_width": ""
          }
        },
        "08398fa3c8ce464886122885335400da": {
          "model_module": "@jupyter-widgets/controls",
          "model_module_version": "1.5.0",
          "model_name": "HTMLModel",
          "state": {
            "_dom_classes": [],
            "_model_module": "@jupyter-widgets/controls",
            "_model_module_version": "1.5.0",
            "_model_name": "HTMLModel",
            "_view_count": null,
            "_view_module": "@jupyter-widgets/controls",
            "_view_module_version": "1.5.0",
            "_view_name": "HTMLView",
            "description": "",
            "description_tooltip": null,
            "layout": "IPY_MODEL_d1ea0e10b0a44f19a46e5467014f452d",
            "placeholder": "​",
            "style": "IPY_MODEL_c9dbf6811d9c4a5996cbf34eccf5d4f4",
            "value": " 29/2851 [00:24&lt;38:05,  1.23it/s]"
          }
        },
        "0e5f59fdb5234bb89b6ab75cacc14c53": {
          "model_module": "@jupyter-widgets/base",
          "model_module_version": "1.2.0",
          "model_name": "LayoutModel",
          "state": {
            "_model_module": "@jupyter-widgets/base",
            "_model_module_version": "1.2.0",
            "_model_name": "LayoutModel",
            "_view_count": null,
            "_view_module": "@jupyter-widgets/base",
            "_view_module_version": "1.2.0",
            "_view_name": "LayoutView",
            "align_content": null,
            "align_items": null,
            "align_self": null,
            "border": null,
            "bottom": null,
            "display": null,
            "flex": null,
            "flex_flow": null,
            "grid_area": null,
            "grid_auto_columns": null,
            "grid_auto_flow": null,
            "grid_auto_rows": null,
            "grid_column": null,
            "grid_gap": null,
            "grid_row": null,
            "grid_template_areas": null,
            "grid_template_columns": null,
            "grid_template_rows": null,
            "height": null,
            "justify_content": null,
            "justify_items": null,
            "left": null,
            "margin": null,
            "max_height": null,
            "max_width": null,
            "min_height": null,
            "min_width": null,
            "object_fit": null,
            "object_position": null,
            "order": null,
            "overflow": null,
            "overflow_x": null,
            "overflow_y": null,
            "padding": null,
            "right": null,
            "top": null,
            "visibility": null,
            "width": null
          }
        },
        "13ab75a5042246e0b3b2322acf38c667": {
          "model_module": "@jupyter-widgets/base",
          "model_module_version": "1.2.0",
          "model_name": "LayoutModel",
          "state": {
            "_model_module": "@jupyter-widgets/base",
            "_model_module_version": "1.2.0",
            "_model_name": "LayoutModel",
            "_view_count": null,
            "_view_module": "@jupyter-widgets/base",
            "_view_module_version": "1.2.0",
            "_view_name": "LayoutView",
            "align_content": null,
            "align_items": null,
            "align_self": null,
            "border": null,
            "bottom": null,
            "display": null,
            "flex": null,
            "flex_flow": null,
            "grid_area": null,
            "grid_auto_columns": null,
            "grid_auto_flow": null,
            "grid_auto_rows": null,
            "grid_column": null,
            "grid_gap": null,
            "grid_row": null,
            "grid_template_areas": null,
            "grid_template_columns": null,
            "grid_template_rows": null,
            "height": null,
            "justify_content": null,
            "justify_items": null,
            "left": null,
            "margin": null,
            "max_height": null,
            "max_width": null,
            "min_height": null,
            "min_width": null,
            "object_fit": null,
            "object_position": null,
            "order": null,
            "overflow": null,
            "overflow_x": null,
            "overflow_y": null,
            "padding": null,
            "right": null,
            "top": null,
            "visibility": null,
            "width": null
          }
        },
        "1b6c9cf2a0054d3b9db812ae6757a86c": {
          "model_module": "@jupyter-widgets/controls",
          "model_module_version": "1.5.0",
          "model_name": "DescriptionStyleModel",
          "state": {
            "_model_module": "@jupyter-widgets/controls",
            "_model_module_version": "1.5.0",
            "_model_name": "DescriptionStyleModel",
            "_view_count": null,
            "_view_module": "@jupyter-widgets/base",
            "_view_module_version": "1.2.0",
            "_view_name": "StyleView",
            "description_width": ""
          }
        },
        "21db12e4db9546b38d584f9d6b9f2df5": {
          "model_module": "@jupyter-widgets/controls",
          "model_module_version": "1.5.0",
          "model_name": "ProgressStyleModel",
          "state": {
            "_model_module": "@jupyter-widgets/controls",
            "_model_module_version": "1.5.0",
            "_model_name": "ProgressStyleModel",
            "_view_count": null,
            "_view_module": "@jupyter-widgets/base",
            "_view_module_version": "1.2.0",
            "_view_name": "StyleView",
            "bar_color": null,
            "description_width": ""
          }
        },
        "308ab4cdb6a44a9ab43054847ace0d37": {
          "model_module": "@jupyter-widgets/controls",
          "model_module_version": "1.5.0",
          "model_name": "HBoxModel",
          "state": {
            "_dom_classes": [],
            "_model_module": "@jupyter-widgets/controls",
            "_model_module_version": "1.5.0",
            "_model_name": "HBoxModel",
            "_view_count": null,
            "_view_module": "@jupyter-widgets/controls",
            "_view_module_version": "1.5.0",
            "_view_name": "HBoxView",
            "box_style": "",
            "children": [
              "IPY_MODEL_3b909d61375146538600b69073b9363c",
              "IPY_MODEL_c74bb735f3014184af0ca9235d5a90ed",
              "IPY_MODEL_92903f8cb80d4dfdb54f7afc48643eb1"
            ],
            "layout": "IPY_MODEL_a164598e043446789e88688037e38d16"
          }
        },
        "315556545aa74e89bd5dddd788e40119": {
          "model_module": "@jupyter-widgets/controls",
          "model_module_version": "1.5.0",
          "model_name": "FloatProgressModel",
          "state": {
            "_dom_classes": [],
            "_model_module": "@jupyter-widgets/controls",
            "_model_module_version": "1.5.0",
            "_model_name": "FloatProgressModel",
            "_view_count": null,
            "_view_module": "@jupyter-widgets/controls",
            "_view_module_version": "1.5.0",
            "_view_name": "ProgressView",
            "bar_style": "danger",
            "description": "",
            "description_tooltip": null,
            "layout": "IPY_MODEL_e42e986d285f40b595b1d4b949168d73",
            "max": 2851,
            "min": 0,
            "orientation": "horizontal",
            "style": "IPY_MODEL_acbb92318182447eacd4fb29f5857ba1",
            "value": 29
          }
        },
        "378cb271e7ff4e1d85938b0f0d59d212": {
          "model_module": "@jupyter-widgets/controls",
          "model_module_version": "1.5.0",
          "model_name": "FloatProgressModel",
          "state": {
            "_dom_classes": [],
            "_model_module": "@jupyter-widgets/controls",
            "_model_module_version": "1.5.0",
            "_model_name": "FloatProgressModel",
            "_view_count": null,
            "_view_module": "@jupyter-widgets/controls",
            "_view_module_version": "1.5.0",
            "_view_name": "ProgressView",
            "bar_style": "danger",
            "description": "",
            "description_tooltip": null,
            "layout": "IPY_MODEL_e2c2e84c80494a13a147a9d37d70033d",
            "max": 625,
            "min": 0,
            "orientation": "horizontal",
            "style": "IPY_MODEL_c149d716ff824937b06a6ecc3d21d398",
            "value": 5
          }
        },
        "3ab4fc92744a4811b28d6550ff19fbc2": {
          "model_module": "@jupyter-widgets/controls",
          "model_module_version": "1.5.0",
          "model_name": "ProgressStyleModel",
          "state": {
            "_model_module": "@jupyter-widgets/controls",
            "_model_module_version": "1.5.0",
            "_model_name": "ProgressStyleModel",
            "_view_count": null,
            "_view_module": "@jupyter-widgets/base",
            "_view_module_version": "1.2.0",
            "_view_name": "StyleView",
            "bar_color": null,
            "description_width": ""
          }
        },
        "3b909d61375146538600b69073b9363c": {
          "model_module": "@jupyter-widgets/controls",
          "model_module_version": "1.5.0",
          "model_name": "HTMLModel",
          "state": {
            "_dom_classes": [],
            "_model_module": "@jupyter-widgets/controls",
            "_model_module_version": "1.5.0",
            "_model_name": "HTMLModel",
            "_view_count": null,
            "_view_module": "@jupyter-widgets/controls",
            "_view_module_version": "1.5.0",
            "_view_name": "HTMLView",
            "description": "",
            "description_tooltip": null,
            "layout": "IPY_MODEL_f280d5cf6d444fd1b237f0f12d82d00c",
            "placeholder": "​",
            "style": "IPY_MODEL_1b6c9cf2a0054d3b9db812ae6757a86c",
            "value": "Map: 100%"
          }
        },
        "3ddc51cf9ab94df7ad677f0a88c2b7cb": {
          "model_module": "@jupyter-widgets/controls",
          "model_module_version": "1.5.0",
          "model_name": "DescriptionStyleModel",
          "state": {
            "_model_module": "@jupyter-widgets/controls",
            "_model_module_version": "1.5.0",
            "_model_name": "DescriptionStyleModel",
            "_view_count": null,
            "_view_module": "@jupyter-widgets/base",
            "_view_module_version": "1.2.0",
            "_view_name": "StyleView",
            "description_width": ""
          }
        },
        "3e4b54f3f3b04c45a33090a3423d01d0": {
          "model_module": "@jupyter-widgets/controls",
          "model_module_version": "1.5.0",
          "model_name": "HTMLModel",
          "state": {
            "_dom_classes": [],
            "_model_module": "@jupyter-widgets/controls",
            "_model_module_version": "1.5.0",
            "_model_name": "HTMLModel",
            "_view_count": null,
            "_view_module": "@jupyter-widgets/controls",
            "_view_module_version": "1.5.0",
            "_view_name": "HTMLView",
            "description": "",
            "description_tooltip": null,
            "layout": "IPY_MODEL_50aaa28d686d4de2a8b1c4f9fae64923",
            "placeholder": "​",
            "style": "IPY_MODEL_983ce0ba3cd04bf4985feb60c9d398b4",
            "value": " 12284/12284 [00:03&lt;00:00, 3994.14 examples/s]"
          }
        },
        "4983b95acd6a43138d719acec2da1ebd": {
          "model_module": "@jupyter-widgets/controls",
          "model_module_version": "1.5.0",
          "model_name": "HBoxModel",
          "state": {
            "_dom_classes": [],
            "_model_module": "@jupyter-widgets/controls",
            "_model_module_version": "1.5.0",
            "_model_name": "HBoxModel",
            "_view_count": null,
            "_view_module": "@jupyter-widgets/controls",
            "_view_module_version": "1.5.0",
            "_view_name": "HBoxView",
            "box_style": "",
            "children": [
              "IPY_MODEL_a8180d4cda0b417ea71e9e93d6d189ba",
              "IPY_MODEL_378cb271e7ff4e1d85938b0f0d59d212",
              "IPY_MODEL_57594e91a6a2404d8248621c0a0570ef"
            ],
            "layout": "IPY_MODEL_8293904fbb544467ba50518dab42a02d"
          }
        },
        "50aaa28d686d4de2a8b1c4f9fae64923": {
          "model_module": "@jupyter-widgets/base",
          "model_module_version": "1.2.0",
          "model_name": "LayoutModel",
          "state": {
            "_model_module": "@jupyter-widgets/base",
            "_model_module_version": "1.2.0",
            "_model_name": "LayoutModel",
            "_view_count": null,
            "_view_module": "@jupyter-widgets/base",
            "_view_module_version": "1.2.0",
            "_view_name": "LayoutView",
            "align_content": null,
            "align_items": null,
            "align_self": null,
            "border": null,
            "bottom": null,
            "display": null,
            "flex": null,
            "flex_flow": null,
            "grid_area": null,
            "grid_auto_columns": null,
            "grid_auto_flow": null,
            "grid_auto_rows": null,
            "grid_column": null,
            "grid_gap": null,
            "grid_row": null,
            "grid_template_areas": null,
            "grid_template_columns": null,
            "grid_template_rows": null,
            "height": null,
            "justify_content": null,
            "justify_items": null,
            "left": null,
            "margin": null,
            "max_height": null,
            "max_width": null,
            "min_height": null,
            "min_width": null,
            "object_fit": null,
            "object_position": null,
            "order": null,
            "overflow": null,
            "overflow_x": null,
            "overflow_y": null,
            "padding": null,
            "right": null,
            "top": null,
            "visibility": null,
            "width": null
          }
        },
        "5678a9b441dd42f19f2db86c334e3609": {
          "model_module": "@jupyter-widgets/controls",
          "model_module_version": "1.5.0",
          "model_name": "DescriptionStyleModel",
          "state": {
            "_model_module": "@jupyter-widgets/controls",
            "_model_module_version": "1.5.0",
            "_model_name": "DescriptionStyleModel",
            "_view_count": null,
            "_view_module": "@jupyter-widgets/base",
            "_view_module_version": "1.2.0",
            "_view_name": "StyleView",
            "description_width": ""
          }
        },
        "57594e91a6a2404d8248621c0a0570ef": {
          "model_module": "@jupyter-widgets/controls",
          "model_module_version": "1.5.0",
          "model_name": "HTMLModel",
          "state": {
            "_dom_classes": [],
            "_model_module": "@jupyter-widgets/controls",
            "_model_module_version": "1.5.0",
            "_model_name": "HTMLModel",
            "_view_count": null,
            "_view_module": "@jupyter-widgets/controls",
            "_view_module_version": "1.5.0",
            "_view_name": "HTMLView",
            "description": "",
            "description_tooltip": null,
            "layout": "IPY_MODEL_02ed3ba5e5f245cc8b9ca854a9244aff",
            "placeholder": "​",
            "style": "IPY_MODEL_57e04faafe4f4f66a08d95edb95ade8b",
            "value": " 5/625 [00:03&lt;07:11,  1.44it/s]"
          }
        },
        "578b332458fd4036960301be61c5ec3e": {
          "model_module": "@jupyter-widgets/base",
          "model_module_version": "1.2.0",
          "model_name": "LayoutModel",
          "state": {
            "_model_module": "@jupyter-widgets/base",
            "_model_module_version": "1.2.0",
            "_model_name": "LayoutModel",
            "_view_count": null,
            "_view_module": "@jupyter-widgets/base",
            "_view_module_version": "1.2.0",
            "_view_name": "LayoutView",
            "align_content": null,
            "align_items": null,
            "align_self": null,
            "border": null,
            "bottom": null,
            "display": null,
            "flex": null,
            "flex_flow": null,
            "grid_area": null,
            "grid_auto_columns": null,
            "grid_auto_flow": null,
            "grid_auto_rows": null,
            "grid_column": null,
            "grid_gap": null,
            "grid_row": null,
            "grid_template_areas": null,
            "grid_template_columns": null,
            "grid_template_rows": null,
            "height": null,
            "justify_content": null,
            "justify_items": null,
            "left": null,
            "margin": null,
            "max_height": null,
            "max_width": null,
            "min_height": null,
            "min_width": null,
            "object_fit": null,
            "object_position": null,
            "order": null,
            "overflow": null,
            "overflow_x": null,
            "overflow_y": null,
            "padding": null,
            "right": null,
            "top": null,
            "visibility": null,
            "width": null
          }
        },
        "57e04faafe4f4f66a08d95edb95ade8b": {
          "model_module": "@jupyter-widgets/controls",
          "model_module_version": "1.5.0",
          "model_name": "DescriptionStyleModel",
          "state": {
            "_model_module": "@jupyter-widgets/controls",
            "_model_module_version": "1.5.0",
            "_model_name": "DescriptionStyleModel",
            "_view_count": null,
            "_view_module": "@jupyter-widgets/base",
            "_view_module_version": "1.2.0",
            "_view_name": "StyleView",
            "description_width": ""
          }
        },
        "5b9fd53bcc514ee3bd66297addb20c2b": {
          "model_module": "@jupyter-widgets/base",
          "model_module_version": "1.2.0",
          "model_name": "LayoutModel",
          "state": {
            "_model_module": "@jupyter-widgets/base",
            "_model_module_version": "1.2.0",
            "_model_name": "LayoutModel",
            "_view_count": null,
            "_view_module": "@jupyter-widgets/base",
            "_view_module_version": "1.2.0",
            "_view_name": "LayoutView",
            "align_content": null,
            "align_items": null,
            "align_self": null,
            "border": null,
            "bottom": null,
            "display": null,
            "flex": null,
            "flex_flow": null,
            "grid_area": null,
            "grid_auto_columns": null,
            "grid_auto_flow": null,
            "grid_auto_rows": null,
            "grid_column": null,
            "grid_gap": null,
            "grid_row": null,
            "grid_template_areas": null,
            "grid_template_columns": null,
            "grid_template_rows": null,
            "height": null,
            "justify_content": null,
            "justify_items": null,
            "left": null,
            "margin": null,
            "max_height": null,
            "max_width": null,
            "min_height": null,
            "min_width": null,
            "object_fit": null,
            "object_position": null,
            "order": null,
            "overflow": null,
            "overflow_x": null,
            "overflow_y": null,
            "padding": null,
            "right": null,
            "top": null,
            "visibility": null,
            "width": null
          }
        },
        "67c8824c5c324218a1a98a6d3a91633a": {
          "model_module": "@jupyter-widgets/controls",
          "model_module_version": "1.5.0",
          "model_name": "DescriptionStyleModel",
          "state": {
            "_model_module": "@jupyter-widgets/controls",
            "_model_module_version": "1.5.0",
            "_model_name": "DescriptionStyleModel",
            "_view_count": null,
            "_view_module": "@jupyter-widgets/base",
            "_view_module_version": "1.2.0",
            "_view_name": "StyleView",
            "description_width": ""
          }
        },
        "68df2f1a51d14b23b4b00ff920dedab9": {
          "model_module": "@jupyter-widgets/base",
          "model_module_version": "1.2.0",
          "model_name": "LayoutModel",
          "state": {
            "_model_module": "@jupyter-widgets/base",
            "_model_module_version": "1.2.0",
            "_model_name": "LayoutModel",
            "_view_count": null,
            "_view_module": "@jupyter-widgets/base",
            "_view_module_version": "1.2.0",
            "_view_name": "LayoutView",
            "align_content": null,
            "align_items": null,
            "align_self": null,
            "border": null,
            "bottom": null,
            "display": null,
            "flex": null,
            "flex_flow": null,
            "grid_area": null,
            "grid_auto_columns": null,
            "grid_auto_flow": null,
            "grid_auto_rows": null,
            "grid_column": null,
            "grid_gap": null,
            "grid_row": null,
            "grid_template_areas": null,
            "grid_template_columns": null,
            "grid_template_rows": null,
            "height": null,
            "justify_content": null,
            "justify_items": null,
            "left": null,
            "margin": null,
            "max_height": null,
            "max_width": null,
            "min_height": null,
            "min_width": null,
            "object_fit": null,
            "object_position": null,
            "order": null,
            "overflow": null,
            "overflow_x": null,
            "overflow_y": null,
            "padding": null,
            "right": null,
            "top": null,
            "visibility": null,
            "width": null
          }
        },
        "71c6cb24bbd8484fb7604b718f94bc3f": {
          "model_module": "@jupyter-widgets/base",
          "model_module_version": "1.2.0",
          "model_name": "LayoutModel",
          "state": {
            "_model_module": "@jupyter-widgets/base",
            "_model_module_version": "1.2.0",
            "_model_name": "LayoutModel",
            "_view_count": null,
            "_view_module": "@jupyter-widgets/base",
            "_view_module_version": "1.2.0",
            "_view_name": "LayoutView",
            "align_content": null,
            "align_items": null,
            "align_self": null,
            "border": null,
            "bottom": null,
            "display": null,
            "flex": null,
            "flex_flow": null,
            "grid_area": null,
            "grid_auto_columns": null,
            "grid_auto_flow": null,
            "grid_auto_rows": null,
            "grid_column": null,
            "grid_gap": null,
            "grid_row": null,
            "grid_template_areas": null,
            "grid_template_columns": null,
            "grid_template_rows": null,
            "height": null,
            "justify_content": null,
            "justify_items": null,
            "left": null,
            "margin": null,
            "max_height": null,
            "max_width": null,
            "min_height": null,
            "min_width": null,
            "object_fit": null,
            "object_position": null,
            "order": null,
            "overflow": null,
            "overflow_x": null,
            "overflow_y": null,
            "padding": null,
            "right": null,
            "top": null,
            "visibility": null,
            "width": null
          }
        },
        "7ff415eb12b64ecdbe71fcbbb65c06f9": {
          "model_module": "@jupyter-widgets/controls",
          "model_module_version": "1.5.0",
          "model_name": "HBoxModel",
          "state": {
            "_dom_classes": [],
            "_model_module": "@jupyter-widgets/controls",
            "_model_module_version": "1.5.0",
            "_model_name": "HBoxModel",
            "_view_count": null,
            "_view_module": "@jupyter-widgets/controls",
            "_view_module_version": "1.5.0",
            "_view_name": "HBoxView",
            "box_style": "",
            "children": [
              "IPY_MODEL_d23ea3bc0e894c1bbeaf69ee0aa80e47",
              "IPY_MODEL_ee74bb530722420baad780db9af4519b",
              "IPY_MODEL_ae3e87b5b64749b08ace07af7c591f13"
            ],
            "layout": "IPY_MODEL_578b332458fd4036960301be61c5ec3e"
          }
        },
        "8293904fbb544467ba50518dab42a02d": {
          "model_module": "@jupyter-widgets/base",
          "model_module_version": "1.2.0",
          "model_name": "LayoutModel",
          "state": {
            "_model_module": "@jupyter-widgets/base",
            "_model_module_version": "1.2.0",
            "_model_name": "LayoutModel",
            "_view_count": null,
            "_view_module": "@jupyter-widgets/base",
            "_view_module_version": "1.2.0",
            "_view_name": "LayoutView",
            "align_content": null,
            "align_items": null,
            "align_self": null,
            "border": null,
            "bottom": null,
            "display": null,
            "flex": null,
            "flex_flow": null,
            "grid_area": null,
            "grid_auto_columns": null,
            "grid_auto_flow": null,
            "grid_auto_rows": null,
            "grid_column": null,
            "grid_gap": null,
            "grid_row": null,
            "grid_template_areas": null,
            "grid_template_columns": null,
            "grid_template_rows": null,
            "height": null,
            "justify_content": null,
            "justify_items": null,
            "left": null,
            "margin": null,
            "max_height": null,
            "max_width": null,
            "min_height": null,
            "min_width": null,
            "object_fit": null,
            "object_position": null,
            "order": null,
            "overflow": null,
            "overflow_x": null,
            "overflow_y": null,
            "padding": null,
            "right": null,
            "top": null,
            "visibility": null,
            "width": null
          }
        },
        "92903f8cb80d4dfdb54f7afc48643eb1": {
          "model_module": "@jupyter-widgets/controls",
          "model_module_version": "1.5.0",
          "model_name": "HTMLModel",
          "state": {
            "_dom_classes": [],
            "_model_module": "@jupyter-widgets/controls",
            "_model_module_version": "1.5.0",
            "_model_name": "HTMLModel",
            "_view_count": null,
            "_view_module": "@jupyter-widgets/controls",
            "_view_module_version": "1.5.0",
            "_view_name": "HTMLView",
            "description": "",
            "description_tooltip": null,
            "layout": "IPY_MODEL_68df2f1a51d14b23b4b00ff920dedab9",
            "placeholder": "​",
            "style": "IPY_MODEL_be695502c8294244a03b26fdff68e1f4",
            "value": " 12284/12284 [00:09&lt;00:00, 1210.31 examples/s]"
          }
        },
        "983ce0ba3cd04bf4985feb60c9d398b4": {
          "model_module": "@jupyter-widgets/controls",
          "model_module_version": "1.5.0",
          "model_name": "DescriptionStyleModel",
          "state": {
            "_model_module": "@jupyter-widgets/controls",
            "_model_module_version": "1.5.0",
            "_model_name": "DescriptionStyleModel",
            "_view_count": null,
            "_view_module": "@jupyter-widgets/base",
            "_view_module_version": "1.2.0",
            "_view_name": "StyleView",
            "description_width": ""
          }
        },
        "9bc4a8b2adfa4f6b91834e51aed368e2": {
          "model_module": "@jupyter-widgets/base",
          "model_module_version": "1.2.0",
          "model_name": "LayoutModel",
          "state": {
            "_model_module": "@jupyter-widgets/base",
            "_model_module_version": "1.2.0",
            "_model_name": "LayoutModel",
            "_view_count": null,
            "_view_module": "@jupyter-widgets/base",
            "_view_module_version": "1.2.0",
            "_view_name": "LayoutView",
            "align_content": null,
            "align_items": null,
            "align_self": null,
            "border": null,
            "bottom": null,
            "display": null,
            "flex": null,
            "flex_flow": null,
            "grid_area": null,
            "grid_auto_columns": null,
            "grid_auto_flow": null,
            "grid_auto_rows": null,
            "grid_column": null,
            "grid_gap": null,
            "grid_row": null,
            "grid_template_areas": null,
            "grid_template_columns": null,
            "grid_template_rows": null,
            "height": null,
            "justify_content": null,
            "justify_items": null,
            "left": null,
            "margin": null,
            "max_height": null,
            "max_width": null,
            "min_height": null,
            "min_width": null,
            "object_fit": null,
            "object_position": null,
            "order": null,
            "overflow": null,
            "overflow_x": null,
            "overflow_y": null,
            "padding": null,
            "right": null,
            "top": null,
            "visibility": null,
            "width": null
          }
        },
        "a164598e043446789e88688037e38d16": {
          "model_module": "@jupyter-widgets/base",
          "model_module_version": "1.2.0",
          "model_name": "LayoutModel",
          "state": {
            "_model_module": "@jupyter-widgets/base",
            "_model_module_version": "1.2.0",
            "_model_name": "LayoutModel",
            "_view_count": null,
            "_view_module": "@jupyter-widgets/base",
            "_view_module_version": "1.2.0",
            "_view_name": "LayoutView",
            "align_content": null,
            "align_items": null,
            "align_self": null,
            "border": null,
            "bottom": null,
            "display": null,
            "flex": null,
            "flex_flow": null,
            "grid_area": null,
            "grid_auto_columns": null,
            "grid_auto_flow": null,
            "grid_auto_rows": null,
            "grid_column": null,
            "grid_gap": null,
            "grid_row": null,
            "grid_template_areas": null,
            "grid_template_columns": null,
            "grid_template_rows": null,
            "height": null,
            "justify_content": null,
            "justify_items": null,
            "left": null,
            "margin": null,
            "max_height": null,
            "max_width": null,
            "min_height": null,
            "min_width": null,
            "object_fit": null,
            "object_position": null,
            "order": null,
            "overflow": null,
            "overflow_x": null,
            "overflow_y": null,
            "padding": null,
            "right": null,
            "top": null,
            "visibility": null,
            "width": null
          }
        },
        "a8180d4cda0b417ea71e9e93d6d189ba": {
          "model_module": "@jupyter-widgets/controls",
          "model_module_version": "1.5.0",
          "model_name": "HTMLModel",
          "state": {
            "_dom_classes": [],
            "_model_module": "@jupyter-widgets/controls",
            "_model_module_version": "1.5.0",
            "_model_name": "HTMLModel",
            "_view_count": null,
            "_view_module": "@jupyter-widgets/controls",
            "_view_module_version": "1.5.0",
            "_view_name": "HTMLView",
            "description": "",
            "description_tooltip": null,
            "layout": "IPY_MODEL_9bc4a8b2adfa4f6b91834e51aed368e2",
            "placeholder": "​",
            "style": "IPY_MODEL_0544636535cb46e0ac6e0f41516f5de8",
            "value": "  1%"
          }
        },
        "acbb92318182447eacd4fb29f5857ba1": {
          "model_module": "@jupyter-widgets/controls",
          "model_module_version": "1.5.0",
          "model_name": "ProgressStyleModel",
          "state": {
            "_model_module": "@jupyter-widgets/controls",
            "_model_module_version": "1.5.0",
            "_model_name": "ProgressStyleModel",
            "_view_count": null,
            "_view_module": "@jupyter-widgets/base",
            "_view_module_version": "1.2.0",
            "_view_name": "StyleView",
            "bar_color": null,
            "description_width": ""
          }
        },
        "ad25cd51e0e148499cb206b9119f08dc": {
          "model_module": "@jupyter-widgets/controls",
          "model_module_version": "1.5.0",
          "model_name": "ProgressStyleModel",
          "state": {
            "_model_module": "@jupyter-widgets/controls",
            "_model_module_version": "1.5.0",
            "_model_name": "ProgressStyleModel",
            "_view_count": null,
            "_view_module": "@jupyter-widgets/base",
            "_view_module_version": "1.2.0",
            "_view_name": "StyleView",
            "bar_color": null,
            "description_width": ""
          }
        },
        "ae3e87b5b64749b08ace07af7c591f13": {
          "model_module": "@jupyter-widgets/controls",
          "model_module_version": "1.5.0",
          "model_name": "HTMLModel",
          "state": {
            "_dom_classes": [],
            "_model_module": "@jupyter-widgets/controls",
            "_model_module_version": "1.5.0",
            "_model_name": "HTMLModel",
            "_view_count": null,
            "_view_module": "@jupyter-widgets/controls",
            "_view_module_version": "1.5.0",
            "_view_name": "HTMLView",
            "description": "",
            "description_tooltip": null,
            "layout": "IPY_MODEL_b2daa44e5df24037ac1f39aee237d71c",
            "placeholder": "​",
            "style": "IPY_MODEL_3ddc51cf9ab94df7ad677f0a88c2b7cb",
            "value": " 123/123 [06:13&lt;00:00,  3.04s/it]"
          }
        },
        "b2daa44e5df24037ac1f39aee237d71c": {
          "model_module": "@jupyter-widgets/base",
          "model_module_version": "1.2.0",
          "model_name": "LayoutModel",
          "state": {
            "_model_module": "@jupyter-widgets/base",
            "_model_module_version": "1.2.0",
            "_model_name": "LayoutModel",
            "_view_count": null,
            "_view_module": "@jupyter-widgets/base",
            "_view_module_version": "1.2.0",
            "_view_name": "LayoutView",
            "align_content": null,
            "align_items": null,
            "align_self": null,
            "border": null,
            "bottom": null,
            "display": null,
            "flex": null,
            "flex_flow": null,
            "grid_area": null,
            "grid_auto_columns": null,
            "grid_auto_flow": null,
            "grid_auto_rows": null,
            "grid_column": null,
            "grid_gap": null,
            "grid_row": null,
            "grid_template_areas": null,
            "grid_template_columns": null,
            "grid_template_rows": null,
            "height": null,
            "justify_content": null,
            "justify_items": null,
            "left": null,
            "margin": null,
            "max_height": null,
            "max_width": null,
            "min_height": null,
            "min_width": null,
            "object_fit": null,
            "object_position": null,
            "order": null,
            "overflow": null,
            "overflow_x": null,
            "overflow_y": null,
            "padding": null,
            "right": null,
            "top": null,
            "visibility": null,
            "width": null
          }
        },
        "b70c2d6297124a88abcab20701eaa816": {
          "model_module": "@jupyter-widgets/controls",
          "model_module_version": "1.5.0",
          "model_name": "DescriptionStyleModel",
          "state": {
            "_model_module": "@jupyter-widgets/controls",
            "_model_module_version": "1.5.0",
            "_model_name": "DescriptionStyleModel",
            "_view_count": null,
            "_view_module": "@jupyter-widgets/base",
            "_view_module_version": "1.2.0",
            "_view_name": "StyleView",
            "description_width": ""
          }
        },
        "be695502c8294244a03b26fdff68e1f4": {
          "model_module": "@jupyter-widgets/controls",
          "model_module_version": "1.5.0",
          "model_name": "DescriptionStyleModel",
          "state": {
            "_model_module": "@jupyter-widgets/controls",
            "_model_module_version": "1.5.0",
            "_model_name": "DescriptionStyleModel",
            "_view_count": null,
            "_view_module": "@jupyter-widgets/base",
            "_view_module_version": "1.2.0",
            "_view_name": "StyleView",
            "description_width": ""
          }
        },
        "c149d716ff824937b06a6ecc3d21d398": {
          "model_module": "@jupyter-widgets/controls",
          "model_module_version": "1.5.0",
          "model_name": "ProgressStyleModel",
          "state": {
            "_model_module": "@jupyter-widgets/controls",
            "_model_module_version": "1.5.0",
            "_model_name": "ProgressStyleModel",
            "_view_count": null,
            "_view_module": "@jupyter-widgets/base",
            "_view_module_version": "1.2.0",
            "_view_name": "StyleView",
            "bar_color": null,
            "description_width": ""
          }
        },
        "c26d3f424f8e4837a29d7fbf856a2423": {
          "model_module": "@jupyter-widgets/controls",
          "model_module_version": "1.5.0",
          "model_name": "HTMLModel",
          "state": {
            "_dom_classes": [],
            "_model_module": "@jupyter-widgets/controls",
            "_model_module_version": "1.5.0",
            "_model_name": "HTMLModel",
            "_view_count": null,
            "_view_module": "@jupyter-widgets/controls",
            "_view_module_version": "1.5.0",
            "_view_name": "HTMLView",
            "description": "",
            "description_tooltip": null,
            "layout": "IPY_MODEL_13ab75a5042246e0b3b2322acf38c667",
            "placeholder": "​",
            "style": "IPY_MODEL_67c8824c5c324218a1a98a6d3a91633a",
            "value": "Batching examples: 100%"
          }
        },
        "c74bb735f3014184af0ca9235d5a90ed": {
          "model_module": "@jupyter-widgets/controls",
          "model_module_version": "1.5.0",
          "model_name": "FloatProgressModel",
          "state": {
            "_dom_classes": [],
            "_model_module": "@jupyter-widgets/controls",
            "_model_module_version": "1.5.0",
            "_model_name": "FloatProgressModel",
            "_view_count": null,
            "_view_module": "@jupyter-widgets/controls",
            "_view_module_version": "1.5.0",
            "_view_name": "ProgressView",
            "bar_style": "success",
            "description": "",
            "description_tooltip": null,
            "layout": "IPY_MODEL_d195aecd01304771ba597a92efaad2a8",
            "max": 12284,
            "min": 0,
            "orientation": "horizontal",
            "style": "IPY_MODEL_3ab4fc92744a4811b28d6550ff19fbc2",
            "value": 12284
          }
        },
        "c936a5cb02464b9e8356d7cacb8dc5d4": {
          "model_module": "@jupyter-widgets/controls",
          "model_module_version": "1.5.0",
          "model_name": "HTMLModel",
          "state": {
            "_dom_classes": [],
            "_model_module": "@jupyter-widgets/controls",
            "_model_module_version": "1.5.0",
            "_model_name": "HTMLModel",
            "_view_count": null,
            "_view_module": "@jupyter-widgets/controls",
            "_view_module_version": "1.5.0",
            "_view_name": "HTMLView",
            "description": "",
            "description_tooltip": null,
            "layout": "IPY_MODEL_0e5f59fdb5234bb89b6ab75cacc14c53",
            "placeholder": "​",
            "style": "IPY_MODEL_b70c2d6297124a88abcab20701eaa816",
            "value": "  1%"
          }
        },
        "c9dbf6811d9c4a5996cbf34eccf5d4f4": {
          "model_module": "@jupyter-widgets/controls",
          "model_module_version": "1.5.0",
          "model_name": "DescriptionStyleModel",
          "state": {
            "_model_module": "@jupyter-widgets/controls",
            "_model_module_version": "1.5.0",
            "_model_name": "DescriptionStyleModel",
            "_view_count": null,
            "_view_module": "@jupyter-widgets/base",
            "_view_module_version": "1.2.0",
            "_view_name": "StyleView",
            "description_width": ""
          }
        },
        "d0257fe707e84b7ea81eed7041d96428": {
          "model_module": "@jupyter-widgets/controls",
          "model_module_version": "1.5.0",
          "model_name": "HBoxModel",
          "state": {
            "_dom_classes": [],
            "_model_module": "@jupyter-widgets/controls",
            "_model_module_version": "1.5.0",
            "_model_name": "HBoxModel",
            "_view_count": null,
            "_view_module": "@jupyter-widgets/controls",
            "_view_module_version": "1.5.0",
            "_view_name": "HBoxView",
            "box_style": "",
            "children": [
              "IPY_MODEL_c936a5cb02464b9e8356d7cacb8dc5d4",
              "IPY_MODEL_315556545aa74e89bd5dddd788e40119",
              "IPY_MODEL_08398fa3c8ce464886122885335400da"
            ],
            "layout": "IPY_MODEL_e4ebedeb5fdf45d6a06cc72de2bad416"
          }
        },
        "d195aecd01304771ba597a92efaad2a8": {
          "model_module": "@jupyter-widgets/base",
          "model_module_version": "1.2.0",
          "model_name": "LayoutModel",
          "state": {
            "_model_module": "@jupyter-widgets/base",
            "_model_module_version": "1.2.0",
            "_model_name": "LayoutModel",
            "_view_count": null,
            "_view_module": "@jupyter-widgets/base",
            "_view_module_version": "1.2.0",
            "_view_name": "LayoutView",
            "align_content": null,
            "align_items": null,
            "align_self": null,
            "border": null,
            "bottom": null,
            "display": null,
            "flex": null,
            "flex_flow": null,
            "grid_area": null,
            "grid_auto_columns": null,
            "grid_auto_flow": null,
            "grid_auto_rows": null,
            "grid_column": null,
            "grid_gap": null,
            "grid_row": null,
            "grid_template_areas": null,
            "grid_template_columns": null,
            "grid_template_rows": null,
            "height": null,
            "justify_content": null,
            "justify_items": null,
            "left": null,
            "margin": null,
            "max_height": null,
            "max_width": null,
            "min_height": null,
            "min_width": null,
            "object_fit": null,
            "object_position": null,
            "order": null,
            "overflow": null,
            "overflow_x": null,
            "overflow_y": null,
            "padding": null,
            "right": null,
            "top": null,
            "visibility": null,
            "width": null
          }
        },
        "d1ea0e10b0a44f19a46e5467014f452d": {
          "model_module": "@jupyter-widgets/base",
          "model_module_version": "1.2.0",
          "model_name": "LayoutModel",
          "state": {
            "_model_module": "@jupyter-widgets/base",
            "_model_module_version": "1.2.0",
            "_model_name": "LayoutModel",
            "_view_count": null,
            "_view_module": "@jupyter-widgets/base",
            "_view_module_version": "1.2.0",
            "_view_name": "LayoutView",
            "align_content": null,
            "align_items": null,
            "align_self": null,
            "border": null,
            "bottom": null,
            "display": null,
            "flex": null,
            "flex_flow": null,
            "grid_area": null,
            "grid_auto_columns": null,
            "grid_auto_flow": null,
            "grid_auto_rows": null,
            "grid_column": null,
            "grid_gap": null,
            "grid_row": null,
            "grid_template_areas": null,
            "grid_template_columns": null,
            "grid_template_rows": null,
            "height": null,
            "justify_content": null,
            "justify_items": null,
            "left": null,
            "margin": null,
            "max_height": null,
            "max_width": null,
            "min_height": null,
            "min_width": null,
            "object_fit": null,
            "object_position": null,
            "order": null,
            "overflow": null,
            "overflow_x": null,
            "overflow_y": null,
            "padding": null,
            "right": null,
            "top": null,
            "visibility": null,
            "width": null
          }
        },
        "d23ea3bc0e894c1bbeaf69ee0aa80e47": {
          "model_module": "@jupyter-widgets/controls",
          "model_module_version": "1.5.0",
          "model_name": "HTMLModel",
          "state": {
            "_dom_classes": [],
            "_model_module": "@jupyter-widgets/controls",
            "_model_module_version": "1.5.0",
            "_model_name": "HTMLModel",
            "_view_count": null,
            "_view_module": "@jupyter-widgets/controls",
            "_view_module_version": "1.5.0",
            "_view_name": "HTMLView",
            "description": "",
            "description_tooltip": null,
            "layout": "IPY_MODEL_f96fb84a7ae14beaab43de7592dcade2",
            "placeholder": "​",
            "style": "IPY_MODEL_5678a9b441dd42f19f2db86c334e3609",
            "value": "100%"
          }
        },
        "de81fb1843d64e6d93899639effa75f9": {
          "model_module": "@jupyter-widgets/base",
          "model_module_version": "1.2.0",
          "model_name": "LayoutModel",
          "state": {
            "_model_module": "@jupyter-widgets/base",
            "_model_module_version": "1.2.0",
            "_model_name": "LayoutModel",
            "_view_count": null,
            "_view_module": "@jupyter-widgets/base",
            "_view_module_version": "1.2.0",
            "_view_name": "LayoutView",
            "align_content": null,
            "align_items": null,
            "align_self": null,
            "border": null,
            "bottom": null,
            "display": null,
            "flex": null,
            "flex_flow": null,
            "grid_area": null,
            "grid_auto_columns": null,
            "grid_auto_flow": null,
            "grid_auto_rows": null,
            "grid_column": null,
            "grid_gap": null,
            "grid_row": null,
            "grid_template_areas": null,
            "grid_template_columns": null,
            "grid_template_rows": null,
            "height": null,
            "justify_content": null,
            "justify_items": null,
            "left": null,
            "margin": null,
            "max_height": null,
            "max_width": null,
            "min_height": null,
            "min_width": null,
            "object_fit": null,
            "object_position": null,
            "order": null,
            "overflow": null,
            "overflow_x": null,
            "overflow_y": null,
            "padding": null,
            "right": null,
            "top": null,
            "visibility": null,
            "width": null
          }
        },
        "ded70cb4f071435bbb95687cc0956c84": {
          "model_module": "@jupyter-widgets/controls",
          "model_module_version": "1.5.0",
          "model_name": "FloatProgressModel",
          "state": {
            "_dom_classes": [],
            "_model_module": "@jupyter-widgets/controls",
            "_model_module_version": "1.5.0",
            "_model_name": "FloatProgressModel",
            "_view_count": null,
            "_view_module": "@jupyter-widgets/controls",
            "_view_module_version": "1.5.0",
            "_view_name": "ProgressView",
            "bar_style": "success",
            "description": "",
            "description_tooltip": null,
            "layout": "IPY_MODEL_5b9fd53bcc514ee3bd66297addb20c2b",
            "max": 12284,
            "min": 0,
            "orientation": "horizontal",
            "style": "IPY_MODEL_21db12e4db9546b38d584f9d6b9f2df5",
            "value": 12284
          }
        },
        "e2c2e84c80494a13a147a9d37d70033d": {
          "model_module": "@jupyter-widgets/base",
          "model_module_version": "1.2.0",
          "model_name": "LayoutModel",
          "state": {
            "_model_module": "@jupyter-widgets/base",
            "_model_module_version": "1.2.0",
            "_model_name": "LayoutModel",
            "_view_count": null,
            "_view_module": "@jupyter-widgets/base",
            "_view_module_version": "1.2.0",
            "_view_name": "LayoutView",
            "align_content": null,
            "align_items": null,
            "align_self": null,
            "border": null,
            "bottom": null,
            "display": null,
            "flex": null,
            "flex_flow": null,
            "grid_area": null,
            "grid_auto_columns": null,
            "grid_auto_flow": null,
            "grid_auto_rows": null,
            "grid_column": null,
            "grid_gap": null,
            "grid_row": null,
            "grid_template_areas": null,
            "grid_template_columns": null,
            "grid_template_rows": null,
            "height": null,
            "justify_content": null,
            "justify_items": null,
            "left": null,
            "margin": null,
            "max_height": null,
            "max_width": null,
            "min_height": null,
            "min_width": null,
            "object_fit": null,
            "object_position": null,
            "order": null,
            "overflow": null,
            "overflow_x": null,
            "overflow_y": null,
            "padding": null,
            "right": null,
            "top": null,
            "visibility": null,
            "width": null
          }
        },
        "e42e986d285f40b595b1d4b949168d73": {
          "model_module": "@jupyter-widgets/base",
          "model_module_version": "1.2.0",
          "model_name": "LayoutModel",
          "state": {
            "_model_module": "@jupyter-widgets/base",
            "_model_module_version": "1.2.0",
            "_model_name": "LayoutModel",
            "_view_count": null,
            "_view_module": "@jupyter-widgets/base",
            "_view_module_version": "1.2.0",
            "_view_name": "LayoutView",
            "align_content": null,
            "align_items": null,
            "align_self": null,
            "border": null,
            "bottom": null,
            "display": null,
            "flex": null,
            "flex_flow": null,
            "grid_area": null,
            "grid_auto_columns": null,
            "grid_auto_flow": null,
            "grid_auto_rows": null,
            "grid_column": null,
            "grid_gap": null,
            "grid_row": null,
            "grid_template_areas": null,
            "grid_template_columns": null,
            "grid_template_rows": null,
            "height": null,
            "justify_content": null,
            "justify_items": null,
            "left": null,
            "margin": null,
            "max_height": null,
            "max_width": null,
            "min_height": null,
            "min_width": null,
            "object_fit": null,
            "object_position": null,
            "order": null,
            "overflow": null,
            "overflow_x": null,
            "overflow_y": null,
            "padding": null,
            "right": null,
            "top": null,
            "visibility": null,
            "width": null
          }
        },
        "e4ebedeb5fdf45d6a06cc72de2bad416": {
          "model_module": "@jupyter-widgets/base",
          "model_module_version": "1.2.0",
          "model_name": "LayoutModel",
          "state": {
            "_model_module": "@jupyter-widgets/base",
            "_model_module_version": "1.2.0",
            "_model_name": "LayoutModel",
            "_view_count": null,
            "_view_module": "@jupyter-widgets/base",
            "_view_module_version": "1.2.0",
            "_view_name": "LayoutView",
            "align_content": null,
            "align_items": null,
            "align_self": null,
            "border": null,
            "bottom": null,
            "display": null,
            "flex": null,
            "flex_flow": null,
            "grid_area": null,
            "grid_auto_columns": null,
            "grid_auto_flow": null,
            "grid_auto_rows": null,
            "grid_column": null,
            "grid_gap": null,
            "grid_row": null,
            "grid_template_areas": null,
            "grid_template_columns": null,
            "grid_template_rows": null,
            "height": null,
            "justify_content": null,
            "justify_items": null,
            "left": null,
            "margin": null,
            "max_height": null,
            "max_width": null,
            "min_height": null,
            "min_width": null,
            "object_fit": null,
            "object_position": null,
            "order": null,
            "overflow": null,
            "overflow_x": null,
            "overflow_y": null,
            "padding": null,
            "right": null,
            "top": null,
            "visibility": null,
            "width": null
          }
        },
        "ee74bb530722420baad780db9af4519b": {
          "model_module": "@jupyter-widgets/controls",
          "model_module_version": "1.5.0",
          "model_name": "FloatProgressModel",
          "state": {
            "_dom_classes": [],
            "_model_module": "@jupyter-widgets/controls",
            "_model_module_version": "1.5.0",
            "_model_name": "FloatProgressModel",
            "_view_count": null,
            "_view_module": "@jupyter-widgets/controls",
            "_view_module_version": "1.5.0",
            "_view_name": "ProgressView",
            "bar_style": "success",
            "description": "",
            "description_tooltip": null,
            "layout": "IPY_MODEL_de81fb1843d64e6d93899639effa75f9",
            "max": 123,
            "min": 0,
            "orientation": "horizontal",
            "style": "IPY_MODEL_ad25cd51e0e148499cb206b9119f08dc",
            "value": 123
          }
        },
        "f23ca989fd224c61b291f62377d327ba": {
          "model_module": "@jupyter-widgets/controls",
          "model_module_version": "1.5.0",
          "model_name": "HBoxModel",
          "state": {
            "_dom_classes": [],
            "_model_module": "@jupyter-widgets/controls",
            "_model_module_version": "1.5.0",
            "_model_name": "HBoxModel",
            "_view_count": null,
            "_view_module": "@jupyter-widgets/controls",
            "_view_module_version": "1.5.0",
            "_view_name": "HBoxView",
            "box_style": "",
            "children": [
              "IPY_MODEL_c26d3f424f8e4837a29d7fbf856a2423",
              "IPY_MODEL_ded70cb4f071435bbb95687cc0956c84",
              "IPY_MODEL_3e4b54f3f3b04c45a33090a3423d01d0"
            ],
            "layout": "IPY_MODEL_71c6cb24bbd8484fb7604b718f94bc3f"
          }
        },
        "f280d5cf6d444fd1b237f0f12d82d00c": {
          "model_module": "@jupyter-widgets/base",
          "model_module_version": "1.2.0",
          "model_name": "LayoutModel",
          "state": {
            "_model_module": "@jupyter-widgets/base",
            "_model_module_version": "1.2.0",
            "_model_name": "LayoutModel",
            "_view_count": null,
            "_view_module": "@jupyter-widgets/base",
            "_view_module_version": "1.2.0",
            "_view_name": "LayoutView",
            "align_content": null,
            "align_items": null,
            "align_self": null,
            "border": null,
            "bottom": null,
            "display": null,
            "flex": null,
            "flex_flow": null,
            "grid_area": null,
            "grid_auto_columns": null,
            "grid_auto_flow": null,
            "grid_auto_rows": null,
            "grid_column": null,
            "grid_gap": null,
            "grid_row": null,
            "grid_template_areas": null,
            "grid_template_columns": null,
            "grid_template_rows": null,
            "height": null,
            "justify_content": null,
            "justify_items": null,
            "left": null,
            "margin": null,
            "max_height": null,
            "max_width": null,
            "min_height": null,
            "min_width": null,
            "object_fit": null,
            "object_position": null,
            "order": null,
            "overflow": null,
            "overflow_x": null,
            "overflow_y": null,
            "padding": null,
            "right": null,
            "top": null,
            "visibility": null,
            "width": null
          }
        },
        "f96fb84a7ae14beaab43de7592dcade2": {
          "model_module": "@jupyter-widgets/base",
          "model_module_version": "1.2.0",
          "model_name": "LayoutModel",
          "state": {
            "_model_module": "@jupyter-widgets/base",
            "_model_module_version": "1.2.0",
            "_model_name": "LayoutModel",
            "_view_count": null,
            "_view_module": "@jupyter-widgets/base",
            "_view_module_version": "1.2.0",
            "_view_name": "LayoutView",
            "align_content": null,
            "align_items": null,
            "align_self": null,
            "border": null,
            "bottom": null,
            "display": null,
            "flex": null,
            "flex_flow": null,
            "grid_area": null,
            "grid_auto_columns": null,
            "grid_auto_flow": null,
            "grid_auto_rows": null,
            "grid_column": null,
            "grid_gap": null,
            "grid_row": null,
            "grid_template_areas": null,
            "grid_template_columns": null,
            "grid_template_rows": null,
            "height": null,
            "justify_content": null,
            "justify_items": null,
            "left": null,
            "margin": null,
            "max_height": null,
            "max_width": null,
            "min_height": null,
            "min_width": null,
            "object_fit": null,
            "object_position": null,
            "order": null,
            "overflow": null,
            "overflow_x": null,
            "overflow_y": null,
            "padding": null,
            "right": null,
            "top": null,
            "visibility": null,
            "width": null
          }
        }
      }
    }
  },
  "nbformat": 4,
  "nbformat_minor": 0
}